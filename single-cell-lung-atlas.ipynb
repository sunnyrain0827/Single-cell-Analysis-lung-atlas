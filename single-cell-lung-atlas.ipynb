{
 "cells": [
  {
   "cell_type": "code",
   "execution_count": 1,
   "id": "ba81a468",
   "metadata": {
    "scrolled": true
   },
   "outputs": [
    {
     "name": "stdout",
     "output_type": "stream",
     "text": [
      "Collecting scanpy\n",
      "  Using cached scanpy-1.9.5-py3-none-any.whl (2.0 MB)\n",
      "Collecting anndata>=0.7.4 (from scanpy)\n",
      "  Downloading anndata-0.10.1-py3-none-any.whl (118 kB)\n",
      "\u001b[2K     \u001b[90m━━━━━━━━━━━━━━━━━━━━━━━━━━━━━━━━━━━━━\u001b[0m \u001b[32m118.4/118.4 kB\u001b[0m \u001b[31m566.7 kB/s\u001b[0m eta \u001b[36m0:00:00\u001b[0ma \u001b[36m0:00:01\u001b[0m\n",
      "\u001b[?25hCollecting numpy>=1.17.0 (from scanpy)\n",
      "  Using cached numpy-1.26.0-cp311-cp311-macosx_10_9_x86_64.whl (20.6 MB)\n",
      "Collecting matplotlib>=3.4 (from scanpy)\n",
      "  Using cached matplotlib-3.8.0-cp311-cp311-macosx_10_12_x86_64.whl (7.6 MB)\n",
      "Collecting pandas>=1.0 (from scanpy)\n",
      "  Using cached pandas-2.1.1-cp311-cp311-macosx_10_9_x86_64.whl (11.6 MB)\n",
      "Collecting scipy>=1.4 (from scanpy)\n",
      "  Using cached scipy-1.11.3-cp311-cp311-macosx_10_9_x86_64.whl (37.2 MB)\n",
      "Collecting seaborn (from scanpy)\n",
      "  Using cached seaborn-0.13.0-py3-none-any.whl (294 kB)\n",
      "Collecting h5py>=3 (from scanpy)\n",
      "  Downloading h5py-3.10.0-cp311-cp311-macosx_10_9_x86_64.whl (3.2 MB)\n",
      "\u001b[2K     \u001b[90m━━━━━━━━━━━━━━━━━━━━━━━━━━━━━━━━━━━━━━━━\u001b[0m \u001b[32m3.2/3.2 MB\u001b[0m \u001b[31m9.3 MB/s\u001b[0m eta \u001b[36m0:00:00\u001b[0m:00:01\u001b[0m0:01\u001b[0m\n",
      "\u001b[?25hRequirement already satisfied: tqdm in /Users/rainsunny/miniconda3/lib/python3.11/site-packages (from scanpy) (4.65.0)\n",
      "Collecting scikit-learn>=0.24 (from scanpy)\n",
      "  Using cached scikit_learn-1.3.1-cp311-cp311-macosx_10_9_x86_64.whl (10.1 MB)\n",
      "Collecting statsmodels>=0.10.0rc2 (from scanpy)\n",
      "  Using cached statsmodels-0.14.0-cp311-cp311-macosx_10_9_x86_64.whl (9.9 MB)\n",
      "Collecting patsy (from scanpy)\n",
      "  Using cached patsy-0.5.3-py2.py3-none-any.whl (233 kB)\n",
      "Collecting networkx>=2.3 (from scanpy)\n",
      "  Using cached networkx-3.1-py3-none-any.whl (2.1 MB)\n",
      "Collecting natsort (from scanpy)\n",
      "  Using cached natsort-8.4.0-py3-none-any.whl (38 kB)\n",
      "Collecting joblib (from scanpy)\n",
      "  Using cached joblib-1.3.2-py3-none-any.whl (302 kB)\n",
      "Collecting numba>=0.41.0 (from scanpy)\n",
      "  Using cached numba-0.58.0-cp311-cp311-macosx_10_9_x86_64.whl (2.6 MB)\n",
      "Collecting umap-learn>=0.3.10 (from scanpy)\n",
      "  Using cached umap_learn-0.5.4-py3-none-any.whl\n",
      "Requirement already satisfied: packaging in /Users/rainsunny/miniconda3/lib/python3.11/site-packages (from scanpy) (23.0)\n",
      "Collecting session-info (from scanpy)\n",
      "  Using cached session_info-1.0.0-py3-none-any.whl\n",
      "Collecting array-api-compat (from anndata>=0.7.4->scanpy)\n",
      "  Using cached array_api_compat-1.4-py3-none-any.whl (29 kB)\n",
      "Collecting contourpy>=1.0.1 (from matplotlib>=3.4->scanpy)\n",
      "  Using cached contourpy-1.1.1-cp311-cp311-macosx_10_9_x86_64.whl (248 kB)\n",
      "Collecting cycler>=0.10 (from matplotlib>=3.4->scanpy)\n",
      "  Downloading cycler-0.12.1-py3-none-any.whl (8.3 kB)\n",
      "Collecting fonttools>=4.22.0 (from matplotlib>=3.4->scanpy)\n",
      "  Using cached fonttools-4.43.1-cp311-cp311-macosx_10_9_x86_64.whl (2.2 MB)\n",
      "Collecting kiwisolver>=1.0.1 (from matplotlib>=3.4->scanpy)\n",
      "  Using cached kiwisolver-1.4.5-cp311-cp311-macosx_10_9_x86_64.whl (68 kB)\n",
      "Collecting pillow>=6.2.0 (from matplotlib>=3.4->scanpy)\n",
      "  Using cached Pillow-10.0.1-cp311-cp311-macosx_10_10_x86_64.whl (3.7 MB)\n",
      "Collecting pyparsing>=2.3.1 (from matplotlib>=3.4->scanpy)\n",
      "  Using cached pyparsing-3.1.1-py3-none-any.whl (103 kB)\n",
      "Requirement already satisfied: python-dateutil>=2.7 in /Users/rainsunny/miniconda3/lib/python3.11/site-packages (from matplotlib>=3.4->scanpy) (2.8.2)\n",
      "Collecting llvmlite<0.42,>=0.41.0dev0 (from numba>=0.41.0->scanpy)\n",
      "  Using cached llvmlite-0.41.0-cp311-cp311-macosx_10_9_x86_64.whl (31.0 MB)\n",
      "Collecting numpy>=1.17.0 (from scanpy)\n",
      "  Using cached numpy-1.25.2-cp311-cp311-macosx_10_9_x86_64.whl (20.8 MB)\n",
      "Collecting pytz>=2020.1 (from pandas>=1.0->scanpy)\n",
      "  Using cached pytz-2023.3.post1-py2.py3-none-any.whl (502 kB)\n",
      "Collecting tzdata>=2022.1 (from pandas>=1.0->scanpy)\n",
      "  Using cached tzdata-2023.3-py2.py3-none-any.whl (341 kB)\n",
      "Collecting threadpoolctl>=2.0.0 (from scikit-learn>=0.24->scanpy)\n",
      "  Using cached threadpoolctl-3.2.0-py3-none-any.whl (15 kB)\n",
      "Requirement already satisfied: six in /Users/rainsunny/miniconda3/lib/python3.11/site-packages (from patsy->scanpy) (1.16.0)\n",
      "Collecting pynndescent>=0.5 (from umap-learn>=0.3.10->scanpy)\n",
      "  Using cached pynndescent-0.5.10-py3-none-any.whl\n",
      "Collecting tbb>=2019.0 (from umap-learn>=0.3.10->scanpy)\n",
      "  Using cached tbb-2021.10.0-py2.py3-none-macosx_10_15_x86_64.macosx_11_0_x86_64.whl (640 kB)\n",
      "Collecting stdlib-list (from session-info->scanpy)\n",
      "  Using cached stdlib_list-0.9.0-py3-none-any.whl (75 kB)\n",
      "Installing collected packages: tbb, pytz, tzdata, threadpoolctl, stdlib-list, pyparsing, pillow, numpy, networkx, natsort, llvmlite, kiwisolver, joblib, fonttools, cycler, array-api-compat, session-info, scipy, patsy, pandas, numba, h5py, contourpy, statsmodels, scikit-learn, matplotlib, anndata, seaborn, pynndescent, umap-learn, scanpy\n",
      "Successfully installed anndata-0.10.1 array-api-compat-1.4 contourpy-1.1.1 cycler-0.12.1 fonttools-4.43.1 h5py-3.10.0 joblib-1.3.2 kiwisolver-1.4.5 llvmlite-0.41.0 matplotlib-3.8.0 natsort-8.4.0 networkx-3.1 numba-0.58.0 numpy-1.25.2 pandas-2.1.1 patsy-0.5.3 pillow-10.0.1 pynndescent-0.5.10 pyparsing-3.1.1 pytz-2023.3.post1 scanpy-1.9.5 scikit-learn-1.3.1 scipy-1.11.3 seaborn-0.13.0 session-info-1.0.0 statsmodels-0.14.0 stdlib-list-0.9.0 tbb-2021.10.0 threadpoolctl-3.2.0 tzdata-2023.3 umap-learn-0.5.4\n"
     ]
    }
   ],
   "source": [
    "!pip3 install scanpy"
   ]
  },
  {
   "cell_type": "code",
   "execution_count": 2,
   "id": "0f2bcbfc",
   "metadata": {},
   "outputs": [],
   "source": [
    "import scanpy as sc"
   ]
  },
  {
   "cell_type": "code",
   "execution_count": 22,
   "id": "a5c49672",
   "metadata": {},
   "outputs": [
    {
     "data": {
      "text/plain": [
       "AnnData object with n_obs × n_vars = 6099 × 34546"
      ]
     },
     "execution_count": 22,
     "metadata": {},
     "output_type": "execute_result"
    }
   ],
   "source": [
    "adata = sc.read_csv('/Users/rainsunny/Desktop/Single-cell-analysis/A molecular single-cell lung atlas of lethal COVID-19/GSM5226574_C51ctr_raw_counts.csv').T\n",
    "adata"
   ]
  },
  {
   "cell_type": "code",
   "execution_count": 23,
   "id": "7e82928f",
   "metadata": {},
   "outputs": [
    {
     "data": {
      "text/plain": [
       "(6099, 34546)"
      ]
     },
     "execution_count": 23,
     "metadata": {},
     "output_type": "execute_result"
    }
   ],
   "source": [
    "adata.X.shape"
   ]
  },
  {
   "cell_type": "markdown",
   "id": "db6c7670",
   "metadata": {},
   "source": [
    "# Remove doublets"
   ]
  },
  {
   "cell_type": "code",
   "execution_count": 5,
   "id": "10269e28",
   "metadata": {
    "scrolled": true
   },
   "outputs": [
    {
     "name": "stdout",
     "output_type": "stream",
     "text": [
      "Collecting scvi-tools\n",
      "  Using cached scvi_tools-1.0.3-py3-none-any.whl (351 kB)\n",
      "Requirement already satisfied: anndata>=0.7.5 in /Users/rainsunny/miniconda3/lib/python3.11/site-packages (from scvi-tools) (0.10.1)\n",
      "Collecting chex<=0.1.8 (from scvi-tools)\n",
      "  Using cached chex-0.1.7-py3-none-any.whl (89 kB)\n",
      "Collecting docrep>=0.3.2 (from scvi-tools)\n",
      "  Using cached docrep-0.3.2-py3-none-any.whl\n",
      "Collecting flax (from scvi-tools)\n",
      "  Using cached flax-0.7.4-py3-none-any.whl (233 kB)\n",
      "Requirement already satisfied: h5py>=2.9.0 in /Users/rainsunny/miniconda3/lib/python3.11/site-packages (from scvi-tools) (3.10.0)\n",
      "Collecting jax>=0.4.4 (from scvi-tools)\n",
      "  Using cached jax-0.4.18-py3-none-any.whl (1.7 MB)\n",
      "Collecting jaxlib>=0.4.3 (from scvi-tools)\n",
      "  Using cached jaxlib-0.4.18-cp311-cp311-macosx_10_14_x86_64.whl (81.9 MB)\n",
      "Collecting lightning<2.1,>=2.0 (from scvi-tools)\n",
      "  Using cached lightning-2.0.9.post0-py3-none-any.whl (1.9 MB)\n",
      "Collecting ml-collections>=0.1.1 (from scvi-tools)\n",
      "  Using cached ml_collections-0.1.1-py3-none-any.whl\n",
      "Collecting mudata>=0.1.2 (from scvi-tools)\n",
      "  Using cached mudata-0.2.3-py3-none-any.whl (24 kB)\n",
      "Requirement already satisfied: numpy>=1.21.0 in /Users/rainsunny/miniconda3/lib/python3.11/site-packages (from scvi-tools) (1.25.2)\n",
      "Collecting numpyro>=0.12.1 (from scvi-tools)\n",
      "  Using cached numpyro-0.13.2-py3-none-any.whl (312 kB)\n",
      "Collecting optax (from scvi-tools)\n",
      "  Using cached optax-0.1.7-py3-none-any.whl (154 kB)\n",
      "Requirement already satisfied: pandas>=1.0 in /Users/rainsunny/miniconda3/lib/python3.11/site-packages (from scvi-tools) (2.1.1)\n",
      "Collecting pyro-ppl>=1.6.0 (from scvi-tools)\n",
      "  Using cached pyro_ppl-1.8.6-py3-none-any.whl (732 kB)\n",
      "Collecting rich>=12.0.0 (from scvi-tools)\n",
      "  Using cached rich-13.6.0-py3-none-any.whl (239 kB)\n",
      "Requirement already satisfied: scikit-learn>=0.21.2 in /Users/rainsunny/miniconda3/lib/python3.11/site-packages (from scvi-tools) (1.3.1)\n",
      "Requirement already satisfied: scipy in /Users/rainsunny/miniconda3/lib/python3.11/site-packages (from scvi-tools) (1.11.3)\n",
      "Collecting sparse>=0.14.0 (from scvi-tools)\n",
      "  Using cached sparse-0.14.0-py2.py3-none-any.whl (80 kB)\n",
      "Collecting torch>=1.8.0 (from scvi-tools)\n",
      "  Using cached torch-2.1.0-cp311-none-macosx_10_9_x86_64.whl (146.7 MB)\n",
      "Collecting torchmetrics>=0.11.0 (from scvi-tools)\n",
      "  Using cached torchmetrics-1.2.0-py3-none-any.whl (805 kB)\n",
      "Requirement already satisfied: tqdm>=4.56.0 in /Users/rainsunny/miniconda3/lib/python3.11/site-packages (from scvi-tools) (4.65.0)\n",
      "Collecting xarray>=2023.2.0 (from scvi-tools)\n",
      "  Using cached xarray-2023.9.0-py3-none-any.whl (1.0 MB)\n",
      "Requirement already satisfied: array-api-compat in /Users/rainsunny/miniconda3/lib/python3.11/site-packages (from anndata>=0.7.5->scvi-tools) (1.4)\n",
      "Requirement already satisfied: natsort in /Users/rainsunny/miniconda3/lib/python3.11/site-packages (from anndata>=0.7.5->scvi-tools) (8.4.0)\n",
      "Requirement already satisfied: packaging>=20 in /Users/rainsunny/miniconda3/lib/python3.11/site-packages (from anndata>=0.7.5->scvi-tools) (23.0)\n",
      "Collecting absl-py>=0.9.0 (from chex<=0.1.8->scvi-tools)\n",
      "  Using cached absl_py-2.0.0-py3-none-any.whl (130 kB)\n",
      "Collecting dm-tree>=0.1.5 (from chex<=0.1.8->scvi-tools)\n",
      "  Using cached dm_tree-0.1.8-cp311-cp311-macosx_10_9_x86_64.whl (115 kB)\n",
      "Requirement already satisfied: toolz>=0.9.0 in /Users/rainsunny/miniconda3/lib/python3.11/site-packages (from chex<=0.1.8->scvi-tools) (0.12.0)\n",
      "Requirement already satisfied: six in /Users/rainsunny/miniconda3/lib/python3.11/site-packages (from docrep>=0.3.2->scvi-tools) (1.16.0)\n",
      "Collecting ml-dtypes>=0.2.0 (from jax>=0.4.4->scvi-tools)\n",
      "  Using cached ml_dtypes-0.3.1-cp311-cp311-macosx_10_9_universal2.whl (348 kB)\n",
      "Collecting opt-einsum (from jax>=0.4.4->scvi-tools)\n",
      "  Using cached opt_einsum-3.3.0-py3-none-any.whl (65 kB)\n",
      "Requirement already satisfied: Jinja2<5.0 in /Users/rainsunny/miniconda3/lib/python3.11/site-packages (from lightning<2.1,>=2.0->scvi-tools) (3.1.2)\n",
      "Collecting PyYAML<8.0 (from lightning<2.1,>=2.0->scvi-tools)\n",
      "  Using cached PyYAML-6.0.1-cp311-cp311-macosx_10_9_x86_64.whl (187 kB)\n",
      "Collecting arrow<3.0,>=1.2.0 (from lightning<2.1,>=2.0->scvi-tools)\n",
      "  Using cached arrow-1.3.0-py3-none-any.whl (66 kB)\n",
      "Collecting backoff<4.0,>=2.2.1 (from lightning<2.1,>=2.0->scvi-tools)\n",
      "  Using cached backoff-2.2.1-py3-none-any.whl (15 kB)\n",
      "Requirement already satisfied: beautifulsoup4<6.0,>=4.8.0 in /Users/rainsunny/miniconda3/lib/python3.11/site-packages (from lightning<2.1,>=2.0->scvi-tools) (4.12.2)\n",
      "Collecting click<10.0 (from lightning<2.1,>=2.0->scvi-tools)\n",
      "  Using cached click-8.1.7-py3-none-any.whl (97 kB)\n",
      "Collecting croniter<1.5.0,>=1.3.0 (from lightning<2.1,>=2.0->scvi-tools)\n",
      "  Using cached croniter-1.4.1-py2.py3-none-any.whl (19 kB)\n",
      "Collecting dateutils<2.0 (from lightning<2.1,>=2.0->scvi-tools)\n",
      "  Using cached dateutils-0.6.12-py2.py3-none-any.whl (5.7 kB)\n",
      "Collecting deepdiff<8.0,>=5.7.0 (from lightning<2.1,>=2.0->scvi-tools)\n",
      "  Using cached deepdiff-6.6.0-py3-none-any.whl (73 kB)\n",
      "Collecting fastapi<2.0,>=0.92.0 (from lightning<2.1,>=2.0->scvi-tools)\n",
      "  Using cached fastapi-0.103.2-py3-none-any.whl (66 kB)\n",
      "Collecting fsspec<2025.0,>=2022.5.0 (from lightning<2.1,>=2.0->scvi-tools)\n",
      "  Using cached fsspec-2023.9.2-py3-none-any.whl (173 kB)\n",
      "Collecting inquirer<5.0,>=2.10.0 (from lightning<2.1,>=2.0->scvi-tools)\n",
      "  Using cached inquirer-3.1.3-py3-none-any.whl (18 kB)\n",
      "Collecting lightning-cloud>=0.5.38 (from lightning<2.1,>=2.0->scvi-tools)\n",
      "  Using cached lightning_cloud-0.5.39-py3-none-any.whl (693 kB)\n",
      "Collecting lightning-utilities<2.0,>=0.7.0 (from lightning<2.1,>=2.0->scvi-tools)\n",
      "  Using cached lightning_utilities-0.9.0-py3-none-any.whl (23 kB)\n",
      "Requirement already satisfied: psutil<7.0 in /Users/rainsunny/miniconda3/lib/python3.11/site-packages (from lightning<2.1,>=2.0->scvi-tools) (5.9.0)\n",
      "Collecting pydantic<2.2.0,>=1.7.4 (from lightning<2.1,>=2.0->scvi-tools)\n",
      "  Using cached pydantic-2.1.1-py3-none-any.whl (370 kB)\n",
      "Collecting python-multipart<2.0,>=0.0.5 (from lightning<2.1,>=2.0->scvi-tools)\n",
      "  Using cached python_multipart-0.0.6-py3-none-any.whl (45 kB)\n",
      "Requirement already satisfied: requests<4.0 in /Users/rainsunny/miniconda3/lib/python3.11/site-packages (from lightning<2.1,>=2.0->scvi-tools) (2.29.0)\n",
      "Collecting starlette (from lightning<2.1,>=2.0->scvi-tools)\n",
      "  Using cached starlette-0.31.1-py3-none-any.whl (69 kB)\n",
      "Collecting starsessions<2.0,>=1.2.1 (from lightning<2.1,>=2.0->scvi-tools)\n",
      "  Using cached starsessions-1.3.0-py3-none-any.whl (10 kB)\n",
      "Requirement already satisfied: traitlets<7.0,>=5.3.0 in /Users/rainsunny/miniconda3/lib/python3.11/site-packages (from lightning<2.1,>=2.0->scvi-tools) (5.7.1)\n",
      "Requirement already satisfied: typing-extensions<6.0,>=4.0.0 in /Users/rainsunny/miniconda3/lib/python3.11/site-packages (from lightning<2.1,>=2.0->scvi-tools) (4.7.1)\n",
      "Requirement already satisfied: urllib3<4.0 in /Users/rainsunny/miniconda3/lib/python3.11/site-packages (from lightning<2.1,>=2.0->scvi-tools) (1.26.16)\n",
      "Collecting uvicorn<2.0 (from lightning<2.1,>=2.0->scvi-tools)\n",
      "  Using cached uvicorn-0.23.2-py3-none-any.whl (59 kB)\n",
      "Requirement already satisfied: websocket-client<3.0 in /Users/rainsunny/miniconda3/lib/python3.11/site-packages (from lightning<2.1,>=2.0->scvi-tools) (0.58.0)\n",
      "Collecting websockets<13.0 (from lightning<2.1,>=2.0->scvi-tools)\n",
      "  Using cached websockets-11.0.3-cp311-cp311-macosx_10_9_x86_64.whl (120 kB)\n",
      "Collecting pytorch-lightning (from lightning<2.1,>=2.0->scvi-tools)\n",
      "  Using cached pytorch_lightning-2.0.9.post0-py3-none-any.whl (727 kB)\n",
      "Collecting contextlib2 (from ml-collections>=0.1.1->scvi-tools)\n",
      "  Using cached contextlib2-21.6.0-py2.py3-none-any.whl (13 kB)\n",
      "Collecting multipledispatch (from numpyro>=0.12.1->scvi-tools)\n",
      "  Using cached multipledispatch-1.0.0-py3-none-any.whl (12 kB)\n",
      "Requirement already satisfied: python-dateutil>=2.8.2 in /Users/rainsunny/miniconda3/lib/python3.11/site-packages (from pandas>=1.0->scvi-tools) (2.8.2)\n",
      "Requirement already satisfied: pytz>=2020.1 in /Users/rainsunny/miniconda3/lib/python3.11/site-packages (from pandas>=1.0->scvi-tools) (2023.3.post1)\n",
      "Requirement already satisfied: tzdata>=2022.1 in /Users/rainsunny/miniconda3/lib/python3.11/site-packages (from pandas>=1.0->scvi-tools) (2023.3)\n"
     ]
    },
    {
     "name": "stdout",
     "output_type": "stream",
     "text": [
      "Collecting pyro-api>=0.1.1 (from pyro-ppl>=1.6.0->scvi-tools)\n",
      "  Using cached pyro_api-0.1.2-py3-none-any.whl (11 kB)\n",
      "Collecting markdown-it-py>=2.2.0 (from rich>=12.0.0->scvi-tools)\n",
      "  Using cached markdown_it_py-3.0.0-py3-none-any.whl (87 kB)\n",
      "Requirement already satisfied: pygments<3.0.0,>=2.13.0 in /Users/rainsunny/miniconda3/lib/python3.11/site-packages (from rich>=12.0.0->scvi-tools) (2.15.1)\n",
      "Requirement already satisfied: joblib>=1.1.1 in /Users/rainsunny/miniconda3/lib/python3.11/site-packages (from scikit-learn>=0.21.2->scvi-tools) (1.3.2)\n",
      "Requirement already satisfied: threadpoolctl>=2.0.0 in /Users/rainsunny/miniconda3/lib/python3.11/site-packages (from scikit-learn>=0.21.2->scvi-tools) (3.2.0)\n",
      "Requirement already satisfied: numba>=0.49 in /Users/rainsunny/miniconda3/lib/python3.11/site-packages (from sparse>=0.14.0->scvi-tools) (0.58.0)\n",
      "Collecting filelock (from torch>=1.8.0->scvi-tools)\n",
      "  Using cached filelock-3.12.4-py3-none-any.whl (11 kB)\n",
      "Collecting sympy (from torch>=1.8.0->scvi-tools)\n",
      "  Using cached sympy-1.12-py3-none-any.whl (5.7 MB)\n",
      "Requirement already satisfied: networkx in /Users/rainsunny/miniconda3/lib/python3.11/site-packages (from torch>=1.8.0->scvi-tools) (3.1)\n",
      "Collecting msgpack (from flax->scvi-tools)\n",
      "  Using cached msgpack-1.0.7-cp311-cp311-macosx_10_9_x86_64.whl (235 kB)\n",
      "Collecting orbax-checkpoint (from flax->scvi-tools)\n",
      "  Using cached orbax_checkpoint-0.4.1-py3-none-any.whl (113 kB)\n",
      "Collecting tensorstore (from flax->scvi-tools)\n",
      "  Using cached tensorstore-0.1.45-cp311-cp311-macosx_10_14_x86_64.whl (14.4 MB)\n",
      "Collecting types-python-dateutil>=2.8.10 (from arrow<3.0,>=1.2.0->lightning<2.1,>=2.0->scvi-tools)\n",
      "  Using cached types_python_dateutil-2.8.19.14-py3-none-any.whl (9.4 kB)\n",
      "Requirement already satisfied: soupsieve>1.2 in /Users/rainsunny/miniconda3/lib/python3.11/site-packages (from beautifulsoup4<6.0,>=4.8.0->lightning<2.1,>=2.0->scvi-tools) (2.5)\n",
      "Collecting ordered-set<4.2.0,>=4.0.2 (from deepdiff<8.0,>=5.7.0->lightning<2.1,>=2.0->scvi-tools)\n",
      "  Using cached ordered_set-4.1.0-py3-none-any.whl (7.6 kB)\n",
      "Collecting anyio<4.0.0,>=3.7.1 (from fastapi<2.0,>=0.92.0->lightning<2.1,>=2.0->scvi-tools)\n",
      "  Using cached anyio-3.7.1-py3-none-any.whl (80 kB)\n",
      "Collecting starlette (from lightning<2.1,>=2.0->scvi-tools)\n",
      "  Using cached starlette-0.27.0-py3-none-any.whl (66 kB)\n",
      "Collecting aiohttp!=4.0.0a0,!=4.0.0a1 (from fsspec<2025.0,>=2022.5.0->lightning<2.1,>=2.0->scvi-tools)\n",
      "  Downloading aiohttp-3.8.6-cp311-cp311-macosx_10_9_x86_64.whl (365 kB)\n",
      "\u001b[2K     \u001b[90m━━━━━━━━━━━━━━━━━━━━━━━━━━━━━━━━━━━━━━━\u001b[0m \u001b[32m365.8/365.8 kB\u001b[0m \u001b[31m1.3 MB/s\u001b[0m eta \u001b[36m0:00:00\u001b[0m00:01\u001b[0m00:01\u001b[0m\n",
      "\u001b[?25hCollecting blessed>=1.19.0 (from inquirer<5.0,>=2.10.0->lightning<2.1,>=2.0->scvi-tools)\n",
      "  Using cached blessed-1.20.0-py2.py3-none-any.whl (58 kB)\n",
      "Collecting python-editor>=1.0.4 (from inquirer<5.0,>=2.10.0->lightning<2.1,>=2.0->scvi-tools)\n",
      "  Using cached python_editor-1.0.4-py3-none-any.whl (4.9 kB)\n",
      "Collecting readchar>=3.0.6 (from inquirer<5.0,>=2.10.0->lightning<2.1,>=2.0->scvi-tools)\n",
      "  Using cached readchar-4.0.5-py3-none-any.whl (8.5 kB)\n",
      "Requirement already satisfied: MarkupSafe>=2.0 in /Users/rainsunny/miniconda3/lib/python3.11/site-packages (from Jinja2<5.0->lightning<2.1,>=2.0->scvi-tools) (2.1.1)\n",
      "Collecting pyjwt (from lightning-cloud>=0.5.38->lightning<2.1,>=2.0->scvi-tools)\n",
      "  Using cached PyJWT-2.8.0-py3-none-any.whl (22 kB)\n",
      "Collecting mdurl~=0.1 (from markdown-it-py>=2.2.0->rich>=12.0.0->scvi-tools)\n",
      "  Using cached mdurl-0.1.2-py3-none-any.whl (10.0 kB)\n",
      "Requirement already satisfied: llvmlite<0.42,>=0.41.0dev0 in /Users/rainsunny/miniconda3/lib/python3.11/site-packages (from numba>=0.49->sparse>=0.14.0->scvi-tools) (0.41.0)\n",
      "Collecting annotated-types>=0.4.0 (from pydantic<2.2.0,>=1.7.4->lightning<2.1,>=2.0->scvi-tools)\n",
      "  Using cached annotated_types-0.6.0-py3-none-any.whl (12 kB)\n",
      "Collecting pydantic-core==2.4.0 (from pydantic<2.2.0,>=1.7.4->lightning<2.1,>=2.0->scvi-tools)\n",
      "  Using cached pydantic_core-2.4.0-cp311-cp311-macosx_10_7_x86_64.whl (1.7 MB)\n",
      "Requirement already satisfied: charset-normalizer<4,>=2 in /Users/rainsunny/miniconda3/lib/python3.11/site-packages (from requests<4.0->lightning<2.1,>=2.0->scvi-tools) (2.0.4)\n",
      "Requirement already satisfied: idna<4,>=2.5 in /Users/rainsunny/miniconda3/lib/python3.11/site-packages (from requests<4.0->lightning<2.1,>=2.0->scvi-tools) (3.4)\n",
      "Requirement already satisfied: certifi>=2017.4.17 in /Users/rainsunny/miniconda3/lib/python3.11/site-packages (from requests<4.0->lightning<2.1,>=2.0->scvi-tools) (2023.7.22)\n",
      "Collecting itsdangerous<3.0.0,>=2.0.1 (from starsessions<2.0,>=1.2.1->lightning<2.1,>=2.0->scvi-tools)\n",
      "  Using cached itsdangerous-2.1.2-py3-none-any.whl (15 kB)\n",
      "Collecting h11>=0.8 (from uvicorn<2.0->lightning<2.1,>=2.0->scvi-tools)\n",
      "  Using cached h11-0.14.0-py3-none-any.whl (58 kB)\n",
      "Collecting etils[epath,epy] (from orbax-checkpoint->flax->scvi-tools)\n",
      "  Using cached etils-1.5.0-py3-none-any.whl (140 kB)\n",
      "Requirement already satisfied: nest_asyncio in /Users/rainsunny/miniconda3/lib/python3.11/site-packages (from orbax-checkpoint->flax->scvi-tools) (1.5.6)\n",
      "Collecting protobuf (from orbax-checkpoint->flax->scvi-tools)\n",
      "  Using cached protobuf-4.24.4-cp37-abi3-macosx_10_9_universal2.whl (409 kB)\n",
      "Collecting mpmath>=0.19 (from sympy->torch>=1.8.0->scvi-tools)\n",
      "  Using cached mpmath-1.3.0-py3-none-any.whl (536 kB)\n",
      "Requirement already satisfied: attrs>=17.3.0 in /Users/rainsunny/miniconda3/lib/python3.11/site-packages (from aiohttp!=4.0.0a0,!=4.0.0a1->fsspec<2025.0,>=2022.5.0->lightning<2.1,>=2.0->scvi-tools) (23.1.0)\n",
      "Collecting multidict<7.0,>=4.5 (from aiohttp!=4.0.0a0,!=4.0.0a1->fsspec<2025.0,>=2022.5.0->lightning<2.1,>=2.0->scvi-tools)\n",
      "  Using cached multidict-6.0.4-cp311-cp311-macosx_10_9_x86_64.whl (29 kB)\n",
      "Collecting async-timeout<5.0,>=4.0.0a3 (from aiohttp!=4.0.0a0,!=4.0.0a1->fsspec<2025.0,>=2022.5.0->lightning<2.1,>=2.0->scvi-tools)\n",
      "  Using cached async_timeout-4.0.3-py3-none-any.whl (5.7 kB)\n",
      "Collecting yarl<2.0,>=1.0 (from aiohttp!=4.0.0a0,!=4.0.0a1->fsspec<2025.0,>=2022.5.0->lightning<2.1,>=2.0->scvi-tools)\n",
      "  Using cached yarl-1.9.2-cp311-cp311-macosx_10_9_x86_64.whl (64 kB)\n",
      "Collecting frozenlist>=1.1.1 (from aiohttp!=4.0.0a0,!=4.0.0a1->fsspec<2025.0,>=2022.5.0->lightning<2.1,>=2.0->scvi-tools)\n",
      "  Using cached frozenlist-1.4.0-cp311-cp311-macosx_10_9_x86_64.whl (47 kB)\n",
      "Collecting aiosignal>=1.1.2 (from aiohttp!=4.0.0a0,!=4.0.0a1->fsspec<2025.0,>=2022.5.0->lightning<2.1,>=2.0->scvi-tools)\n",
      "  Using cached aiosignal-1.3.1-py3-none-any.whl (7.6 kB)\n",
      "Requirement already satisfied: sniffio>=1.1 in /Users/rainsunny/miniconda3/lib/python3.11/site-packages (from anyio<4.0.0,>=3.7.1->fastapi<2.0,>=0.92.0->lightning<2.1,>=2.0->scvi-tools) (1.2.0)\n",
      "Requirement already satisfied: wcwidth>=0.1.4 in /Users/rainsunny/miniconda3/lib/python3.11/site-packages (from blessed>=1.19.0->inquirer<5.0,>=2.10.0->lightning<2.1,>=2.0->scvi-tools) (0.2.5)\n",
      "Requirement already satisfied: setuptools>=41.0 in /Users/rainsunny/miniconda3/lib/python3.11/site-packages (from readchar>=3.0.6->inquirer<5.0,>=2.10.0->lightning<2.1,>=2.0->scvi-tools) (67.8.0)\n",
      "Collecting importlib_resources (from etils[epath,epy]->orbax-checkpoint->flax->scvi-tools)\n",
      "  Using cached importlib_resources-6.1.0-py3-none-any.whl (33 kB)\n",
      "Collecting zipp (from etils[epath,epy]->orbax-checkpoint->flax->scvi-tools)\n",
      "  Using cached zipp-3.17.0-py3-none-any.whl (7.4 kB)\n",
      "Installing collected packages: types-python-dateutil, python-editor, pyro-api, multipledispatch, mpmath, dm-tree, zipp, websockets, tensorstore, sympy, readchar, PyYAML, python-multipart, pyjwt, pydantic-core, protobuf, ordered-set, opt-einsum, multidict, msgpack, ml-dtypes, mdurl, lightning-utilities, itsdangerous, importlib_resources, h11, fsspec, frozenlist, filelock, etils, docrep, contextlib2, click, blessed, backoff, async-timeout, anyio, annotated-types, absl-py, yarl, uvicorn, torch, starlette, sparse, pydantic, ml-collections, markdown-it-py, jaxlib, jax, inquirer, deepdiff, dateutils, croniter, arrow, aiosignal, xarray, torchmetrics, starsessions, rich, pyro-ppl, numpyro, fastapi, chex, aiohttp, orbax-checkpoint, optax, mudata, lightning-cloud, pytorch-lightning, flax, lightning, scvi-tools\n"
     ]
    },
    {
     "name": "stdout",
     "output_type": "stream",
     "text": [
      "  Attempting uninstall: anyio\n",
      "    Found existing installation: anyio 3.5.0\n",
      "    Uninstalling anyio-3.5.0:\n",
      "      Successfully uninstalled anyio-3.5.0\n",
      "Successfully installed PyYAML-6.0.1 absl-py-2.0.0 aiohttp-3.8.6 aiosignal-1.3.1 annotated-types-0.6.0 anyio-3.7.1 arrow-1.3.0 async-timeout-4.0.3 backoff-2.2.1 blessed-1.20.0 chex-0.1.7 click-8.1.7 contextlib2-21.6.0 croniter-1.4.1 dateutils-0.6.12 deepdiff-6.6.0 dm-tree-0.1.8 docrep-0.3.2 etils-1.5.0 fastapi-0.103.2 filelock-3.12.4 flax-0.7.4 frozenlist-1.4.0 fsspec-2023.9.2 h11-0.14.0 importlib_resources-6.1.0 inquirer-3.1.3 itsdangerous-2.1.2 jax-0.4.18 jaxlib-0.4.18 lightning-2.0.9.post0 lightning-cloud-0.5.39 lightning-utilities-0.9.0 markdown-it-py-3.0.0 mdurl-0.1.2 ml-collections-0.1.1 ml-dtypes-0.3.1 mpmath-1.3.0 msgpack-1.0.7 mudata-0.2.3 multidict-6.0.4 multipledispatch-1.0.0 numpyro-0.13.2 opt-einsum-3.3.0 optax-0.1.7 orbax-checkpoint-0.4.1 ordered-set-4.1.0 protobuf-4.24.4 pydantic-2.1.1 pydantic-core-2.4.0 pyjwt-2.8.0 pyro-api-0.1.2 pyro-ppl-1.8.6 python-editor-1.0.4 python-multipart-0.0.6 pytorch-lightning-2.0.9.post0 readchar-4.0.5 rich-13.6.0 scvi-tools-1.0.3 sparse-0.14.0 starlette-0.27.0 starsessions-1.3.0 sympy-1.12 tensorstore-0.1.45 torch-2.1.0 torchmetrics-1.2.0 types-python-dateutil-2.8.19.14 uvicorn-0.23.2 websockets-11.0.3 xarray-2023.9.0 yarl-1.9.2 zipp-3.17.0\n"
     ]
    }
   ],
   "source": [
    "!pip install scvi-tools"
   ]
  },
  {
   "cell_type": "code",
   "execution_count": 9,
   "id": "3d402a3b",
   "metadata": {
    "scrolled": true
   },
   "outputs": [
    {
     "name": "stdout",
     "output_type": "stream",
     "text": [
      "Collecting anndata==0.9.2\n",
      "  Downloading anndata-0.9.2-py3-none-any.whl (104 kB)\n",
      "\u001b[2K     \u001b[90m━━━━━━━━━━━━━━━━━━━━━━━━━━━━━━━━━━━━━\u001b[0m \u001b[32m104.2/104.2 kB\u001b[0m \u001b[31m740.5 kB/s\u001b[0m eta \u001b[36m0:00:00\u001b[0ma \u001b[36m0:00:01\u001b[0m\n",
      "\u001b[?25hRequirement already satisfied: pandas!=2.0.1,>=1.1.1 in /Users/rainsunny/miniconda3/lib/python3.11/site-packages (from anndata==0.9.2) (2.1.1)\n",
      "Requirement already satisfied: numpy>=1.16.5 in /Users/rainsunny/miniconda3/lib/python3.11/site-packages (from anndata==0.9.2) (1.25.2)\n",
      "Requirement already satisfied: scipy>1.4 in /Users/rainsunny/miniconda3/lib/python3.11/site-packages (from anndata==0.9.2) (1.11.3)\n",
      "Requirement already satisfied: h5py>=3 in /Users/rainsunny/miniconda3/lib/python3.11/site-packages (from anndata==0.9.2) (3.10.0)\n",
      "Requirement already satisfied: natsort in /Users/rainsunny/miniconda3/lib/python3.11/site-packages (from anndata==0.9.2) (8.4.0)\n",
      "Requirement already satisfied: packaging>=20 in /Users/rainsunny/miniconda3/lib/python3.11/site-packages (from anndata==0.9.2) (23.0)\n",
      "Requirement already satisfied: python-dateutil>=2.8.2 in /Users/rainsunny/miniconda3/lib/python3.11/site-packages (from pandas!=2.0.1,>=1.1.1->anndata==0.9.2) (2.8.2)\n",
      "Requirement already satisfied: pytz>=2020.1 in /Users/rainsunny/miniconda3/lib/python3.11/site-packages (from pandas!=2.0.1,>=1.1.1->anndata==0.9.2) (2023.3.post1)\n",
      "Requirement already satisfied: tzdata>=2022.1 in /Users/rainsunny/miniconda3/lib/python3.11/site-packages (from pandas!=2.0.1,>=1.1.1->anndata==0.9.2) (2023.3)\n",
      "Requirement already satisfied: six>=1.5 in /Users/rainsunny/miniconda3/lib/python3.11/site-packages (from python-dateutil>=2.8.2->pandas!=2.0.1,>=1.1.1->anndata==0.9.2) (1.16.0)\n",
      "Installing collected packages: anndata\n",
      "Successfully installed anndata-0.9.2\n",
      "Note: you may need to restart the kernel to use updated packages.\n"
     ]
    }
   ],
   "source": [
    "pip install --user anndata==0.9.2"
   ]
  },
  {
   "cell_type": "code",
   "execution_count": 7,
   "id": "43d73d75",
   "metadata": {},
   "outputs": [],
   "source": [
    "import scvi"
   ]
  },
  {
   "cell_type": "code",
   "execution_count": 24,
   "id": "41b2f245",
   "metadata": {},
   "outputs": [
    {
     "name": "stderr",
     "output_type": "stream",
     "text": [
      "/Users/rainsunny/.local/lib/python3.11/site-packages/anndata/_core/anndata.py:1113: FutureWarning: is_categorical_dtype is deprecated and will be removed in a future version. Use isinstance(dtype, CategoricalDtype) instead\n",
      "  if not is_categorical_dtype(df_full[k]):\n"
     ]
    }
   ],
   "source": [
    "#Keep genes that are expressed in at least 10 cells\n",
    "sc.pp.filter_genes(adata, min_cells = 10)"
   ]
  },
  {
   "cell_type": "code",
   "execution_count": 25,
   "id": "9610f1b0",
   "metadata": {},
   "outputs": [
    {
     "data": {
      "text/plain": [
       "AnnData object with n_obs × n_vars = 6099 × 19896\n",
       "    var: 'n_cells'"
      ]
     },
     "execution_count": 25,
     "metadata": {},
     "output_type": "execute_result"
    }
   ],
   "source": [
    "adata"
   ]
  },
  {
   "cell_type": "code",
   "execution_count": 26,
   "id": "9519de5b",
   "metadata": {},
   "outputs": [
    {
     "name": "stderr",
     "output_type": "stream",
     "text": [
      "/Users/rainsunny/.local/lib/python3.11/site-packages/anndata/_core/anndata.py:1113: FutureWarning: is_categorical_dtype is deprecated and will be removed in a future version. Use isinstance(dtype, CategoricalDtype) instead\n",
      "  if not is_categorical_dtype(df_full[k]):\n"
     ]
    }
   ],
   "source": [
    "sc.pp.highly_variable_genes(adata, n_top_genes = 2000, subset = True, flavor = 'seurat_v3')"
   ]
  },
  {
   "cell_type": "code",
   "execution_count": 27,
   "id": "f1566b19",
   "metadata": {},
   "outputs": [
    {
     "data": {
      "text/plain": [
       "AnnData object with n_obs × n_vars = 6099 × 2000\n",
       "    var: 'n_cells', 'highly_variable', 'highly_variable_rank', 'means', 'variances', 'variances_norm'\n",
       "    uns: 'hvg'"
      ]
     },
     "execution_count": 27,
     "metadata": {},
     "output_type": "execute_result"
    }
   ],
   "source": [
    "adata"
   ]
  },
  {
   "cell_type": "markdown",
   "id": "93b5be5f",
   "metadata": {},
   "source": [
    "### Set up a single-cell variational inference model to predict doublets."
   ]
  },
  {
   "cell_type": "code",
   "execution_count": 28,
   "id": "88607482",
   "metadata": {},
   "outputs": [
    {
     "name": "stderr",
     "output_type": "stream",
     "text": [
      "GPU available: False, used: False\n",
      "TPU available: False, using: 0 TPU cores\n",
      "IPU available: False, using: 0 IPUs\n",
      "HPU available: False, using: 0 HPUs\n"
     ]
    },
    {
     "name": "stdout",
     "output_type": "stream",
     "text": [
      "Epoch 400/400: 100%|█| 400/400 [09:00<00:00,  1.21s/it, v_num=1, train_loss_step"
     ]
    },
    {
     "name": "stderr",
     "output_type": "stream",
     "text": [
      "`Trainer.fit` stopped: `max_epochs=400` reached.\n"
     ]
    },
    {
     "name": "stdout",
     "output_type": "stream",
     "text": [
      "Epoch 400/400: 100%|█| 400/400 [09:00<00:00,  1.35s/it, v_num=1, train_loss_step\n"
     ]
    }
   ],
   "source": [
    "scvi.model.SCVI.setup_anndata(adata)\n",
    "vae = scvi.model.SCVI(adata)\n",
    "vae.train()"
   ]
  },
  {
   "cell_type": "code",
   "execution_count": 29,
   "id": "4dded638",
   "metadata": {},
   "outputs": [
    {
     "data": {
      "text/plain": [
       "AnnData object with n_obs × n_vars = 6099 × 2000\n",
       "    obs: '_scvi_batch', '_scvi_labels'\n",
       "    var: 'n_cells', 'highly_variable', 'highly_variable_rank', 'means', 'variances', 'variances_norm'\n",
       "    uns: 'hvg', '_scvi_uuid', '_scvi_manager_uuid'"
      ]
     },
     "execution_count": 29,
     "metadata": {},
     "output_type": "execute_result"
    }
   ],
   "source": [
    "adata"
   ]
  },
  {
   "cell_type": "code",
   "execution_count": 30,
   "id": "1b82c33c",
   "metadata": {},
   "outputs": [
    {
     "name": "stdout",
     "output_type": "stream",
     "text": [
      "\u001b[34mINFO    \u001b[0m Creating doublets, preparing SOLO model.                                                                  \n"
     ]
    },
    {
     "name": "stderr",
     "output_type": "stream",
     "text": [
      "/Users/rainsunny/.local/lib/python3.11/site-packages/anndata/_core/merge.py:217: FutureWarning: is_categorical_dtype is deprecated and will be removed in a future version. Use isinstance(dtype, CategoricalDtype) instead\n",
      "  if pd.api.types.is_categorical_dtype(dtype):\n",
      "GPU available: False, used: False\n",
      "TPU available: False, using: 0 TPU cores\n",
      "IPU available: False, using: 0 IPUs\n",
      "HPU available: False, using: 0 HPUs\n"
     ]
    },
    {
     "name": "stdout",
     "output_type": "stream",
     "text": [
      "Epoch 149/400:  37%|▎| 149/400 [00:46<01:18,  3.20it/s, v_num=1, train_loss_step\n",
      "Monitored metric validation_loss did not improve in the last 30 records. Best score: 0.279. Signaling Trainer to stop.\n"
     ]
    }
   ],
   "source": [
    "solo = scvi.external.SOLO.from_scvi_model(vae)\n",
    "solo.train()"
   ]
  },
  {
   "cell_type": "code",
   "execution_count": 93,
   "id": "f765bed4",
   "metadata": {},
   "outputs": [
    {
     "data": {
      "text/html": [
       "<div>\n",
       "<style scoped>\n",
       "    .dataframe tbody tr th:only-of-type {\n",
       "        vertical-align: middle;\n",
       "    }\n",
       "\n",
       "    .dataframe tbody tr th {\n",
       "        vertical-align: top;\n",
       "    }\n",
       "\n",
       "    .dataframe thead th {\n",
       "        text-align: right;\n",
       "    }\n",
       "</style>\n",
       "<table border=\"1\" class=\"dataframe\">\n",
       "  <thead>\n",
       "    <tr style=\"text-align: right;\">\n",
       "      <th></th>\n",
       "      <th>doublet</th>\n",
       "      <th>singlet</th>\n",
       "      <th>prediction</th>\n",
       "    </tr>\n",
       "  </thead>\n",
       "  <tbody>\n",
       "    <tr>\n",
       "      <th>TAGGTACCATGGCCAC-1</th>\n",
       "      <td>0.836265</td>\n",
       "      <td>-0.771691</td>\n",
       "      <td>doublet</td>\n",
       "    </tr>\n",
       "    <tr>\n",
       "      <th>ATTCACTGTAACAGGC-1</th>\n",
       "      <td>0.764066</td>\n",
       "      <td>-0.731812</td>\n",
       "      <td>doublet</td>\n",
       "    </tr>\n",
       "    <tr>\n",
       "      <th>TAACTTCCAACCACGC-1</th>\n",
       "      <td>0.526558</td>\n",
       "      <td>-0.334789</td>\n",
       "      <td>doublet</td>\n",
       "    </tr>\n",
       "    <tr>\n",
       "      <th>TTGGGTACACGACAAG-1</th>\n",
       "      <td>0.569727</td>\n",
       "      <td>-0.671038</td>\n",
       "      <td>doublet</td>\n",
       "    </tr>\n",
       "    <tr>\n",
       "      <th>AGGCCACAGAGTCACG-1</th>\n",
       "      <td>0.461033</td>\n",
       "      <td>-0.448973</td>\n",
       "      <td>doublet</td>\n",
       "    </tr>\n",
       "    <tr>\n",
       "      <th>...</th>\n",
       "      <td>...</td>\n",
       "      <td>...</td>\n",
       "      <td>...</td>\n",
       "    </tr>\n",
       "    <tr>\n",
       "      <th>CGCCATTGTTTGCCGG-1</th>\n",
       "      <td>-2.138656</td>\n",
       "      <td>2.117129</td>\n",
       "      <td>singlet</td>\n",
       "    </tr>\n",
       "    <tr>\n",
       "      <th>CACTGGGGTCTACGTA-1</th>\n",
       "      <td>-4.365114</td>\n",
       "      <td>3.823682</td>\n",
       "      <td>singlet</td>\n",
       "    </tr>\n",
       "    <tr>\n",
       "      <th>CATACTTGTAGAGGAA-1</th>\n",
       "      <td>-2.739385</td>\n",
       "      <td>2.505024</td>\n",
       "      <td>singlet</td>\n",
       "    </tr>\n",
       "    <tr>\n",
       "      <th>TTTGGTTTCCACGGAC-1</th>\n",
       "      <td>-3.002529</td>\n",
       "      <td>2.726939</td>\n",
       "      <td>singlet</td>\n",
       "    </tr>\n",
       "    <tr>\n",
       "      <th>ATGCATGAGTCATGAA-1</th>\n",
       "      <td>-2.533953</td>\n",
       "      <td>2.693859</td>\n",
       "      <td>singlet</td>\n",
       "    </tr>\n",
       "  </tbody>\n",
       "</table>\n",
       "<p>6099 rows × 3 columns</p>\n",
       "</div>"
      ],
      "text/plain": [
       "                     doublet   singlet prediction\n",
       "TAGGTACCATGGCCAC-1  0.836265 -0.771691    doublet\n",
       "ATTCACTGTAACAGGC-1  0.764066 -0.731812    doublet\n",
       "TAACTTCCAACCACGC-1  0.526558 -0.334789    doublet\n",
       "TTGGGTACACGACAAG-1  0.569727 -0.671038    doublet\n",
       "AGGCCACAGAGTCACG-1  0.461033 -0.448973    doublet\n",
       "...                      ...       ...        ...\n",
       "CGCCATTGTTTGCCGG-1 -2.138656  2.117129    singlet\n",
       "CACTGGGGTCTACGTA-1 -4.365114  3.823682    singlet\n",
       "CATACTTGTAGAGGAA-1 -2.739385  2.505024    singlet\n",
       "TTTGGTTTCCACGGAC-1 -3.002529  2.726939    singlet\n",
       "ATGCATGAGTCATGAA-1 -2.533953  2.693859    singlet\n",
       "\n",
       "[6099 rows x 3 columns]"
      ]
     },
     "execution_count": 93,
     "metadata": {},
     "output_type": "execute_result"
    }
   ],
   "source": [
    "df = solo.predict()\n",
    "df['prediction'] = solo.predict(soft = False)\n",
    "\n",
    "#remove last 2 characters\n",
    "df.index = df.index.map(lambda x: x[:-2])\n",
    "\n",
    "df"
   ]
  },
  {
   "cell_type": "code",
   "execution_count": 127,
   "id": "9d71a8a7",
   "metadata": {},
   "outputs": [
    {
     "data": {
      "text/html": [
       "<div>\n",
       "<style scoped>\n",
       "    .dataframe tbody tr th:only-of-type {\n",
       "        vertical-align: middle;\n",
       "    }\n",
       "\n",
       "    .dataframe tbody tr th {\n",
       "        vertical-align: top;\n",
       "    }\n",
       "\n",
       "    .dataframe thead th {\n",
       "        text-align: right;\n",
       "    }\n",
       "</style>\n",
       "<table border=\"1\" class=\"dataframe\">\n",
       "  <thead>\n",
       "    <tr style=\"text-align: right;\">\n",
       "      <th></th>\n",
       "      <th>doublet</th>\n",
       "      <th>singlet</th>\n",
       "      <th>dif</th>\n",
       "    </tr>\n",
       "    <tr>\n",
       "      <th>prediction</th>\n",
       "      <th></th>\n",
       "      <th></th>\n",
       "      <th></th>\n",
       "    </tr>\n",
       "  </thead>\n",
       "  <tbody>\n",
       "    <tr>\n",
       "      <th>doublet</th>\n",
       "      <td>1293</td>\n",
       "      <td>1293</td>\n",
       "      <td>1293</td>\n",
       "    </tr>\n",
       "    <tr>\n",
       "      <th>singlet</th>\n",
       "      <td>4806</td>\n",
       "      <td>4806</td>\n",
       "      <td>4806</td>\n",
       "    </tr>\n",
       "  </tbody>\n",
       "</table>\n",
       "</div>"
      ],
      "text/plain": [
       "            doublet  singlet   dif\n",
       "prediction                        \n",
       "doublet        1293     1293  1293\n",
       "singlet        4806     4806  4806"
      ]
     },
     "execution_count": 127,
     "metadata": {},
     "output_type": "execute_result"
    }
   ],
   "source": [
    "df.groupby('prediction').count()"
   ]
  },
  {
   "cell_type": "markdown",
   "id": "be3f1082",
   "metadata": {},
   "source": [
    "20% percent of the data was labelled as doublet, check the prediction difference between singlet and doublet."
   ]
  },
  {
   "cell_type": "code",
   "execution_count": 128,
   "id": "cb7e4a70",
   "metadata": {},
   "outputs": [
    {
     "data": {
      "text/html": [
       "<div>\n",
       "<style scoped>\n",
       "    .dataframe tbody tr th:only-of-type {\n",
       "        vertical-align: middle;\n",
       "    }\n",
       "\n",
       "    .dataframe tbody tr th {\n",
       "        vertical-align: top;\n",
       "    }\n",
       "\n",
       "    .dataframe thead th {\n",
       "        text-align: right;\n",
       "    }\n",
       "</style>\n",
       "<table border=\"1\" class=\"dataframe\">\n",
       "  <thead>\n",
       "    <tr style=\"text-align: right;\">\n",
       "      <th></th>\n",
       "      <th>doublet</th>\n",
       "      <th>singlet</th>\n",
       "      <th>prediction</th>\n",
       "      <th>dif</th>\n",
       "    </tr>\n",
       "  </thead>\n",
       "  <tbody>\n",
       "    <tr>\n",
       "      <th>TAGGTACCATGGCCAC-1</th>\n",
       "      <td>0.836265</td>\n",
       "      <td>-0.771691</td>\n",
       "      <td>doublet</td>\n",
       "      <td>1.607956</td>\n",
       "    </tr>\n",
       "    <tr>\n",
       "      <th>ATTCACTGTAACAGGC-1</th>\n",
       "      <td>0.764066</td>\n",
       "      <td>-0.731812</td>\n",
       "      <td>doublet</td>\n",
       "      <td>1.495878</td>\n",
       "    </tr>\n",
       "    <tr>\n",
       "      <th>TAACTTCCAACCACGC-1</th>\n",
       "      <td>0.526558</td>\n",
       "      <td>-0.334789</td>\n",
       "      <td>doublet</td>\n",
       "      <td>0.861347</td>\n",
       "    </tr>\n",
       "    <tr>\n",
       "      <th>TTGGGTACACGACAAG-1</th>\n",
       "      <td>0.569727</td>\n",
       "      <td>-0.671038</td>\n",
       "      <td>doublet</td>\n",
       "      <td>1.240765</td>\n",
       "    </tr>\n",
       "    <tr>\n",
       "      <th>AGGCCACAGAGTCACG-1</th>\n",
       "      <td>0.461033</td>\n",
       "      <td>-0.448973</td>\n",
       "      <td>doublet</td>\n",
       "      <td>0.910005</td>\n",
       "    </tr>\n",
       "    <tr>\n",
       "      <th>...</th>\n",
       "      <td>...</td>\n",
       "      <td>...</td>\n",
       "      <td>...</td>\n",
       "      <td>...</td>\n",
       "    </tr>\n",
       "    <tr>\n",
       "      <th>CGCCATTGTTTGCCGG-1</th>\n",
       "      <td>-2.138656</td>\n",
       "      <td>2.117129</td>\n",
       "      <td>singlet</td>\n",
       "      <td>-4.255785</td>\n",
       "    </tr>\n",
       "    <tr>\n",
       "      <th>CACTGGGGTCTACGTA-1</th>\n",
       "      <td>-4.365114</td>\n",
       "      <td>3.823682</td>\n",
       "      <td>singlet</td>\n",
       "      <td>-8.188795</td>\n",
       "    </tr>\n",
       "    <tr>\n",
       "      <th>CATACTTGTAGAGGAA-1</th>\n",
       "      <td>-2.739385</td>\n",
       "      <td>2.505024</td>\n",
       "      <td>singlet</td>\n",
       "      <td>-5.244409</td>\n",
       "    </tr>\n",
       "    <tr>\n",
       "      <th>TTTGGTTTCCACGGAC-1</th>\n",
       "      <td>-3.002529</td>\n",
       "      <td>2.726939</td>\n",
       "      <td>singlet</td>\n",
       "      <td>-5.729468</td>\n",
       "    </tr>\n",
       "    <tr>\n",
       "      <th>ATGCATGAGTCATGAA-1</th>\n",
       "      <td>-2.533953</td>\n",
       "      <td>2.693859</td>\n",
       "      <td>singlet</td>\n",
       "      <td>-5.227812</td>\n",
       "    </tr>\n",
       "  </tbody>\n",
       "</table>\n",
       "<p>6099 rows × 4 columns</p>\n",
       "</div>"
      ],
      "text/plain": [
       "                     doublet   singlet prediction       dif\n",
       "TAGGTACCATGGCCAC-1  0.836265 -0.771691    doublet  1.607956\n",
       "ATTCACTGTAACAGGC-1  0.764066 -0.731812    doublet  1.495878\n",
       "TAACTTCCAACCACGC-1  0.526558 -0.334789    doublet  0.861347\n",
       "TTGGGTACACGACAAG-1  0.569727 -0.671038    doublet  1.240765\n",
       "AGGCCACAGAGTCACG-1  0.461033 -0.448973    doublet  0.910005\n",
       "...                      ...       ...        ...       ...\n",
       "CGCCATTGTTTGCCGG-1 -2.138656  2.117129    singlet -4.255785\n",
       "CACTGGGGTCTACGTA-1 -4.365114  3.823682    singlet -8.188795\n",
       "CATACTTGTAGAGGAA-1 -2.739385  2.505024    singlet -5.244409\n",
       "TTTGGTTTCCACGGAC-1 -3.002529  2.726939    singlet -5.729468\n",
       "ATGCATGAGTCATGAA-1 -2.533953  2.693859    singlet -5.227812\n",
       "\n",
       "[6099 rows x 4 columns]"
      ]
     },
     "execution_count": 128,
     "metadata": {},
     "output_type": "execute_result"
    }
   ],
   "source": [
    "df['dif'] = df.doublet - df.singlet\n",
    "df"
   ]
  },
  {
   "cell_type": "markdown",
   "id": "ddc05258",
   "metadata": {},
   "source": [
    "### Set threshold to filter doublets by plotting"
   ]
  },
  {
   "cell_type": "code",
   "execution_count": 129,
   "id": "d77fe9d8",
   "metadata": {},
   "outputs": [],
   "source": [
    "import seaborn as sns"
   ]
  },
  {
   "cell_type": "code",
   "execution_count": 130,
   "id": "a3201540",
   "metadata": {},
   "outputs": [
    {
     "data": {
      "text/plain": [
       "<seaborn.axisgrid.FacetGrid at 0x17bae32d0>"
      ]
     },
     "execution_count": 130,
     "metadata": {},
     "output_type": "execute_result"
    },
    {
     "data": {
      "image/png": "[encoded data removed]",
      "text/plain": [
       "<Figure size 500x500 with 1 Axes>"
      ]
     },
     "metadata": {},
     "output_type": "display_data"
    }
   ],
   "source": [
    "sns.displot(df[df.prediction == 'doublet'], x = 'dif')"
   ]
  },
  {
   "cell_type": "code",
   "execution_count": 131,
   "id": "7cac2b01",
   "metadata": {},
   "outputs": [
    {
     "data": {
      "text/html": [
       "<div>\n",
       "<style scoped>\n",
       "    .dataframe tbody tr th:only-of-type {\n",
       "        vertical-align: middle;\n",
       "    }\n",
       "\n",
       "    .dataframe tbody tr th {\n",
       "        vertical-align: top;\n",
       "    }\n",
       "\n",
       "    .dataframe thead th {\n",
       "        text-align: right;\n",
       "    }\n",
       "</style>\n",
       "<table border=\"1\" class=\"dataframe\">\n",
       "  <thead>\n",
       "    <tr style=\"text-align: right;\">\n",
       "      <th></th>\n",
       "      <th>doublet</th>\n",
       "      <th>singlet</th>\n",
       "      <th>prediction</th>\n",
       "      <th>dif</th>\n",
       "    </tr>\n",
       "  </thead>\n",
       "  <tbody>\n",
       "    <tr>\n",
       "      <th>TAGGTACCATGGCCAC-1</th>\n",
       "      <td>0.836265</td>\n",
       "      <td>-0.771691</td>\n",
       "      <td>doublet</td>\n",
       "      <td>1.607956</td>\n",
       "    </tr>\n",
       "    <tr>\n",
       "      <th>ATTCACTGTAACAGGC-1</th>\n",
       "      <td>0.764066</td>\n",
       "      <td>-0.731812</td>\n",
       "      <td>doublet</td>\n",
       "      <td>1.495878</td>\n",
       "    </tr>\n",
       "    <tr>\n",
       "      <th>TTGGGTACACGACAAG-1</th>\n",
       "      <td>0.569727</td>\n",
       "      <td>-0.671038</td>\n",
       "      <td>doublet</td>\n",
       "      <td>1.240765</td>\n",
       "    </tr>\n",
       "    <tr>\n",
       "      <th>CACTGAAGTCGAAGCA-1</th>\n",
       "      <td>0.749298</td>\n",
       "      <td>-0.690887</td>\n",
       "      <td>doublet</td>\n",
       "      <td>1.440185</td>\n",
       "    </tr>\n",
       "    <tr>\n",
       "      <th>ACTGATGTCTGCACCT-1</th>\n",
       "      <td>1.652269</td>\n",
       "      <td>-0.822327</td>\n",
       "      <td>doublet</td>\n",
       "      <td>2.474596</td>\n",
       "    </tr>\n",
       "    <tr>\n",
       "      <th>...</th>\n",
       "      <td>...</td>\n",
       "      <td>...</td>\n",
       "      <td>...</td>\n",
       "      <td>...</td>\n",
       "    </tr>\n",
       "    <tr>\n",
       "      <th>CAATACGCAATGTGGG-1</th>\n",
       "      <td>0.352716</td>\n",
       "      <td>-0.775271</td>\n",
       "      <td>doublet</td>\n",
       "      <td>1.127987</td>\n",
       "    </tr>\n",
       "    <tr>\n",
       "      <th>AACAGGGAGGTCCAGA-1</th>\n",
       "      <td>0.248197</td>\n",
       "      <td>-0.807387</td>\n",
       "      <td>doublet</td>\n",
       "      <td>1.055584</td>\n",
       "    </tr>\n",
       "    <tr>\n",
       "      <th>ATCAGGTGTCGTCTCT-1</th>\n",
       "      <td>0.572280</td>\n",
       "      <td>-0.979497</td>\n",
       "      <td>doublet</td>\n",
       "      <td>1.551777</td>\n",
       "    </tr>\n",
       "    <tr>\n",
       "      <th>CTCCACAGTCCCACGA-1</th>\n",
       "      <td>0.630151</td>\n",
       "      <td>-0.569230</td>\n",
       "      <td>doublet</td>\n",
       "      <td>1.199381</td>\n",
       "    </tr>\n",
       "    <tr>\n",
       "      <th>CAGTTCCGTCTGATCA-1</th>\n",
       "      <td>0.272671</td>\n",
       "      <td>-0.910361</td>\n",
       "      <td>doublet</td>\n",
       "      <td>1.183032</td>\n",
       "    </tr>\n",
       "  </tbody>\n",
       "</table>\n",
       "<p>536 rows × 4 columns</p>\n",
       "</div>"
      ],
      "text/plain": [
       "                     doublet   singlet prediction       dif\n",
       "TAGGTACCATGGCCAC-1  0.836265 -0.771691    doublet  1.607956\n",
       "ATTCACTGTAACAGGC-1  0.764066 -0.731812    doublet  1.495878\n",
       "TTGGGTACACGACAAG-1  0.569727 -0.671038    doublet  1.240765\n",
       "CACTGAAGTCGAAGCA-1  0.749298 -0.690887    doublet  1.440185\n",
       "ACTGATGTCTGCACCT-1  1.652269 -0.822327    doublet  2.474596\n",
       "...                      ...       ...        ...       ...\n",
       "CAATACGCAATGTGGG-1  0.352716 -0.775271    doublet  1.127987\n",
       "AACAGGGAGGTCCAGA-1  0.248197 -0.807387    doublet  1.055584\n",
       "ATCAGGTGTCGTCTCT-1  0.572280 -0.979497    doublet  1.551777\n",
       "CTCCACAGTCCCACGA-1  0.630151 -0.569230    doublet  1.199381\n",
       "CAGTTCCGTCTGATCA-1  0.272671 -0.910361    doublet  1.183032\n",
       "\n",
       "[536 rows x 4 columns]"
      ]
     },
     "execution_count": 131,
     "metadata": {},
     "output_type": "execute_result"
    }
   ],
   "source": [
    "doublets = df[(df.prediction == 'doublet') & (df.dif > 1)]\n",
    "doublets"
   ]
  },
  {
   "cell_type": "code",
   "execution_count": 132,
   "id": "9fc7e029",
   "metadata": {},
   "outputs": [],
   "source": [
    "adata = sc.read_csv('/Users/rainsunny/Desktop/Single-cell-analysis/A molecular single-cell lung atlas of lethal COVID-19/GSM5226574_C51ctr_raw_counts.csv').T"
   ]
  },
  {
   "cell_type": "code",
   "execution_count": 133,
   "id": "14666103",
   "metadata": {},
   "outputs": [],
   "source": [
    "adata.obs['doublet'] = adata.obs.index.isin(doublets.index)"
   ]
  },
  {
   "cell_type": "code",
   "execution_count": 134,
   "id": "fab96bc2",
   "metadata": {},
   "outputs": [
    {
     "data": {
      "text/plain": [
       "Index(['TAGGTACCATGGCCAC-1', 'ATTCACTGTAACAGGC-1', 'TAACTTCCAACCACGC-1',\n",
       "       'TTGGGTACACGACAAG-1', 'AGGCCACAGAGTCACG-1', 'CACTGAAGTCGAAGCA-1',\n",
       "       'ACTGATGTCTGCACCT-1', 'TTACCGCCACTCAGAT-1', 'TTGGTTTTCCTAGCTC-1',\n",
       "       'TGGGAAGTCAGTGATC-1',\n",
       "       ...\n",
       "       'AAGTCGTGTGTGAATA-1', 'GTCGTTCTCCAAGGGA-1', 'GTTTGGATCGGCCTTT-1',\n",
       "       'GTACAGTCACGTATAC-1', 'TCATGCCCAAGAGGTC-1', 'CGCCATTGTTTGCCGG-1',\n",
       "       'CACTGGGGTCTACGTA-1', 'CATACTTGTAGAGGAA-1', 'TTTGGTTTCCACGGAC-1',\n",
       "       'ATGCATGAGTCATGAA-1'],\n",
       "      dtype='object', length=6099)"
      ]
     },
     "execution_count": 134,
     "metadata": {},
     "output_type": "execute_result"
    }
   ],
   "source": [
    "adata.obs.index = adata.obs.index.map(lambda x: x[:-2])\n",
    "adata.obs.index"
   ]
  },
  {
   "cell_type": "code",
   "execution_count": 144,
   "id": "5f662d04",
   "metadata": {},
   "outputs": [
    {
     "name": "stderr",
     "output_type": "stream",
     "text": [
      "/Users/rainsunny/.local/lib/python3.11/site-packages/anndata/_core/anndata.py:1113: FutureWarning: is_categorical_dtype is deprecated and will be removed in a future version. Use isinstance(dtype, CategoricalDtype) instead\n",
      "  if not is_categorical_dtype(df_full[k]):\n"
     ]
    }
   ],
   "source": [
    "adata = adata[~adata.obs['doublet'].index.isin(doublets.index)]"
   ]
  },
  {
   "cell_type": "code",
   "execution_count": 136,
   "id": "2249b0ff",
   "metadata": {},
   "outputs": [],
   "source": [
    "# adata = adata[~adata.obs['doublet'].index.isin(doublets.index)]"
   ]
  },
  {
   "cell_type": "code",
   "execution_count": 145,
   "id": "330c099b",
   "metadata": {},
   "outputs": [
    {
     "data": {
      "text/plain": [
       "View of AnnData object with n_obs × n_vars = 5563 × 34546\n",
       "    obs: 'doublet'\n",
       "    var: 'mt'"
      ]
     },
     "execution_count": 145,
     "metadata": {},
     "output_type": "execute_result"
    }
   ],
   "source": [
    "adata "
   ]
  },
  {
   "cell_type": "markdown",
   "id": "798c71ca",
   "metadata": {},
   "source": [
    "# Data Preprocessing\n",
    "\n",
    "1. Label mitochondrial genes\n",
    "\n",
    "2. Label ribosomal genes\n"
   ]
  },
  {
   "cell_type": "code",
   "execution_count": 146,
   "id": "6826f222",
   "metadata": {},
   "outputs": [
    {
     "name": "stderr",
     "output_type": "stream",
     "text": [
      "/var/folders/ms/zsp9pps95l57cvzgtx5cby3h0000gn/T/ipykernel_46710/310233584.py:1: ImplicitModificationWarning: Trying to modify attribute `.var` of view, initializing view as actual.\n",
      "  adata.var['mt'] = adata.var.index.str.startswith('MT-')\n"
     ]
    }
   ],
   "source": [
    "adata.var['mt'] = adata.var.index.str.startswith('MT-')"
   ]
  },
  {
   "cell_type": "code",
   "execution_count": 163,
   "id": "62e01aca",
   "metadata": {},
   "outputs": [
    {
     "data": {
      "text/plain": [
       "array([False, False, False, ..., False, False, False])"
      ]
     },
     "execution_count": 163,
     "metadata": {},
     "output_type": "execute_result"
    }
   ],
   "source": [
    "adata.var.index.str.startswith('MT-')"
   ]
  },
  {
   "cell_type": "code",
   "execution_count": 165,
   "id": "30faf522",
   "metadata": {},
   "outputs": [
    {
     "data": {
      "text/html": [
       "<div>\n",
       "<style scoped>\n",
       "    .dataframe tbody tr th:only-of-type {\n",
       "        vertical-align: middle;\n",
       "    }\n",
       "\n",
       "    .dataframe tbody tr th {\n",
       "        vertical-align: top;\n",
       "    }\n",
       "\n",
       "    .dataframe thead th {\n",
       "        text-align: right;\n",
       "    }\n",
       "</style>\n",
       "<table border=\"1\" class=\"dataframe\">\n",
       "  <thead>\n",
       "    <tr style=\"text-align: right;\">\n",
       "      <th></th>\n",
       "      <th>mt</th>\n",
       "      <th>ribo</th>\n",
       "      <th>n_cells_by_counts</th>\n",
       "      <th>mean_counts</th>\n",
       "      <th>pct_dropout_by_counts</th>\n",
       "      <th>total_counts</th>\n",
       "      <th>n_cells</th>\n",
       "    </tr>\n",
       "  </thead>\n",
       "  <tbody>\n",
       "    <tr>\n",
       "      <th>AL627309.1</th>\n",
       "      <td>False</td>\n",
       "      <td>False</td>\n",
       "      <td>6</td>\n",
       "      <td>0.001079</td>\n",
       "      <td>99.892145</td>\n",
       "      <td>6.0</td>\n",
       "      <td>6</td>\n",
       "    </tr>\n",
       "    <tr>\n",
       "      <th>AL627309.5</th>\n",
       "      <td>False</td>\n",
       "      <td>False</td>\n",
       "      <td>24</td>\n",
       "      <td>0.004314</td>\n",
       "      <td>99.568578</td>\n",
       "      <td>24.0</td>\n",
       "      <td>24</td>\n",
       "    </tr>\n",
       "    <tr>\n",
       "      <th>AL627309.4</th>\n",
       "      <td>False</td>\n",
       "      <td>False</td>\n",
       "      <td>3</td>\n",
       "      <td>0.000539</td>\n",
       "      <td>99.946072</td>\n",
       "      <td>3.0</td>\n",
       "      <td>3</td>\n",
       "    </tr>\n",
       "    <tr>\n",
       "      <th>LINC01409</th>\n",
       "      <td>False</td>\n",
       "      <td>False</td>\n",
       "      <td>222</td>\n",
       "      <td>0.043681</td>\n",
       "      <td>96.009347</td>\n",
       "      <td>243.0</td>\n",
       "      <td>222</td>\n",
       "    </tr>\n",
       "    <tr>\n",
       "      <th>FAM87B</th>\n",
       "      <td>False</td>\n",
       "      <td>False</td>\n",
       "      <td>6</td>\n",
       "      <td>0.001079</td>\n",
       "      <td>99.892145</td>\n",
       "      <td>6.0</td>\n",
       "      <td>6</td>\n",
       "    </tr>\n",
       "    <tr>\n",
       "      <th>...</th>\n",
       "      <td>...</td>\n",
       "      <td>...</td>\n",
       "      <td>...</td>\n",
       "      <td>...</td>\n",
       "      <td>...</td>\n",
       "      <td>...</td>\n",
       "      <td>...</td>\n",
       "    </tr>\n",
       "    <tr>\n",
       "      <th>AL354822.1</th>\n",
       "      <td>False</td>\n",
       "      <td>False</td>\n",
       "      <td>118</td>\n",
       "      <td>0.021571</td>\n",
       "      <td>97.878842</td>\n",
       "      <td>120.0</td>\n",
       "      <td>118</td>\n",
       "    </tr>\n",
       "    <tr>\n",
       "      <th>AL592183.1</th>\n",
       "      <td>False</td>\n",
       "      <td>False</td>\n",
       "      <td>846</td>\n",
       "      <td>0.179579</td>\n",
       "      <td>84.792378</td>\n",
       "      <td>999.0</td>\n",
       "      <td>846</td>\n",
       "    </tr>\n",
       "    <tr>\n",
       "      <th>AC240274.1</th>\n",
       "      <td>False</td>\n",
       "      <td>False</td>\n",
       "      <td>144</td>\n",
       "      <td>0.026425</td>\n",
       "      <td>97.411469</td>\n",
       "      <td>147.0</td>\n",
       "      <td>144</td>\n",
       "    </tr>\n",
       "    <tr>\n",
       "      <th>AC007325.4</th>\n",
       "      <td>False</td>\n",
       "      <td>False</td>\n",
       "      <td>4</td>\n",
       "      <td>0.000719</td>\n",
       "      <td>99.928096</td>\n",
       "      <td>4.0</td>\n",
       "      <td>4</td>\n",
       "    </tr>\n",
       "    <tr>\n",
       "      <th>AC007325.2</th>\n",
       "      <td>False</td>\n",
       "      <td>False</td>\n",
       "      <td>6</td>\n",
       "      <td>0.001079</td>\n",
       "      <td>99.892145</td>\n",
       "      <td>6.0</td>\n",
       "      <td>6</td>\n",
       "    </tr>\n",
       "  </tbody>\n",
       "</table>\n",
       "<p>24017 rows × 7 columns</p>\n",
       "</div>"
      ],
      "text/plain": [
       "               mt   ribo  n_cells_by_counts  mean_counts  \\\n",
       "AL627309.1  False  False                  6     0.001079   \n",
       "AL627309.5  False  False                 24     0.004314   \n",
       "AL627309.4  False  False                  3     0.000539   \n",
       "LINC01409   False  False                222     0.043681   \n",
       "FAM87B      False  False                  6     0.001079   \n",
       "...           ...    ...                ...          ...   \n",
       "AL354822.1  False  False                118     0.021571   \n",
       "AL592183.1  False  False                846     0.179579   \n",
       "AC240274.1  False  False                144     0.026425   \n",
       "AC007325.4  False  False                  4     0.000719   \n",
       "AC007325.2  False  False                  6     0.001079   \n",
       "\n",
       "            pct_dropout_by_counts  total_counts  n_cells  \n",
       "AL627309.1              99.892145           6.0        6  \n",
       "AL627309.5              99.568578          24.0       24  \n",
       "AL627309.4              99.946072           3.0        3  \n",
       "LINC01409               96.009347         243.0      222  \n",
       "FAM87B                  99.892145           6.0        6  \n",
       "...                           ...           ...      ...  \n",
       "AL354822.1              97.878842         120.0      118  \n",
       "AL592183.1              84.792378         999.0      846  \n",
       "AC240274.1              97.411469         147.0      144  \n",
       "AC007325.4              99.928096           4.0        4  \n",
       "AC007325.2              99.892145           6.0        6  \n",
       "\n",
       "[24017 rows x 7 columns]"
      ]
     },
     "execution_count": 165,
     "metadata": {},
     "output_type": "execute_result"
    }
   ],
   "source": [
    "adata.var"
   ]
  },
  {
   "cell_type": "code",
   "execution_count": 148,
   "id": "3b85c8f2",
   "metadata": {},
   "outputs": [],
   "source": [
    "import pandas as pd"
   ]
  },
  {
   "cell_type": "code",
   "execution_count": 149,
   "id": "5246f1a6",
   "metadata": {},
   "outputs": [],
   "source": [
    "ribo_url = \"http://software.broadinstitute.org/gsea/msigdb/download_geneset.jsp?geneSetName=KEGG_RIBOSOME&fileType=txt\""
   ]
  },
  {
   "cell_type": "code",
   "execution_count": 150,
   "id": "8ad8db5d",
   "metadata": {},
   "outputs": [
    {
     "data": {
      "text/html": [
       "<div>\n",
       "<style scoped>\n",
       "    .dataframe tbody tr th:only-of-type {\n",
       "        vertical-align: middle;\n",
       "    }\n",
       "\n",
       "    .dataframe tbody tr th {\n",
       "        vertical-align: top;\n",
       "    }\n",
       "\n",
       "    .dataframe thead th {\n",
       "        text-align: right;\n",
       "    }\n",
       "</style>\n",
       "<table border=\"1\" class=\"dataframe\">\n",
       "  <thead>\n",
       "    <tr style=\"text-align: right;\">\n",
       "      <th></th>\n",
       "      <th>0</th>\n",
       "    </tr>\n",
       "  </thead>\n",
       "  <tbody>\n",
       "    <tr>\n",
       "      <th>0</th>\n",
       "      <td>FAU</td>\n",
       "    </tr>\n",
       "    <tr>\n",
       "      <th>1</th>\n",
       "      <td>MRPL13</td>\n",
       "    </tr>\n",
       "    <tr>\n",
       "      <th>2</th>\n",
       "      <td>RPL10</td>\n",
       "    </tr>\n",
       "    <tr>\n",
       "      <th>3</th>\n",
       "      <td>RPL10A</td>\n",
       "    </tr>\n",
       "    <tr>\n",
       "      <th>4</th>\n",
       "      <td>RPL10L</td>\n",
       "    </tr>\n",
       "    <tr>\n",
       "      <th>...</th>\n",
       "      <td>...</td>\n",
       "    </tr>\n",
       "    <tr>\n",
       "      <th>83</th>\n",
       "      <td>RPS9</td>\n",
       "    </tr>\n",
       "    <tr>\n",
       "      <th>84</th>\n",
       "      <td>RPSA</td>\n",
       "    </tr>\n",
       "    <tr>\n",
       "      <th>85</th>\n",
       "      <td>RSL24D1</td>\n",
       "    </tr>\n",
       "    <tr>\n",
       "      <th>86</th>\n",
       "      <td>RSL24D1P11</td>\n",
       "    </tr>\n",
       "    <tr>\n",
       "      <th>87</th>\n",
       "      <td>UBA52</td>\n",
       "    </tr>\n",
       "  </tbody>\n",
       "</table>\n",
       "<p>88 rows × 1 columns</p>\n",
       "</div>"
      ],
      "text/plain": [
       "             0\n",
       "0          FAU\n",
       "1       MRPL13\n",
       "2        RPL10\n",
       "3       RPL10A\n",
       "4       RPL10L\n",
       "..         ...\n",
       "83        RPS9\n",
       "84        RPSA\n",
       "85     RSL24D1\n",
       "86  RSL24D1P11\n",
       "87       UBA52\n",
       "\n",
       "[88 rows x 1 columns]"
      ]
     },
     "execution_count": 150,
     "metadata": {},
     "output_type": "execute_result"
    }
   ],
   "source": [
    "ribo_genes = pd.read_table(ribo_url, skiprows=2, header = None)\n",
    "ribo_genes"
   ]
  },
  {
   "cell_type": "code",
   "execution_count": 169,
   "id": "4e92dc0b",
   "metadata": {},
   "outputs": [
    {
     "data": {
      "text/plain": [
       "array(['FAU', 'MRPL13', 'RPL10', 'RPL10A', 'RPL10L', 'RPL11', 'RPL12',\n",
       "       'RPL13', 'RPL13A', 'RPL14', 'RPL15', 'RPL17', 'RPL18', 'RPL18A',\n",
       "       'RPL19', 'RPL21', 'RPL22', 'RPL22L1', 'RPL23', 'RPL23A', 'RPL24',\n",
       "       'RPL26', 'RPL26L1', 'RPL27', 'RPL27A', 'RPL28', 'RPL29', 'RPL3',\n",
       "       'RPL30', 'RPL31', 'RPL32', 'RPL34', 'RPL35', 'RPL35A', 'RPL36',\n",
       "       'RPL36A', 'RPL36AL', 'RPL37', 'RPL37A', 'RPL38', 'RPL39', 'RPL3L',\n",
       "       'RPL4', 'RPL41', 'RPL5', 'RPL6', 'RPL7', 'RPL7A', 'RPL8', 'RPL9',\n",
       "       'RPLP0', 'RPLP1', 'RPLP2', 'RPS10', 'RPS11', 'RPS12', 'RPS13',\n",
       "       'RPS15', 'RPS15A', 'RPS16', 'RPS17', 'RPS18', 'RPS19', 'RPS2',\n",
       "       'RPS20', 'RPS21', 'RPS23', 'RPS24', 'RPS25', 'RPS26', 'RPS27',\n",
       "       'RPS27A', 'RPS27L', 'RPS28', 'RPS29', 'RPS3', 'RPS3A', 'RPS4X',\n",
       "       'RPS4Y1', 'RPS5', 'RPS6', 'RPS7', 'RPS8', 'RPS9', 'RPSA',\n",
       "       'RSL24D1', 'RSL24D1P11', 'UBA52'], dtype=object)"
      ]
     },
     "execution_count": 169,
     "metadata": {},
     "output_type": "execute_result"
    }
   ],
   "source": [
    "ribo_genes[0].values"
   ]
  },
  {
   "cell_type": "code",
   "execution_count": 151,
   "id": "cadebd9c",
   "metadata": {},
   "outputs": [],
   "source": [
    "adata.var['ribo'] = adata.var_names.isin(ribo_genes[0].values)"
   ]
  },
  {
   "cell_type": "code",
   "execution_count": 172,
   "id": "c9c9bd17",
   "metadata": {},
   "outputs": [
    {
     "data": {
      "text/html": [
       "<div>\n",
       "<style scoped>\n",
       "    .dataframe tbody tr th:only-of-type {\n",
       "        vertical-align: middle;\n",
       "    }\n",
       "\n",
       "    .dataframe tbody tr th {\n",
       "        vertical-align: top;\n",
       "    }\n",
       "\n",
       "    .dataframe thead th {\n",
       "        text-align: right;\n",
       "    }\n",
       "</style>\n",
       "<table border=\"1\" class=\"dataframe\">\n",
       "  <thead>\n",
       "    <tr style=\"text-align: right;\">\n",
       "      <th></th>\n",
       "      <th>doublet</th>\n",
       "      <th>n_genes_by_counts</th>\n",
       "      <th>total_counts</th>\n",
       "      <th>total_counts_mt</th>\n",
       "      <th>pct_counts_mt</th>\n",
       "      <th>total_counts_ribo</th>\n",
       "      <th>pct_counts_ribo</th>\n",
       "    </tr>\n",
       "  </thead>\n",
       "  <tbody>\n",
       "    <tr>\n",
       "      <th>TAACTTCCAACCACGC-1</th>\n",
       "      <td>False</td>\n",
       "      <td>5158</td>\n",
       "      <td>15645.0</td>\n",
       "      <td>221.0</td>\n",
       "      <td>1.412592</td>\n",
       "      <td>211.0</td>\n",
       "      <td>1.348674</td>\n",
       "    </tr>\n",
       "    <tr>\n",
       "      <th>AGGCCACAGAGTCACG-1</th>\n",
       "      <td>False</td>\n",
       "      <td>5544</td>\n",
       "      <td>13217.0</td>\n",
       "      <td>417.0</td>\n",
       "      <td>3.155028</td>\n",
       "      <td>82.0</td>\n",
       "      <td>0.620413</td>\n",
       "    </tr>\n",
       "    <tr>\n",
       "      <th>TTACCGCCACTCAGAT-1</th>\n",
       "      <td>False</td>\n",
       "      <td>4144</td>\n",
       "      <td>11369.0</td>\n",
       "      <td>39.0</td>\n",
       "      <td>0.343038</td>\n",
       "      <td>5.0</td>\n",
       "      <td>0.043979</td>\n",
       "    </tr>\n",
       "    <tr>\n",
       "      <th>TTGGTTTTCCTAGCTC-1</th>\n",
       "      <td>False</td>\n",
       "      <td>3902</td>\n",
       "      <td>11472.0</td>\n",
       "      <td>463.0</td>\n",
       "      <td>4.035913</td>\n",
       "      <td>13.0</td>\n",
       "      <td>0.113319</td>\n",
       "    </tr>\n",
       "    <tr>\n",
       "      <th>TGGGAAGTCAGTGATC-1</th>\n",
       "      <td>False</td>\n",
       "      <td>4719</td>\n",
       "      <td>11238.0</td>\n",
       "      <td>92.0</td>\n",
       "      <td>0.818651</td>\n",
       "      <td>11.0</td>\n",
       "      <td>0.097882</td>\n",
       "    </tr>\n",
       "    <tr>\n",
       "      <th>...</th>\n",
       "      <td>...</td>\n",
       "      <td>...</td>\n",
       "      <td>...</td>\n",
       "      <td>...</td>\n",
       "      <td>...</td>\n",
       "      <td>...</td>\n",
       "      <td>...</td>\n",
       "    </tr>\n",
       "    <tr>\n",
       "      <th>CGCCATTGTTTGCCGG-1</th>\n",
       "      <td>False</td>\n",
       "      <td>355</td>\n",
       "      <td>410.0</td>\n",
       "      <td>3.0</td>\n",
       "      <td>0.731707</td>\n",
       "      <td>0.0</td>\n",
       "      <td>0.000000</td>\n",
       "    </tr>\n",
       "    <tr>\n",
       "      <th>CACTGGGGTCTACGTA-1</th>\n",
       "      <td>False</td>\n",
       "      <td>346</td>\n",
       "      <td>403.0</td>\n",
       "      <td>0.0</td>\n",
       "      <td>0.000000</td>\n",
       "      <td>0.0</td>\n",
       "      <td>0.000000</td>\n",
       "    </tr>\n",
       "    <tr>\n",
       "      <th>CATACTTGTAGAGGAA-1</th>\n",
       "      <td>False</td>\n",
       "      <td>360</td>\n",
       "      <td>410.0</td>\n",
       "      <td>2.0</td>\n",
       "      <td>0.487805</td>\n",
       "      <td>0.0</td>\n",
       "      <td>0.000000</td>\n",
       "    </tr>\n",
       "    <tr>\n",
       "      <th>TTTGGTTTCCACGGAC-1</th>\n",
       "      <td>False</td>\n",
       "      <td>299</td>\n",
       "      <td>405.0</td>\n",
       "      <td>0.0</td>\n",
       "      <td>0.000000</td>\n",
       "      <td>2.0</td>\n",
       "      <td>0.493827</td>\n",
       "    </tr>\n",
       "    <tr>\n",
       "      <th>ATGCATGAGTCATGAA-1</th>\n",
       "      <td>False</td>\n",
       "      <td>351</td>\n",
       "      <td>411.0</td>\n",
       "      <td>0.0</td>\n",
       "      <td>0.000000</td>\n",
       "      <td>0.0</td>\n",
       "      <td>0.000000</td>\n",
       "    </tr>\n",
       "  </tbody>\n",
       "</table>\n",
       "<p>5563 rows × 7 columns</p>\n",
       "</div>"
      ],
      "text/plain": [
       "                    doublet  n_genes_by_counts  total_counts  total_counts_mt  \\\n",
       "TAACTTCCAACCACGC-1    False               5158       15645.0            221.0   \n",
       "AGGCCACAGAGTCACG-1    False               5544       13217.0            417.0   \n",
       "TTACCGCCACTCAGAT-1    False               4144       11369.0             39.0   \n",
       "TTGGTTTTCCTAGCTC-1    False               3902       11472.0            463.0   \n",
       "TGGGAAGTCAGTGATC-1    False               4719       11238.0             92.0   \n",
       "...                     ...                ...           ...              ...   \n",
       "CGCCATTGTTTGCCGG-1    False                355         410.0              3.0   \n",
       "CACTGGGGTCTACGTA-1    False                346         403.0              0.0   \n",
       "CATACTTGTAGAGGAA-1    False                360         410.0              2.0   \n",
       "TTTGGTTTCCACGGAC-1    False                299         405.0              0.0   \n",
       "ATGCATGAGTCATGAA-1    False                351         411.0              0.0   \n",
       "\n",
       "                    pct_counts_mt  total_counts_ribo  pct_counts_ribo  \n",
       "TAACTTCCAACCACGC-1       1.412592              211.0         1.348674  \n",
       "AGGCCACAGAGTCACG-1       3.155028               82.0         0.620413  \n",
       "TTACCGCCACTCAGAT-1       0.343038                5.0         0.043979  \n",
       "TTGGTTTTCCTAGCTC-1       4.035913               13.0         0.113319  \n",
       "TGGGAAGTCAGTGATC-1       0.818651               11.0         0.097882  \n",
       "...                           ...                ...              ...  \n",
       "CGCCATTGTTTGCCGG-1       0.731707                0.0         0.000000  \n",
       "CACTGGGGTCTACGTA-1       0.000000                0.0         0.000000  \n",
       "CATACTTGTAGAGGAA-1       0.487805                0.0         0.000000  \n",
       "TTTGGTTTCCACGGAC-1       0.000000                2.0         0.493827  \n",
       "ATGCATGAGTCATGAA-1       0.000000                0.0         0.000000  \n",
       "\n",
       "[5563 rows x 7 columns]"
      ]
     },
     "execution_count": 172,
     "metadata": {},
     "output_type": "execute_result"
    }
   ],
   "source": [
    "adata.obs"
   ]
  },
  {
   "cell_type": "markdown",
   "id": "feaf5158",
   "metadata": {},
   "source": [
    "### Quality Control \n",
    "\n",
    "Filter the outliers"
   ]
  },
  {
   "cell_type": "code",
   "execution_count": 153,
   "id": "21056d75",
   "metadata": {},
   "outputs": [],
   "source": [
    "sc.pp.calculate_qc_metrics(adata, qc_vars=['mt', 'ribo'], percent_top=None, log1p=False, inplace=True)"
   ]
  },
  {
   "cell_type": "code",
   "execution_count": 154,
   "id": "8b285fbc",
   "metadata": {},
   "outputs": [
    {
     "data": {
      "text/html": [
       "<div>\n",
       "<style scoped>\n",
       "    .dataframe tbody tr th:only-of-type {\n",
       "        vertical-align: middle;\n",
       "    }\n",
       "\n",
       "    .dataframe tbody tr th {\n",
       "        vertical-align: top;\n",
       "    }\n",
       "\n",
       "    .dataframe thead th {\n",
       "        text-align: right;\n",
       "    }\n",
       "</style>\n",
       "<table border=\"1\" class=\"dataframe\">\n",
       "  <thead>\n",
       "    <tr style=\"text-align: right;\">\n",
       "      <th></th>\n",
       "      <th>mt</th>\n",
       "      <th>ribo</th>\n",
       "      <th>n_cells_by_counts</th>\n",
       "      <th>mean_counts</th>\n",
       "      <th>pct_dropout_by_counts</th>\n",
       "      <th>total_counts</th>\n",
       "    </tr>\n",
       "  </thead>\n",
       "  <tbody>\n",
       "    <tr>\n",
       "      <th>AL445072.1</th>\n",
       "      <td>False</td>\n",
       "      <td>False</td>\n",
       "      <td>0</td>\n",
       "      <td>0.000000</td>\n",
       "      <td>100.000000</td>\n",
       "      <td>0.0</td>\n",
       "    </tr>\n",
       "    <tr>\n",
       "      <th>AC099329.2</th>\n",
       "      <td>False</td>\n",
       "      <td>False</td>\n",
       "      <td>0</td>\n",
       "      <td>0.000000</td>\n",
       "      <td>100.000000</td>\n",
       "      <td>0.0</td>\n",
       "    </tr>\n",
       "    <tr>\n",
       "      <th>AC006058.2</th>\n",
       "      <td>False</td>\n",
       "      <td>False</td>\n",
       "      <td>0</td>\n",
       "      <td>0.000000</td>\n",
       "      <td>100.000000</td>\n",
       "      <td>0.0</td>\n",
       "    </tr>\n",
       "    <tr>\n",
       "      <th>FAM240A</th>\n",
       "      <td>False</td>\n",
       "      <td>False</td>\n",
       "      <td>0</td>\n",
       "      <td>0.000000</td>\n",
       "      <td>100.000000</td>\n",
       "      <td>0.0</td>\n",
       "    </tr>\n",
       "    <tr>\n",
       "      <th>AC012087.2</th>\n",
       "      <td>False</td>\n",
       "      <td>False</td>\n",
       "      <td>0</td>\n",
       "      <td>0.000000</td>\n",
       "      <td>100.000000</td>\n",
       "      <td>0.0</td>\n",
       "    </tr>\n",
       "    <tr>\n",
       "      <th>...</th>\n",
       "      <td>...</td>\n",
       "      <td>...</td>\n",
       "      <td>...</td>\n",
       "      <td>...</td>\n",
       "      <td>...</td>\n",
       "      <td>...</td>\n",
       "    </tr>\n",
       "    <tr>\n",
       "      <th>AKAP13</th>\n",
       "      <td>False</td>\n",
       "      <td>False</td>\n",
       "      <td>3981</td>\n",
       "      <td>2.885494</td>\n",
       "      <td>28.437893</td>\n",
       "      <td>16052.0</td>\n",
       "    </tr>\n",
       "    <tr>\n",
       "      <th>MBNL1</th>\n",
       "      <td>False</td>\n",
       "      <td>False</td>\n",
       "      <td>4072</td>\n",
       "      <td>2.686860</td>\n",
       "      <td>26.802085</td>\n",
       "      <td>14947.0</td>\n",
       "    </tr>\n",
       "    <tr>\n",
       "      <th>NEAT1</th>\n",
       "      <td>False</td>\n",
       "      <td>False</td>\n",
       "      <td>4074</td>\n",
       "      <td>5.072982</td>\n",
       "      <td>26.766133</td>\n",
       "      <td>28221.0</td>\n",
       "    </tr>\n",
       "    <tr>\n",
       "      <th>ZBTB20</th>\n",
       "      <td>False</td>\n",
       "      <td>False</td>\n",
       "      <td>4202</td>\n",
       "      <td>2.411828</td>\n",
       "      <td>24.465217</td>\n",
       "      <td>13417.0</td>\n",
       "    </tr>\n",
       "    <tr>\n",
       "      <th>MALAT1</th>\n",
       "      <td>False</td>\n",
       "      <td>False</td>\n",
       "      <td>5554</td>\n",
       "      <td>64.495956</td>\n",
       "      <td>0.161783</td>\n",
       "      <td>358791.0</td>\n",
       "    </tr>\n",
       "  </tbody>\n",
       "</table>\n",
       "<p>34546 rows × 6 columns</p>\n",
       "</div>"
      ],
      "text/plain": [
       "               mt   ribo  n_cells_by_counts  mean_counts  \\\n",
       "AL445072.1  False  False                  0     0.000000   \n",
       "AC099329.2  False  False                  0     0.000000   \n",
       "AC006058.2  False  False                  0     0.000000   \n",
       "FAM240A     False  False                  0     0.000000   \n",
       "AC012087.2  False  False                  0     0.000000   \n",
       "...           ...    ...                ...          ...   \n",
       "AKAP13      False  False               3981     2.885494   \n",
       "MBNL1       False  False               4072     2.686860   \n",
       "NEAT1       False  False               4074     5.072982   \n",
       "ZBTB20      False  False               4202     2.411828   \n",
       "MALAT1      False  False               5554    64.495956   \n",
       "\n",
       "            pct_dropout_by_counts  total_counts  \n",
       "AL445072.1             100.000000           0.0  \n",
       "AC099329.2             100.000000           0.0  \n",
       "AC006058.2             100.000000           0.0  \n",
       "FAM240A                100.000000           0.0  \n",
       "AC012087.2             100.000000           0.0  \n",
       "...                           ...           ...  \n",
       "AKAP13                  28.437893       16052.0  \n",
       "MBNL1                   26.802085       14947.0  \n",
       "NEAT1                   26.766133       28221.0  \n",
       "ZBTB20                  24.465217       13417.0  \n",
       "MALAT1                   0.161783      358791.0  \n",
       "\n",
       "[34546 rows x 6 columns]"
      ]
     },
     "execution_count": 154,
     "metadata": {},
     "output_type": "execute_result"
    }
   ],
   "source": [
    "adata.var.sort_values('n_cells_by_counts')"
   ]
  },
  {
   "cell_type": "code",
   "execution_count": 155,
   "id": "ed17ad12",
   "metadata": {},
   "outputs": [
    {
     "name": "stderr",
     "output_type": "stream",
     "text": [
      "/Users/rainsunny/.local/lib/python3.11/site-packages/anndata/_core/anndata.py:1113: FutureWarning: is_categorical_dtype is deprecated and will be removed in a future version. Use isinstance(dtype, CategoricalDtype) instead\n",
      "  if not is_categorical_dtype(df_full[k]):\n"
     ]
    }
   ],
   "source": [
    "sc.pp.filter_genes(adata, min_cells=3)"
   ]
  },
  {
   "cell_type": "code",
   "execution_count": 156,
   "id": "7948bd09",
   "metadata": {},
   "outputs": [
    {
     "data": {
      "text/html": [
       "<div>\n",
       "<style scoped>\n",
       "    .dataframe tbody tr th:only-of-type {\n",
       "        vertical-align: middle;\n",
       "    }\n",
       "\n",
       "    .dataframe tbody tr th {\n",
       "        vertical-align: top;\n",
       "    }\n",
       "\n",
       "    .dataframe thead th {\n",
       "        text-align: right;\n",
       "    }\n",
       "</style>\n",
       "<table border=\"1\" class=\"dataframe\">\n",
       "  <thead>\n",
       "    <tr style=\"text-align: right;\">\n",
       "      <th></th>\n",
       "      <th>mt</th>\n",
       "      <th>ribo</th>\n",
       "      <th>n_cells_by_counts</th>\n",
       "      <th>mean_counts</th>\n",
       "      <th>pct_dropout_by_counts</th>\n",
       "      <th>total_counts</th>\n",
       "      <th>n_cells</th>\n",
       "    </tr>\n",
       "  </thead>\n",
       "  <tbody>\n",
       "    <tr>\n",
       "      <th>LINC02478</th>\n",
       "      <td>False</td>\n",
       "      <td>False</td>\n",
       "      <td>3</td>\n",
       "      <td>0.000539</td>\n",
       "      <td>99.946072</td>\n",
       "      <td>3.0</td>\n",
       "      <td>3</td>\n",
       "    </tr>\n",
       "    <tr>\n",
       "      <th>AC106736.1</th>\n",
       "      <td>False</td>\n",
       "      <td>False</td>\n",
       "      <td>3</td>\n",
       "      <td>0.000539</td>\n",
       "      <td>99.946072</td>\n",
       "      <td>3.0</td>\n",
       "      <td>3</td>\n",
       "    </tr>\n",
       "    <tr>\n",
       "      <th>AC013714.1</th>\n",
       "      <td>False</td>\n",
       "      <td>False</td>\n",
       "      <td>3</td>\n",
       "      <td>0.000539</td>\n",
       "      <td>99.946072</td>\n",
       "      <td>3.0</td>\n",
       "      <td>3</td>\n",
       "    </tr>\n",
       "    <tr>\n",
       "      <th>LINC02465</th>\n",
       "      <td>False</td>\n",
       "      <td>False</td>\n",
       "      <td>3</td>\n",
       "      <td>0.000539</td>\n",
       "      <td>99.946072</td>\n",
       "      <td>3.0</td>\n",
       "      <td>3</td>\n",
       "    </tr>\n",
       "    <tr>\n",
       "      <th>MYB-AS1</th>\n",
       "      <td>False</td>\n",
       "      <td>False</td>\n",
       "      <td>3</td>\n",
       "      <td>0.000539</td>\n",
       "      <td>99.946072</td>\n",
       "      <td>3.0</td>\n",
       "      <td>3</td>\n",
       "    </tr>\n",
       "    <tr>\n",
       "      <th>...</th>\n",
       "      <td>...</td>\n",
       "      <td>...</td>\n",
       "      <td>...</td>\n",
       "      <td>...</td>\n",
       "      <td>...</td>\n",
       "      <td>...</td>\n",
       "      <td>...</td>\n",
       "    </tr>\n",
       "    <tr>\n",
       "      <th>AKAP13</th>\n",
       "      <td>False</td>\n",
       "      <td>False</td>\n",
       "      <td>3981</td>\n",
       "      <td>2.885494</td>\n",
       "      <td>28.437893</td>\n",
       "      <td>16052.0</td>\n",
       "      <td>3981</td>\n",
       "    </tr>\n",
       "    <tr>\n",
       "      <th>MBNL1</th>\n",
       "      <td>False</td>\n",
       "      <td>False</td>\n",
       "      <td>4072</td>\n",
       "      <td>2.686860</td>\n",
       "      <td>26.802085</td>\n",
       "      <td>14947.0</td>\n",
       "      <td>4072</td>\n",
       "    </tr>\n",
       "    <tr>\n",
       "      <th>NEAT1</th>\n",
       "      <td>False</td>\n",
       "      <td>False</td>\n",
       "      <td>4074</td>\n",
       "      <td>5.072982</td>\n",
       "      <td>26.766133</td>\n",
       "      <td>28221.0</td>\n",
       "      <td>4074</td>\n",
       "    </tr>\n",
       "    <tr>\n",
       "      <th>ZBTB20</th>\n",
       "      <td>False</td>\n",
       "      <td>False</td>\n",
       "      <td>4202</td>\n",
       "      <td>2.411828</td>\n",
       "      <td>24.465217</td>\n",
       "      <td>13417.0</td>\n",
       "      <td>4202</td>\n",
       "    </tr>\n",
       "    <tr>\n",
       "      <th>MALAT1</th>\n",
       "      <td>False</td>\n",
       "      <td>False</td>\n",
       "      <td>5554</td>\n",
       "      <td>64.495956</td>\n",
       "      <td>0.161783</td>\n",
       "      <td>358791.0</td>\n",
       "      <td>5554</td>\n",
       "    </tr>\n",
       "  </tbody>\n",
       "</table>\n",
       "<p>24017 rows × 7 columns</p>\n",
       "</div>"
      ],
      "text/plain": [
       "               mt   ribo  n_cells_by_counts  mean_counts  \\\n",
       "LINC02478   False  False                  3     0.000539   \n",
       "AC106736.1  False  False                  3     0.000539   \n",
       "AC013714.1  False  False                  3     0.000539   \n",
       "LINC02465   False  False                  3     0.000539   \n",
       "MYB-AS1     False  False                  3     0.000539   \n",
       "...           ...    ...                ...          ...   \n",
       "AKAP13      False  False               3981     2.885494   \n",
       "MBNL1       False  False               4072     2.686860   \n",
       "NEAT1       False  False               4074     5.072982   \n",
       "ZBTB20      False  False               4202     2.411828   \n",
       "MALAT1      False  False               5554    64.495956   \n",
       "\n",
       "            pct_dropout_by_counts  total_counts  n_cells  \n",
       "LINC02478               99.946072           3.0        3  \n",
       "AC106736.1              99.946072           3.0        3  \n",
       "AC013714.1              99.946072           3.0        3  \n",
       "LINC02465               99.946072           3.0        3  \n",
       "MYB-AS1                 99.946072           3.0        3  \n",
       "...                           ...           ...      ...  \n",
       "AKAP13                  28.437893       16052.0     3981  \n",
       "MBNL1                   26.802085       14947.0     4072  \n",
       "NEAT1                   26.766133       28221.0     4074  \n",
       "ZBTB20                  24.465217       13417.0     4202  \n",
       "MALAT1                   0.161783      358791.0     5554  \n",
       "\n",
       "[24017 rows x 7 columns]"
      ]
     },
     "execution_count": 156,
     "metadata": {},
     "output_type": "execute_result"
    }
   ],
   "source": [
    "adata.var.sort_values('n_cells_by_counts')"
   ]
  },
  {
   "cell_type": "code",
   "execution_count": 157,
   "id": "1aab3fb8",
   "metadata": {},
   "outputs": [
    {
     "data": {
      "text/html": [
       "<div>\n",
       "<style scoped>\n",
       "    .dataframe tbody tr th:only-of-type {\n",
       "        vertical-align: middle;\n",
       "    }\n",
       "\n",
       "    .dataframe tbody tr th {\n",
       "        vertical-align: top;\n",
       "    }\n",
       "\n",
       "    .dataframe thead th {\n",
       "        text-align: right;\n",
       "    }\n",
       "</style>\n",
       "<table border=\"1\" class=\"dataframe\">\n",
       "  <thead>\n",
       "    <tr style=\"text-align: right;\">\n",
       "      <th></th>\n",
       "      <th>doublet</th>\n",
       "      <th>n_genes_by_counts</th>\n",
       "      <th>total_counts</th>\n",
       "      <th>total_counts_mt</th>\n",
       "      <th>pct_counts_mt</th>\n",
       "      <th>total_counts_ribo</th>\n",
       "      <th>pct_counts_ribo</th>\n",
       "    </tr>\n",
       "  </thead>\n",
       "  <tbody>\n",
       "    <tr>\n",
       "      <th>TAGGGTTTCTGGCTGG-1</th>\n",
       "      <td>False</td>\n",
       "      <td>276</td>\n",
       "      <td>419.0</td>\n",
       "      <td>1.0</td>\n",
       "      <td>0.238663</td>\n",
       "      <td>1.0</td>\n",
       "      <td>0.238663</td>\n",
       "    </tr>\n",
       "    <tr>\n",
       "      <th>CGTGCTTCAAAGGGCT-1</th>\n",
       "      <td>False</td>\n",
       "      <td>277</td>\n",
       "      <td>432.0</td>\n",
       "      <td>41.0</td>\n",
       "      <td>9.490741</td>\n",
       "      <td>0.0</td>\n",
       "      <td>0.000000</td>\n",
       "    </tr>\n",
       "    <tr>\n",
       "      <th>TGACAGTTCTAAACGC-1</th>\n",
       "      <td>False</td>\n",
       "      <td>278</td>\n",
       "      <td>414.0</td>\n",
       "      <td>0.0</td>\n",
       "      <td>0.000000</td>\n",
       "      <td>0.0</td>\n",
       "      <td>0.000000</td>\n",
       "    </tr>\n",
       "    <tr>\n",
       "      <th>CTCTGGTCACGACGAA-1</th>\n",
       "      <td>False</td>\n",
       "      <td>285</td>\n",
       "      <td>407.0</td>\n",
       "      <td>0.0</td>\n",
       "      <td>0.000000</td>\n",
       "      <td>0.0</td>\n",
       "      <td>0.000000</td>\n",
       "    </tr>\n",
       "    <tr>\n",
       "      <th>GTAAGTCGTATCGCGC-1</th>\n",
       "      <td>False</td>\n",
       "      <td>289</td>\n",
       "      <td>430.0</td>\n",
       "      <td>0.0</td>\n",
       "      <td>0.000000</td>\n",
       "      <td>0.0</td>\n",
       "      <td>0.000000</td>\n",
       "    </tr>\n",
       "    <tr>\n",
       "      <th>...</th>\n",
       "      <td>...</td>\n",
       "      <td>...</td>\n",
       "      <td>...</td>\n",
       "      <td>...</td>\n",
       "      <td>...</td>\n",
       "      <td>...</td>\n",
       "      <td>...</td>\n",
       "    </tr>\n",
       "    <tr>\n",
       "      <th>ATCCACCAGAGGTATT-1</th>\n",
       "      <td>False</td>\n",
       "      <td>3913</td>\n",
       "      <td>8286.0</td>\n",
       "      <td>191.0</td>\n",
       "      <td>2.305093</td>\n",
       "      <td>34.0</td>\n",
       "      <td>0.410331</td>\n",
       "    </tr>\n",
       "    <tr>\n",
       "      <th>TTACCGCCACTCAGAT-1</th>\n",
       "      <td>False</td>\n",
       "      <td>4144</td>\n",
       "      <td>11369.0</td>\n",
       "      <td>39.0</td>\n",
       "      <td>0.343038</td>\n",
       "      <td>5.0</td>\n",
       "      <td>0.043979</td>\n",
       "    </tr>\n",
       "    <tr>\n",
       "      <th>TGGGAAGTCAGTGATC-1</th>\n",
       "      <td>False</td>\n",
       "      <td>4719</td>\n",
       "      <td>11238.0</td>\n",
       "      <td>92.0</td>\n",
       "      <td>0.818651</td>\n",
       "      <td>11.0</td>\n",
       "      <td>0.097882</td>\n",
       "    </tr>\n",
       "    <tr>\n",
       "      <th>TAACTTCCAACCACGC-1</th>\n",
       "      <td>False</td>\n",
       "      <td>5158</td>\n",
       "      <td>15645.0</td>\n",
       "      <td>221.0</td>\n",
       "      <td>1.412592</td>\n",
       "      <td>211.0</td>\n",
       "      <td>1.348674</td>\n",
       "    </tr>\n",
       "    <tr>\n",
       "      <th>AGGCCACAGAGTCACG-1</th>\n",
       "      <td>False</td>\n",
       "      <td>5544</td>\n",
       "      <td>13217.0</td>\n",
       "      <td>417.0</td>\n",
       "      <td>3.155028</td>\n",
       "      <td>82.0</td>\n",
       "      <td>0.620413</td>\n",
       "    </tr>\n",
       "  </tbody>\n",
       "</table>\n",
       "<p>5563 rows × 7 columns</p>\n",
       "</div>"
      ],
      "text/plain": [
       "                    doublet  n_genes_by_counts  total_counts  total_counts_mt  \\\n",
       "TAGGGTTTCTGGCTGG-1    False                276         419.0              1.0   \n",
       "CGTGCTTCAAAGGGCT-1    False                277         432.0             41.0   \n",
       "TGACAGTTCTAAACGC-1    False                278         414.0              0.0   \n",
       "CTCTGGTCACGACGAA-1    False                285         407.0              0.0   \n",
       "GTAAGTCGTATCGCGC-1    False                289         430.0              0.0   \n",
       "...                     ...                ...           ...              ...   \n",
       "ATCCACCAGAGGTATT-1    False               3913        8286.0            191.0   \n",
       "TTACCGCCACTCAGAT-1    False               4144       11369.0             39.0   \n",
       "TGGGAAGTCAGTGATC-1    False               4719       11238.0             92.0   \n",
       "TAACTTCCAACCACGC-1    False               5158       15645.0            221.0   \n",
       "AGGCCACAGAGTCACG-1    False               5544       13217.0            417.0   \n",
       "\n",
       "                    pct_counts_mt  total_counts_ribo  pct_counts_ribo  \n",
       "TAGGGTTTCTGGCTGG-1       0.238663                1.0         0.238663  \n",
       "CGTGCTTCAAAGGGCT-1       9.490741                0.0         0.000000  \n",
       "TGACAGTTCTAAACGC-1       0.000000                0.0         0.000000  \n",
       "CTCTGGTCACGACGAA-1       0.000000                0.0         0.000000  \n",
       "GTAAGTCGTATCGCGC-1       0.000000                0.0         0.000000  \n",
       "...                           ...                ...              ...  \n",
       "ATCCACCAGAGGTATT-1       2.305093               34.0         0.410331  \n",
       "TTACCGCCACTCAGAT-1       0.343038                5.0         0.043979  \n",
       "TGGGAAGTCAGTGATC-1       0.818651               11.0         0.097882  \n",
       "TAACTTCCAACCACGC-1       1.412592              211.0         1.348674  \n",
       "AGGCCACAGAGTCACG-1       3.155028               82.0         0.620413  \n",
       "\n",
       "[5563 rows x 7 columns]"
      ]
     },
     "execution_count": 157,
     "metadata": {},
     "output_type": "execute_result"
    }
   ],
   "source": [
    "adata.obs.sort_values('n_genes_by_counts')"
   ]
  },
  {
   "cell_type": "code",
   "execution_count": 173,
   "id": "a0936b0e",
   "metadata": {},
   "outputs": [
    {
     "data": {
      "text/html": [
       "<div>\n",
       "<style scoped>\n",
       "    .dataframe tbody tr th:only-of-type {\n",
       "        vertical-align: middle;\n",
       "    }\n",
       "\n",
       "    .dataframe tbody tr th {\n",
       "        vertical-align: top;\n",
       "    }\n",
       "\n",
       "    .dataframe thead th {\n",
       "        text-align: right;\n",
       "    }\n",
       "</style>\n",
       "<table border=\"1\" class=\"dataframe\">\n",
       "  <thead>\n",
       "    <tr style=\"text-align: right;\">\n",
       "      <th></th>\n",
       "      <th>doublet</th>\n",
       "      <th>n_genes_by_counts</th>\n",
       "      <th>total_counts</th>\n",
       "      <th>total_counts_mt</th>\n",
       "      <th>pct_counts_mt</th>\n",
       "      <th>total_counts_ribo</th>\n",
       "      <th>pct_counts_ribo</th>\n",
       "    </tr>\n",
       "  </thead>\n",
       "  <tbody>\n",
       "    <tr>\n",
       "      <th>TGGTACAGTTGGTGTT-1</th>\n",
       "      <td>False</td>\n",
       "      <td>323</td>\n",
       "      <td>401.0</td>\n",
       "      <td>0.0</td>\n",
       "      <td>0.000000</td>\n",
       "      <td>0.0</td>\n",
       "      <td>0.000000</td>\n",
       "    </tr>\n",
       "    <tr>\n",
       "      <th>CTCAACCGTTTGGGAG-1</th>\n",
       "      <td>False</td>\n",
       "      <td>325</td>\n",
       "      <td>401.0</td>\n",
       "      <td>0.0</td>\n",
       "      <td>0.000000</td>\n",
       "      <td>0.0</td>\n",
       "      <td>0.000000</td>\n",
       "    </tr>\n",
       "    <tr>\n",
       "      <th>GTCGTTCTCCAAGGGA-1</th>\n",
       "      <td>False</td>\n",
       "      <td>300</td>\n",
       "      <td>401.0</td>\n",
       "      <td>0.0</td>\n",
       "      <td>0.000000</td>\n",
       "      <td>0.0</td>\n",
       "      <td>0.000000</td>\n",
       "    </tr>\n",
       "    <tr>\n",
       "      <th>CAGGGCTTCATGCGGC-1</th>\n",
       "      <td>False</td>\n",
       "      <td>330</td>\n",
       "      <td>401.0</td>\n",
       "      <td>7.0</td>\n",
       "      <td>1.745636</td>\n",
       "      <td>1.0</td>\n",
       "      <td>0.249377</td>\n",
       "    </tr>\n",
       "    <tr>\n",
       "      <th>CGAGAAGGTGAACTAA-1</th>\n",
       "      <td>False</td>\n",
       "      <td>308</td>\n",
       "      <td>401.0</td>\n",
       "      <td>0.0</td>\n",
       "      <td>0.000000</td>\n",
       "      <td>0.0</td>\n",
       "      <td>0.000000</td>\n",
       "    </tr>\n",
       "    <tr>\n",
       "      <th>...</th>\n",
       "      <td>...</td>\n",
       "      <td>...</td>\n",
       "      <td>...</td>\n",
       "      <td>...</td>\n",
       "      <td>...</td>\n",
       "      <td>...</td>\n",
       "      <td>...</td>\n",
       "    </tr>\n",
       "    <tr>\n",
       "      <th>TGGGAAGTCAGTGATC-1</th>\n",
       "      <td>False</td>\n",
       "      <td>4719</td>\n",
       "      <td>11238.0</td>\n",
       "      <td>92.0</td>\n",
       "      <td>0.818651</td>\n",
       "      <td>11.0</td>\n",
       "      <td>0.097882</td>\n",
       "    </tr>\n",
       "    <tr>\n",
       "      <th>TTACCGCCACTCAGAT-1</th>\n",
       "      <td>False</td>\n",
       "      <td>4144</td>\n",
       "      <td>11369.0</td>\n",
       "      <td>39.0</td>\n",
       "      <td>0.343038</td>\n",
       "      <td>5.0</td>\n",
       "      <td>0.043979</td>\n",
       "    </tr>\n",
       "    <tr>\n",
       "      <th>TTGGTTTTCCTAGCTC-1</th>\n",
       "      <td>False</td>\n",
       "      <td>3902</td>\n",
       "      <td>11472.0</td>\n",
       "      <td>463.0</td>\n",
       "      <td>4.035913</td>\n",
       "      <td>13.0</td>\n",
       "      <td>0.113319</td>\n",
       "    </tr>\n",
       "    <tr>\n",
       "      <th>AGGCCACAGAGTCACG-1</th>\n",
       "      <td>False</td>\n",
       "      <td>5544</td>\n",
       "      <td>13217.0</td>\n",
       "      <td>417.0</td>\n",
       "      <td>3.155028</td>\n",
       "      <td>82.0</td>\n",
       "      <td>0.620413</td>\n",
       "    </tr>\n",
       "    <tr>\n",
       "      <th>TAACTTCCAACCACGC-1</th>\n",
       "      <td>False</td>\n",
       "      <td>5158</td>\n",
       "      <td>15645.0</td>\n",
       "      <td>221.0</td>\n",
       "      <td>1.412592</td>\n",
       "      <td>211.0</td>\n",
       "      <td>1.348674</td>\n",
       "    </tr>\n",
       "  </tbody>\n",
       "</table>\n",
       "<p>5563 rows × 7 columns</p>\n",
       "</div>"
      ],
      "text/plain": [
       "                    doublet  n_genes_by_counts  total_counts  total_counts_mt  \\\n",
       "TGGTACAGTTGGTGTT-1    False                323         401.0              0.0   \n",
       "CTCAACCGTTTGGGAG-1    False                325         401.0              0.0   \n",
       "GTCGTTCTCCAAGGGA-1    False                300         401.0              0.0   \n",
       "CAGGGCTTCATGCGGC-1    False                330         401.0              7.0   \n",
       "CGAGAAGGTGAACTAA-1    False                308         401.0              0.0   \n",
       "...                     ...                ...           ...              ...   \n",
       "TGGGAAGTCAGTGATC-1    False               4719       11238.0             92.0   \n",
       "TTACCGCCACTCAGAT-1    False               4144       11369.0             39.0   \n",
       "TTGGTTTTCCTAGCTC-1    False               3902       11472.0            463.0   \n",
       "AGGCCACAGAGTCACG-1    False               5544       13217.0            417.0   \n",
       "TAACTTCCAACCACGC-1    False               5158       15645.0            221.0   \n",
       "\n",
       "                    pct_counts_mt  total_counts_ribo  pct_counts_ribo  \n",
       "TGGTACAGTTGGTGTT-1       0.000000                0.0         0.000000  \n",
       "CTCAACCGTTTGGGAG-1       0.000000                0.0         0.000000  \n",
       "GTCGTTCTCCAAGGGA-1       0.000000                0.0         0.000000  \n",
       "CAGGGCTTCATGCGGC-1       1.745636                1.0         0.249377  \n",
       "CGAGAAGGTGAACTAA-1       0.000000                0.0         0.000000  \n",
       "...                           ...                ...              ...  \n",
       "TGGGAAGTCAGTGATC-1       0.818651               11.0         0.097882  \n",
       "TTACCGCCACTCAGAT-1       0.343038                5.0         0.043979  \n",
       "TTGGTTTTCCTAGCTC-1       4.035913               13.0         0.113319  \n",
       "AGGCCACAGAGTCACG-1       3.155028               82.0         0.620413  \n",
       "TAACTTCCAACCACGC-1       1.412592              211.0         1.348674  \n",
       "\n",
       "[5563 rows x 7 columns]"
      ]
     },
     "execution_count": 173,
     "metadata": {},
     "output_type": "execute_result"
    }
   ],
   "source": [
    "adata.obs.sort_values('total_counts')"
   ]
  },
  {
   "cell_type": "code",
   "execution_count": 176,
   "id": "2df3691e",
   "metadata": {},
   "outputs": [
    {
     "data": {
      "text/plain": [
       "AnnData object with n_obs × n_vars = 5563 × 24017\n",
       "    obs: 'doublet', 'n_genes_by_counts', 'total_counts', 'total_counts_mt', 'pct_counts_mt', 'total_counts_ribo', 'pct_counts_ribo', 'n_genes'\n",
       "    var: 'mt', 'ribo', 'n_cells_by_counts', 'mean_counts', 'pct_dropout_by_counts', 'total_counts', 'n_cells'"
      ]
     },
     "execution_count": 176,
     "metadata": {},
     "output_type": "execute_result"
    }
   ],
   "source": [
    "# sc.pp.filter_cells(adata, min_genes=200)\n",
    "# adata"
   ]
  },
  {
   "cell_type": "code",
   "execution_count": 178,
   "id": "8f2d3621",
   "metadata": {},
   "outputs": [],
   "source": [
    "# sc.pl.violin(adata, ['n_genes_by_counts', 'total_counts', 'pct_counts_mt', 'pct_counts_ribo'], \n",
    "#              jitter=0.4, multi_panel=True)"
   ]
  },
  {
   "cell_type": "code",
   "execution_count": 179,
   "id": "940a9511",
   "metadata": {},
   "outputs": [],
   "source": [
    "import numpy as np"
   ]
  },
  {
   "cell_type": "code",
   "execution_count": 180,
   "id": "8c5acdc0",
   "metadata": {},
   "outputs": [],
   "source": [
    "upper_lim = np.quantile(adata.obs.n_genes_by_counts.values, .98)\n",
    "#upper_lim = 3000"
   ]
  },
  {
   "cell_type": "code",
   "execution_count": 181,
   "id": "2ae5e41d",
   "metadata": {},
   "outputs": [
    {
     "name": "stderr",
     "output_type": "stream",
     "text": [
      "/Users/rainsunny/.local/lib/python3.11/site-packages/anndata/_core/anndata.py:1113: FutureWarning: is_categorical_dtype is deprecated and will be removed in a future version. Use isinstance(dtype, CategoricalDtype) instead\n",
      "  if not is_categorical_dtype(df_full[k]):\n"
     ]
    }
   ],
   "source": [
    "adata = adata[adata.obs.n_genes_by_counts < upper_lim]"
   ]
  },
  {
   "cell_type": "code",
   "execution_count": 182,
   "id": "b0850093",
   "metadata": {},
   "outputs": [
    {
     "data": {
      "text/html": [
       "<div>\n",
       "<style scoped>\n",
       "    .dataframe tbody tr th:only-of-type {\n",
       "        vertical-align: middle;\n",
       "    }\n",
       "\n",
       "    .dataframe tbody tr th {\n",
       "        vertical-align: top;\n",
       "    }\n",
       "\n",
       "    .dataframe thead th {\n",
       "        text-align: right;\n",
       "    }\n",
       "</style>\n",
       "<table border=\"1\" class=\"dataframe\">\n",
       "  <thead>\n",
       "    <tr style=\"text-align: right;\">\n",
       "      <th></th>\n",
       "      <th>doublet</th>\n",
       "      <th>n_genes_by_counts</th>\n",
       "      <th>total_counts</th>\n",
       "      <th>total_counts_mt</th>\n",
       "      <th>pct_counts_mt</th>\n",
       "      <th>total_counts_ribo</th>\n",
       "      <th>pct_counts_ribo</th>\n",
       "      <th>n_genes</th>\n",
       "    </tr>\n",
       "  </thead>\n",
       "  <tbody>\n",
       "    <tr>\n",
       "      <th>ATACTTCCAAGGTCTT-1</th>\n",
       "      <td>False</td>\n",
       "      <td>2122</td>\n",
       "      <td>5252.0</td>\n",
       "      <td>1.0</td>\n",
       "      <td>0.019040</td>\n",
       "      <td>4.0</td>\n",
       "      <td>0.076161</td>\n",
       "      <td>2120</td>\n",
       "    </tr>\n",
       "    <tr>\n",
       "      <th>TCATGCCGTCTTTCAT-1</th>\n",
       "      <td>False</td>\n",
       "      <td>2234</td>\n",
       "      <td>4993.0</td>\n",
       "      <td>0.0</td>\n",
       "      <td>0.000000</td>\n",
       "      <td>3.0</td>\n",
       "      <td>0.060084</td>\n",
       "      <td>2229</td>\n",
       "    </tr>\n",
       "    <tr>\n",
       "      <th>GATAGCTCAGGCTTGC-1</th>\n",
       "      <td>False</td>\n",
       "      <td>2167</td>\n",
       "      <td>4879.0</td>\n",
       "      <td>0.0</td>\n",
       "      <td>0.000000</td>\n",
       "      <td>0.0</td>\n",
       "      <td>0.000000</td>\n",
       "      <td>2166</td>\n",
       "    </tr>\n",
       "    <tr>\n",
       "      <th>GACCCAGCACCCTATC-1</th>\n",
       "      <td>False</td>\n",
       "      <td>2150</td>\n",
       "      <td>4784.0</td>\n",
       "      <td>28.0</td>\n",
       "      <td>0.585284</td>\n",
       "      <td>4.0</td>\n",
       "      <td>0.083612</td>\n",
       "      <td>2149</td>\n",
       "    </tr>\n",
       "    <tr>\n",
       "      <th>ATGCATGCAAACGTGG-1</th>\n",
       "      <td>False</td>\n",
       "      <td>2191</td>\n",
       "      <td>4747.0</td>\n",
       "      <td>0.0</td>\n",
       "      <td>0.000000</td>\n",
       "      <td>1.0</td>\n",
       "      <td>0.021066</td>\n",
       "      <td>2189</td>\n",
       "    </tr>\n",
       "    <tr>\n",
       "      <th>...</th>\n",
       "      <td>...</td>\n",
       "      <td>...</td>\n",
       "      <td>...</td>\n",
       "      <td>...</td>\n",
       "      <td>...</td>\n",
       "      <td>...</td>\n",
       "      <td>...</td>\n",
       "      <td>...</td>\n",
       "    </tr>\n",
       "    <tr>\n",
       "      <th>CGCCATTGTTTGCCGG-1</th>\n",
       "      <td>False</td>\n",
       "      <td>355</td>\n",
       "      <td>410.0</td>\n",
       "      <td>3.0</td>\n",
       "      <td>0.731707</td>\n",
       "      <td>0.0</td>\n",
       "      <td>0.000000</td>\n",
       "      <td>355</td>\n",
       "    </tr>\n",
       "    <tr>\n",
       "      <th>CACTGGGGTCTACGTA-1</th>\n",
       "      <td>False</td>\n",
       "      <td>346</td>\n",
       "      <td>403.0</td>\n",
       "      <td>0.0</td>\n",
       "      <td>0.000000</td>\n",
       "      <td>0.0</td>\n",
       "      <td>0.000000</td>\n",
       "      <td>346</td>\n",
       "    </tr>\n",
       "    <tr>\n",
       "      <th>CATACTTGTAGAGGAA-1</th>\n",
       "      <td>False</td>\n",
       "      <td>360</td>\n",
       "      <td>410.0</td>\n",
       "      <td>2.0</td>\n",
       "      <td>0.487805</td>\n",
       "      <td>0.0</td>\n",
       "      <td>0.000000</td>\n",
       "      <td>360</td>\n",
       "    </tr>\n",
       "    <tr>\n",
       "      <th>TTTGGTTTCCACGGAC-1</th>\n",
       "      <td>False</td>\n",
       "      <td>299</td>\n",
       "      <td>405.0</td>\n",
       "      <td>0.0</td>\n",
       "      <td>0.000000</td>\n",
       "      <td>2.0</td>\n",
       "      <td>0.493827</td>\n",
       "      <td>299</td>\n",
       "    </tr>\n",
       "    <tr>\n",
       "      <th>ATGCATGAGTCATGAA-1</th>\n",
       "      <td>False</td>\n",
       "      <td>351</td>\n",
       "      <td>411.0</td>\n",
       "      <td>0.0</td>\n",
       "      <td>0.000000</td>\n",
       "      <td>0.0</td>\n",
       "      <td>0.000000</td>\n",
       "      <td>350</td>\n",
       "    </tr>\n",
       "  </tbody>\n",
       "</table>\n",
       "<p>5450 rows × 8 columns</p>\n",
       "</div>"
      ],
      "text/plain": [
       "                    doublet  n_genes_by_counts  total_counts  total_counts_mt  \\\n",
       "ATACTTCCAAGGTCTT-1    False               2122        5252.0              1.0   \n",
       "TCATGCCGTCTTTCAT-1    False               2234        4993.0              0.0   \n",
       "GATAGCTCAGGCTTGC-1    False               2167        4879.0              0.0   \n",
       "GACCCAGCACCCTATC-1    False               2150        4784.0             28.0   \n",
       "ATGCATGCAAACGTGG-1    False               2191        4747.0              0.0   \n",
       "...                     ...                ...           ...              ...   \n",
       "CGCCATTGTTTGCCGG-1    False                355         410.0              3.0   \n",
       "CACTGGGGTCTACGTA-1    False                346         403.0              0.0   \n",
       "CATACTTGTAGAGGAA-1    False                360         410.0              2.0   \n",
       "TTTGGTTTCCACGGAC-1    False                299         405.0              0.0   \n",
       "ATGCATGAGTCATGAA-1    False                351         411.0              0.0   \n",
       "\n",
       "                    pct_counts_mt  total_counts_ribo  pct_counts_ribo  n_genes  \n",
       "ATACTTCCAAGGTCTT-1       0.019040                4.0         0.076161     2120  \n",
       "TCATGCCGTCTTTCAT-1       0.000000                3.0         0.060084     2229  \n",
       "GATAGCTCAGGCTTGC-1       0.000000                0.0         0.000000     2166  \n",
       "GACCCAGCACCCTATC-1       0.585284                4.0         0.083612     2149  \n",
       "ATGCATGCAAACGTGG-1       0.000000                1.0         0.021066     2189  \n",
       "...                           ...                ...              ...      ...  \n",
       "CGCCATTGTTTGCCGG-1       0.731707                0.0         0.000000      355  \n",
       "CACTGGGGTCTACGTA-1       0.000000                0.0         0.000000      346  \n",
       "CATACTTGTAGAGGAA-1       0.487805                0.0         0.000000      360  \n",
       "TTTGGTTTCCACGGAC-1       0.000000                2.0         0.493827      299  \n",
       "ATGCATGAGTCATGAA-1       0.000000                0.0         0.000000      350  \n",
       "\n",
       "[5450 rows x 8 columns]"
      ]
     },
     "execution_count": 182,
     "metadata": {},
     "output_type": "execute_result"
    }
   ],
   "source": [
    "adata.obs"
   ]
  },
  {
   "cell_type": "code",
   "execution_count": 183,
   "id": "aca9b927",
   "metadata": {},
   "outputs": [
    {
     "name": "stderr",
     "output_type": "stream",
     "text": [
      "/Users/rainsunny/.local/lib/python3.11/site-packages/anndata/_core/anndata.py:1113: FutureWarning: is_categorical_dtype is deprecated and will be removed in a future version. Use isinstance(dtype, CategoricalDtype) instead\n",
      "  if not is_categorical_dtype(df_full[k]):\n"
     ]
    }
   ],
   "source": [
    "adata = adata[adata.obs.pct_counts_mt < 20]"
   ]
  },
  {
   "cell_type": "code",
   "execution_count": 184,
   "id": "ca95cde6",
   "metadata": {},
   "outputs": [],
   "source": [
    "adata = adata[adata.obs.pct_counts_ribo < 2]"
   ]
  },
  {
   "cell_type": "code",
   "execution_count": 185,
   "id": "d628d091",
   "metadata": {},
   "outputs": [
    {
     "data": {
      "text/plain": [
       "View of AnnData object with n_obs × n_vars = 5435 × 24017\n",
       "    obs: 'doublet', 'n_genes_by_counts', 'total_counts', 'total_counts_mt', 'pct_counts_mt', 'total_counts_ribo', 'pct_counts_ribo', 'n_genes'\n",
       "    var: 'mt', 'ribo', 'n_cells_by_counts', 'mean_counts', 'pct_dropout_by_counts', 'total_counts', 'n_cells'"
      ]
     },
     "execution_count": 185,
     "metadata": {},
     "output_type": "execute_result"
    }
   ],
   "source": [
    "adata"
   ]
  },
  {
   "cell_type": "markdown",
   "id": "e7464172",
   "metadata": {},
   "source": [
    "## Normalization\n",
    "\n",
    "Normalize the counts in each cell."
   ]
  },
  {
   "cell_type": "code",
   "execution_count": 186,
   "id": "0791021c",
   "metadata": {},
   "outputs": [
    {
     "data": {
      "text/plain": [
       "array([5250., 4988., 4878., ...,  410.,  405.,  410.], dtype=float32)"
      ]
     },
     "execution_count": 186,
     "metadata": {},
     "output_type": "execute_result"
    }
   ],
   "source": [
    "adata.X.sum(axis = 1)"
   ]
  },
  {
   "cell_type": "code",
   "execution_count": 187,
   "id": "005570ea",
   "metadata": {},
   "outputs": [
    {
     "name": "stderr",
     "output_type": "stream",
     "text": [
      "/Users/rainsunny/miniconda3/lib/python3.11/site-packages/scanpy/preprocessing/_normalization.py:169: UserWarning: Received a view of an AnnData. Making a copy.\n",
      "  view_to_actual(adata)\n"
     ]
    }
   ],
   "source": [
    "sc.pp.normalize_total(adata, target_sum=1e4) #normalize every cell to 10,000 UMI"
   ]
  },
  {
   "cell_type": "code",
   "execution_count": 188,
   "id": "bbc3a7c8",
   "metadata": {},
   "outputs": [
    {
     "data": {
      "text/plain": [
       "array([10000.001, 10000.   , 10000.   , ..., 10000.   , 10000.   ,\n",
       "       10000.   ], dtype=float32)"
      ]
     },
     "execution_count": 188,
     "metadata": {},
     "output_type": "execute_result"
    }
   ],
   "source": [
    "adata.X.sum(axis = 1)"
   ]
  },
  {
   "cell_type": "code",
   "execution_count": 189,
   "id": "9b953d2a",
   "metadata": {},
   "outputs": [],
   "source": [
    "sc.pp.log1p(adata) #change to log counts"
   ]
  },
  {
   "cell_type": "code",
   "execution_count": 190,
   "id": "be21d0fa",
   "metadata": {},
   "outputs": [
    {
     "data": {
      "text/plain": [
       "array([2858.1604, 3191.3235, 3131.8506, ..., 1191.2706, 1022.7511,\n",
       "       1162.8784], dtype=float32)"
      ]
     },
     "execution_count": 190,
     "metadata": {},
     "output_type": "execute_result"
    }
   ],
   "source": [
    "adata.X.sum(axis = 1)"
   ]
  },
  {
   "cell_type": "code",
   "execution_count": 191,
   "id": "e6ca5feb",
   "metadata": {},
   "outputs": [],
   "source": [
    "adata.raw = adata"
   ]
  },
  {
   "cell_type": "markdown",
   "id": "33d3c29e",
   "metadata": {},
   "source": [
    "# Clustering"
   ]
  },
  {
   "cell_type": "code",
   "execution_count": 192,
   "id": "ac43a901",
   "metadata": {},
   "outputs": [
    {
     "name": "stderr",
     "output_type": "stream",
     "text": [
      "/Users/rainsunny/miniconda3/lib/python3.11/site-packages/scanpy/preprocessing/_highly_variable_genes.py:215: FutureWarning: The default of observed=False is deprecated and will be changed to True in a future version of pandas. Pass observed=False to retain current behavior or observed=True to adopt the future default and silence this warning.\n",
      "  disp_grouped = df.groupby('mean_bin')['dispersions']\n"
     ]
    }
   ],
   "source": [
    "sc.pp.highly_variable_genes(adata, n_top_genes = 2000)"
   ]
  },
  {
   "cell_type": "code",
   "execution_count": 193,
   "id": "643660e3",
   "metadata": {},
   "outputs": [
    {
     "data": {
      "text/html": [
       "<div>\n",
       "<style scoped>\n",
       "    .dataframe tbody tr th:only-of-type {\n",
       "        vertical-align: middle;\n",
       "    }\n",
       "\n",
       "    .dataframe tbody tr th {\n",
       "        vertical-align: top;\n",
       "    }\n",
       "\n",
       "    .dataframe thead th {\n",
       "        text-align: right;\n",
       "    }\n",
       "</style>\n",
       "<table border=\"1\" class=\"dataframe\">\n",
       "  <thead>\n",
       "    <tr style=\"text-align: right;\">\n",
       "      <th></th>\n",
       "      <th>mt</th>\n",
       "      <th>ribo</th>\n",
       "      <th>n_cells_by_counts</th>\n",
       "      <th>mean_counts</th>\n",
       "      <th>pct_dropout_by_counts</th>\n",
       "      <th>total_counts</th>\n",
       "      <th>n_cells</th>\n",
       "      <th>highly_variable</th>\n",
       "      <th>means</th>\n",
       "      <th>dispersions</th>\n",
       "      <th>dispersions_norm</th>\n",
       "    </tr>\n",
       "  </thead>\n",
       "  <tbody>\n",
       "    <tr>\n",
       "      <th>AL627309.1</th>\n",
       "      <td>False</td>\n",
       "      <td>False</td>\n",
       "      <td>6</td>\n",
       "      <td>0.001079</td>\n",
       "      <td>99.892145</td>\n",
       "      <td>6.0</td>\n",
       "      <td>6</td>\n",
       "      <td>True</td>\n",
       "      <td>0.011250</td>\n",
       "      <td>2.764062</td>\n",
       "      <td>1.235271</td>\n",
       "    </tr>\n",
       "    <tr>\n",
       "      <th>AL627309.5</th>\n",
       "      <td>False</td>\n",
       "      <td>False</td>\n",
       "      <td>24</td>\n",
       "      <td>0.004314</td>\n",
       "      <td>99.568578</td>\n",
       "      <td>24.0</td>\n",
       "      <td>24</td>\n",
       "      <td>False</td>\n",
       "      <td>0.028168</td>\n",
       "      <td>2.337506</td>\n",
       "      <td>-0.078747</td>\n",
       "    </tr>\n",
       "    <tr>\n",
       "      <th>AL627309.4</th>\n",
       "      <td>False</td>\n",
       "      <td>False</td>\n",
       "      <td>3</td>\n",
       "      <td>0.000539</td>\n",
       "      <td>99.946072</td>\n",
       "      <td>3.0</td>\n",
       "      <td>3</td>\n",
       "      <td>False</td>\n",
       "      <td>0.002556</td>\n",
       "      <td>1.702933</td>\n",
       "      <td>-2.033564</td>\n",
       "    </tr>\n",
       "    <tr>\n",
       "      <th>LINC01409</th>\n",
       "      <td>False</td>\n",
       "      <td>False</td>\n",
       "      <td>222</td>\n",
       "      <td>0.043681</td>\n",
       "      <td>96.009347</td>\n",
       "      <td>243.0</td>\n",
       "      <td>222</td>\n",
       "      <td>False</td>\n",
       "      <td>0.263862</td>\n",
       "      <td>2.351301</td>\n",
       "      <td>-0.036251</td>\n",
       "    </tr>\n",
       "    <tr>\n",
       "      <th>FAM87B</th>\n",
       "      <td>False</td>\n",
       "      <td>False</td>\n",
       "      <td>6</td>\n",
       "      <td>0.001079</td>\n",
       "      <td>99.892145</td>\n",
       "      <td>6.0</td>\n",
       "      <td>6</td>\n",
       "      <td>False</td>\n",
       "      <td>0.007327</td>\n",
       "      <td>1.947642</td>\n",
       "      <td>-1.279733</td>\n",
       "    </tr>\n",
       "    <tr>\n",
       "      <th>...</th>\n",
       "      <td>...</td>\n",
       "      <td>...</td>\n",
       "      <td>...</td>\n",
       "      <td>...</td>\n",
       "      <td>...</td>\n",
       "      <td>...</td>\n",
       "      <td>...</td>\n",
       "      <td>...</td>\n",
       "      <td>...</td>\n",
       "      <td>...</td>\n",
       "      <td>...</td>\n",
       "    </tr>\n",
       "    <tr>\n",
       "      <th>AL354822.1</th>\n",
       "      <td>False</td>\n",
       "      <td>False</td>\n",
       "      <td>118</td>\n",
       "      <td>0.021571</td>\n",
       "      <td>97.878842</td>\n",
       "      <td>120.0</td>\n",
       "      <td>118</td>\n",
       "      <td>False</td>\n",
       "      <td>0.156954</td>\n",
       "      <td>2.418987</td>\n",
       "      <td>0.172259</td>\n",
       "    </tr>\n",
       "    <tr>\n",
       "      <th>AL592183.1</th>\n",
       "      <td>False</td>\n",
       "      <td>False</td>\n",
       "      <td>846</td>\n",
       "      <td>0.179579</td>\n",
       "      <td>84.792378</td>\n",
       "      <td>999.0</td>\n",
       "      <td>846</td>\n",
       "      <td>False</td>\n",
       "      <td>0.876932</td>\n",
       "      <td>2.522009</td>\n",
       "      <td>-0.377063</td>\n",
       "    </tr>\n",
       "    <tr>\n",
       "      <th>AC240274.1</th>\n",
       "      <td>False</td>\n",
       "      <td>False</td>\n",
       "      <td>144</td>\n",
       "      <td>0.026425</td>\n",
       "      <td>97.411469</td>\n",
       "      <td>147.0</td>\n",
       "      <td>144</td>\n",
       "      <td>False</td>\n",
       "      <td>0.155726</td>\n",
       "      <td>2.299033</td>\n",
       "      <td>-0.197262</td>\n",
       "    </tr>\n",
       "    <tr>\n",
       "      <th>AC007325.4</th>\n",
       "      <td>False</td>\n",
       "      <td>False</td>\n",
       "      <td>4</td>\n",
       "      <td>0.000719</td>\n",
       "      <td>99.928096</td>\n",
       "      <td>4.0</td>\n",
       "      <td>4</td>\n",
       "      <td>False</td>\n",
       "      <td>0.003071</td>\n",
       "      <td>1.579797</td>\n",
       "      <td>-2.412887</td>\n",
       "    </tr>\n",
       "    <tr>\n",
       "      <th>AC007325.2</th>\n",
       "      <td>False</td>\n",
       "      <td>False</td>\n",
       "      <td>6</td>\n",
       "      <td>0.001079</td>\n",
       "      <td>99.892145</td>\n",
       "      <td>6.0</td>\n",
       "      <td>6</td>\n",
       "      <td>False</td>\n",
       "      <td>0.006476</td>\n",
       "      <td>1.995922</td>\n",
       "      <td>-1.131004</td>\n",
       "    </tr>\n",
       "  </tbody>\n",
       "</table>\n",
       "<p>24017 rows × 11 columns</p>\n",
       "</div>"
      ],
      "text/plain": [
       "               mt   ribo  n_cells_by_counts  mean_counts  \\\n",
       "AL627309.1  False  False                  6     0.001079   \n",
       "AL627309.5  False  False                 24     0.004314   \n",
       "AL627309.4  False  False                  3     0.000539   \n",
       "LINC01409   False  False                222     0.043681   \n",
       "FAM87B      False  False                  6     0.001079   \n",
       "...           ...    ...                ...          ...   \n",
       "AL354822.1  False  False                118     0.021571   \n",
       "AL592183.1  False  False                846     0.179579   \n",
       "AC240274.1  False  False                144     0.026425   \n",
       "AC007325.4  False  False                  4     0.000719   \n",
       "AC007325.2  False  False                  6     0.001079   \n",
       "\n",
       "            pct_dropout_by_counts  total_counts  n_cells  highly_variable  \\\n",
       "AL627309.1              99.892145           6.0        6             True   \n",
       "AL627309.5              99.568578          24.0       24            False   \n",
       "AL627309.4              99.946072           3.0        3            False   \n",
       "LINC01409               96.009347         243.0      222            False   \n",
       "FAM87B                  99.892145           6.0        6            False   \n",
       "...                           ...           ...      ...              ...   \n",
       "AL354822.1              97.878842         120.0      118            False   \n",
       "AL592183.1              84.792378         999.0      846            False   \n",
       "AC240274.1              97.411469         147.0      144            False   \n",
       "AC007325.4              99.928096           4.0        4            False   \n",
       "AC007325.2              99.892145           6.0        6            False   \n",
       "\n",
       "               means  dispersions  dispersions_norm  \n",
       "AL627309.1  0.011250     2.764062          1.235271  \n",
       "AL627309.5  0.028168     2.337506         -0.078747  \n",
       "AL627309.4  0.002556     1.702933         -2.033564  \n",
       "LINC01409   0.263862     2.351301         -0.036251  \n",
       "FAM87B      0.007327     1.947642         -1.279733  \n",
       "...              ...          ...               ...  \n",
       "AL354822.1  0.156954     2.418987          0.172259  \n",
       "AL592183.1  0.876932     2.522009         -0.377063  \n",
       "AC240274.1  0.155726     2.299033         -0.197262  \n",
       "AC007325.4  0.003071     1.579797         -2.412887  \n",
       "AC007325.2  0.006476     1.995922         -1.131004  \n",
       "\n",
       "[24017 rows x 11 columns]"
      ]
     },
     "execution_count": 193,
     "metadata": {},
     "output_type": "execute_result"
    }
   ],
   "source": [
    "adata.var"
   ]
  },
  {
   "cell_type": "code",
   "execution_count": 194,
   "id": "cacb7d52",
   "metadata": {},
   "outputs": [
    {
     "data": {
      "image/png": "[encoded data removed]",
      "text/plain": [
       "<Figure size 1280x480 with 2 Axes>"
      ]
     },
     "metadata": {},
     "output_type": "display_data"
    }
   ],
   "source": [
    "sc.pl.highly_variable_genes(adata)"
   ]
  },
  {
   "cell_type": "code",
   "execution_count": 195,
   "id": "4418d094",
   "metadata": {},
   "outputs": [
    {
     "name": "stderr",
     "output_type": "stream",
     "text": [
      "/Users/rainsunny/.local/lib/python3.11/site-packages/anndata/_core/anndata.py:1113: FutureWarning: is_categorical_dtype is deprecated and will be removed in a future version. Use isinstance(dtype, CategoricalDtype) instead\n",
      "  if not is_categorical_dtype(df_full[k]):\n"
     ]
    }
   ],
   "source": [
    "adata = adata[:, adata.var.highly_variable]"
   ]
  },
  {
   "cell_type": "code",
   "execution_count": 196,
   "id": "814b32f5",
   "metadata": {},
   "outputs": [
    {
     "name": "stderr",
     "output_type": "stream",
     "text": [
      "/Users/rainsunny/miniconda3/lib/python3.11/site-packages/scanpy/preprocessing/_simple.py:619: FutureWarning: is_categorical_dtype is deprecated and will be removed in a future version. Use isinstance(dtype, CategoricalDtype) instead\n",
      "  if keys[0] in adata.obs_keys() and is_categorical_dtype(adata.obs[keys[0]]):\n"
     ]
    }
   ],
   "source": [
    "sc.pp.regress_out(adata, ['total_counts', 'pct_counts_mt', 'pct_counts_ribo'])"
   ]
  },
  {
   "cell_type": "code",
   "execution_count": 197,
   "id": "731a73d2",
   "metadata": {},
   "outputs": [],
   "source": [
    "sc.pp.scale(adata, max_value=10)"
   ]
  },
  {
   "cell_type": "code",
   "execution_count": 198,
   "id": "ab064344",
   "metadata": {},
   "outputs": [
    {
     "name": "stderr",
     "output_type": "stream",
     "text": [
      "/Users/rainsunny/.local/lib/python3.11/site-packages/anndata/_core/anndata.py:1113: FutureWarning: is_categorical_dtype is deprecated and will be removed in a future version. Use isinstance(dtype, CategoricalDtype) instead\n",
      "  if not is_categorical_dtype(df_full[k]):\n"
     ]
    }
   ],
   "source": [
    "sc.tl.pca(adata, svd_solver='arpack')"
   ]
  },
  {
   "cell_type": "code",
   "execution_count": 199,
   "id": "9d2d7b51",
   "metadata": {},
   "outputs": [
    {
     "data": {
      "image/png": "[encoded data removed]",
      "text/plain": [
       "<Figure size 640x480 with 1 Axes>"
      ]
     },
     "metadata": {},
     "output_type": "display_data"
    }
   ],
   "source": [
    "sc.pl.pca_variance_ratio(adata, log=True, n_pcs = 50)"
   ]
  },
  {
   "cell_type": "code",
   "execution_count": 200,
   "id": "500666a8",
   "metadata": {},
   "outputs": [],
   "source": [
    "sc.pp.neighbors(adata, n_pcs = 30)"
   ]
  },
  {
   "cell_type": "code",
   "execution_count": 233,
   "id": "c5756249",
   "metadata": {},
   "outputs": [
    {
     "data": {
      "text/plain": [
       "array([[0.        , 0.99999994, 0.40385792, ..., 0.        , 0.        ,\n",
       "        0.        ],\n",
       "       [0.99999994, 0.        , 1.        , ..., 0.        , 0.        ,\n",
       "        0.        ],\n",
       "       [0.40385792, 1.        , 0.        , ..., 0.        , 0.        ,\n",
       "        0.        ],\n",
       "       ...,\n",
       "       [0.        , 0.        , 0.        , ..., 0.        , 0.        ,\n",
       "        0.        ],\n",
       "       [0.        , 0.        , 0.        , ..., 0.        , 0.        ,\n",
       "        0.        ],\n",
       "       [0.        , 0.        , 0.        , ..., 0.        , 0.        ,\n",
       "        0.        ]], dtype=float32)"
      ]
     },
     "execution_count": 233,
     "metadata": {},
     "output_type": "execute_result"
    }
   ],
   "source": [
    "adata.obsp['connectivities'].toarray()"
   ]
  },
  {
   "cell_type": "code",
   "execution_count": 201,
   "id": "855b847e",
   "metadata": {},
   "outputs": [],
   "source": [
    "sc.tl.umap(adata)"
   ]
  },
  {
   "cell_type": "code",
   "execution_count": 202,
   "id": "2ba1f538",
   "metadata": {},
   "outputs": [
    {
     "name": "stderr",
     "output_type": "stream",
     "text": [
      "/Users/rainsunny/miniconda3/lib/python3.11/site-packages/scanpy/plotting/_tools/scatterplots.py:391: UserWarning: No data for colormapping provided via 'c'. Parameters 'cmap', 'norm' will be ignored\n",
      "  cax = scatter(\n"
     ]
    },
    {
     "data": {
      "image/png": "[encoded data removed]",
      "text/plain": [
       "<Figure size 640x480 with 1 Axes>"
      ]
     },
     "metadata": {},
     "output_type": "display_data"
    }
   ],
   "source": [
    "sc.pl.umap(adata)"
   ]
  },
  {
   "cell_type": "code",
   "execution_count": 204,
   "id": "a100001c",
   "metadata": {
    "scrolled": true
   },
   "outputs": [
    {
     "name": "stdout",
     "output_type": "stream",
     "text": [
      "Collecting leidenalg\n",
      "  Downloading leidenalg-0.10.1-cp38-abi3-macosx_10_9_x86_64.whl (1.7 MB)\n",
      "\u001b[2K     \u001b[90m━━━━━━━━━━━━━━━━━━━━━━━━━━━━━━━━━━━━━━━━\u001b[0m \u001b[32m1.7/1.7 MB\u001b[0m \u001b[31m6.2 MB/s\u001b[0m eta \u001b[36m0:00:00\u001b[0m00:01\u001b[0m00:01\u001b[0m\n",
      "\u001b[?25hCollecting igraph<0.11,>=0.10.0 (from leidenalg)\n",
      "  Downloading igraph-0.10.8-cp39-abi3-macosx_10_9_x86_64.whl (1.9 MB)\n",
      "\u001b[2K     \u001b[90m━━━━━━━━━━━━━━━━━━━━━━━━━━━━━━━━━━━━━━━━\u001b[0m \u001b[32m1.9/1.9 MB\u001b[0m \u001b[31m11.5 MB/s\u001b[0m eta \u001b[36m0:00:00\u001b[0m00:01\u001b[0m00:01\u001b[0m\n",
      "\u001b[?25hCollecting texttable>=1.6.2 (from igraph<0.11,>=0.10.0->leidenalg)\n",
      "  Downloading texttable-1.7.0-py2.py3-none-any.whl (10 kB)\n",
      "Installing collected packages: texttable, igraph, leidenalg\n",
      "Successfully installed igraph-0.10.8 leidenalg-0.10.1 texttable-1.7.0\n"
     ]
    }
   ],
   "source": [
    "!pip install leidenalg"
   ]
  },
  {
   "cell_type": "code",
   "execution_count": 205,
   "id": "b17d6221",
   "metadata": {},
   "outputs": [],
   "source": [
    "sc.tl.leiden(adata, resolution = 0.5)"
   ]
  },
  {
   "cell_type": "code",
   "execution_count": 206,
   "id": "90a52aeb",
   "metadata": {},
   "outputs": [
    {
     "data": {
      "text/html": [
       "<div>\n",
       "<style scoped>\n",
       "    .dataframe tbody tr th:only-of-type {\n",
       "        vertical-align: middle;\n",
       "    }\n",
       "\n",
       "    .dataframe tbody tr th {\n",
       "        vertical-align: top;\n",
       "    }\n",
       "\n",
       "    .dataframe thead th {\n",
       "        text-align: right;\n",
       "    }\n",
       "</style>\n",
       "<table border=\"1\" class=\"dataframe\">\n",
       "  <thead>\n",
       "    <tr style=\"text-align: right;\">\n",
       "      <th></th>\n",
       "      <th>doublet</th>\n",
       "      <th>n_genes_by_counts</th>\n",
       "      <th>total_counts</th>\n",
       "      <th>total_counts_mt</th>\n",
       "      <th>pct_counts_mt</th>\n",
       "      <th>total_counts_ribo</th>\n",
       "      <th>pct_counts_ribo</th>\n",
       "      <th>n_genes</th>\n",
       "      <th>leiden</th>\n",
       "    </tr>\n",
       "  </thead>\n",
       "  <tbody>\n",
       "    <tr>\n",
       "      <th>ATACTTCCAAGGTCTT-1</th>\n",
       "      <td>False</td>\n",
       "      <td>2122</td>\n",
       "      <td>5252.0</td>\n",
       "      <td>1.0</td>\n",
       "      <td>0.019040</td>\n",
       "      <td>4.0</td>\n",
       "      <td>0.076161</td>\n",
       "      <td>2120</td>\n",
       "      <td>1</td>\n",
       "    </tr>\n",
       "    <tr>\n",
       "      <th>TCATGCCGTCTTTCAT-1</th>\n",
       "      <td>False</td>\n",
       "      <td>2234</td>\n",
       "      <td>4993.0</td>\n",
       "      <td>0.0</td>\n",
       "      <td>0.000000</td>\n",
       "      <td>3.0</td>\n",
       "      <td>0.060084</td>\n",
       "      <td>2229</td>\n",
       "      <td>1</td>\n",
       "    </tr>\n",
       "    <tr>\n",
       "      <th>GATAGCTCAGGCTTGC-1</th>\n",
       "      <td>False</td>\n",
       "      <td>2167</td>\n",
       "      <td>4879.0</td>\n",
       "      <td>0.0</td>\n",
       "      <td>0.000000</td>\n",
       "      <td>0.0</td>\n",
       "      <td>0.000000</td>\n",
       "      <td>2166</td>\n",
       "      <td>1</td>\n",
       "    </tr>\n",
       "    <tr>\n",
       "      <th>GACCCAGCACCCTATC-1</th>\n",
       "      <td>False</td>\n",
       "      <td>2150</td>\n",
       "      <td>4784.0</td>\n",
       "      <td>28.0</td>\n",
       "      <td>0.585284</td>\n",
       "      <td>4.0</td>\n",
       "      <td>0.083612</td>\n",
       "      <td>2149</td>\n",
       "      <td>1</td>\n",
       "    </tr>\n",
       "    <tr>\n",
       "      <th>ATGCATGCAAACGTGG-1</th>\n",
       "      <td>False</td>\n",
       "      <td>2191</td>\n",
       "      <td>4747.0</td>\n",
       "      <td>0.0</td>\n",
       "      <td>0.000000</td>\n",
       "      <td>1.0</td>\n",
       "      <td>0.021066</td>\n",
       "      <td>2189</td>\n",
       "      <td>1</td>\n",
       "    </tr>\n",
       "    <tr>\n",
       "      <th>...</th>\n",
       "      <td>...</td>\n",
       "      <td>...</td>\n",
       "      <td>...</td>\n",
       "      <td>...</td>\n",
       "      <td>...</td>\n",
       "      <td>...</td>\n",
       "      <td>...</td>\n",
       "      <td>...</td>\n",
       "      <td>...</td>\n",
       "    </tr>\n",
       "    <tr>\n",
       "      <th>CGCCATTGTTTGCCGG-1</th>\n",
       "      <td>False</td>\n",
       "      <td>355</td>\n",
       "      <td>410.0</td>\n",
       "      <td>3.0</td>\n",
       "      <td>0.731707</td>\n",
       "      <td>0.0</td>\n",
       "      <td>0.000000</td>\n",
       "      <td>355</td>\n",
       "      <td>7</td>\n",
       "    </tr>\n",
       "    <tr>\n",
       "      <th>CACTGGGGTCTACGTA-1</th>\n",
       "      <td>False</td>\n",
       "      <td>346</td>\n",
       "      <td>403.0</td>\n",
       "      <td>0.0</td>\n",
       "      <td>0.000000</td>\n",
       "      <td>0.0</td>\n",
       "      <td>0.000000</td>\n",
       "      <td>346</td>\n",
       "      <td>2</td>\n",
       "    </tr>\n",
       "    <tr>\n",
       "      <th>CATACTTGTAGAGGAA-1</th>\n",
       "      <td>False</td>\n",
       "      <td>360</td>\n",
       "      <td>410.0</td>\n",
       "      <td>2.0</td>\n",
       "      <td>0.487805</td>\n",
       "      <td>0.0</td>\n",
       "      <td>0.000000</td>\n",
       "      <td>360</td>\n",
       "      <td>0</td>\n",
       "    </tr>\n",
       "    <tr>\n",
       "      <th>TTTGGTTTCCACGGAC-1</th>\n",
       "      <td>False</td>\n",
       "      <td>299</td>\n",
       "      <td>405.0</td>\n",
       "      <td>0.0</td>\n",
       "      <td>0.000000</td>\n",
       "      <td>2.0</td>\n",
       "      <td>0.493827</td>\n",
       "      <td>299</td>\n",
       "      <td>10</td>\n",
       "    </tr>\n",
       "    <tr>\n",
       "      <th>ATGCATGAGTCATGAA-1</th>\n",
       "      <td>False</td>\n",
       "      <td>351</td>\n",
       "      <td>411.0</td>\n",
       "      <td>0.0</td>\n",
       "      <td>0.000000</td>\n",
       "      <td>0.0</td>\n",
       "      <td>0.000000</td>\n",
       "      <td>350</td>\n",
       "      <td>2</td>\n",
       "    </tr>\n",
       "  </tbody>\n",
       "</table>\n",
       "<p>5435 rows × 9 columns</p>\n",
       "</div>"
      ],
      "text/plain": [
       "                    doublet  n_genes_by_counts  total_counts  total_counts_mt  \\\n",
       "ATACTTCCAAGGTCTT-1    False               2122        5252.0              1.0   \n",
       "TCATGCCGTCTTTCAT-1    False               2234        4993.0              0.0   \n",
       "GATAGCTCAGGCTTGC-1    False               2167        4879.0              0.0   \n",
       "GACCCAGCACCCTATC-1    False               2150        4784.0             28.0   \n",
       "ATGCATGCAAACGTGG-1    False               2191        4747.0              0.0   \n",
       "...                     ...                ...           ...              ...   \n",
       "CGCCATTGTTTGCCGG-1    False                355         410.0              3.0   \n",
       "CACTGGGGTCTACGTA-1    False                346         403.0              0.0   \n",
       "CATACTTGTAGAGGAA-1    False                360         410.0              2.0   \n",
       "TTTGGTTTCCACGGAC-1    False                299         405.0              0.0   \n",
       "ATGCATGAGTCATGAA-1    False                351         411.0              0.0   \n",
       "\n",
       "                    pct_counts_mt  total_counts_ribo  pct_counts_ribo  \\\n",
       "ATACTTCCAAGGTCTT-1       0.019040                4.0         0.076161   \n",
       "TCATGCCGTCTTTCAT-1       0.000000                3.0         0.060084   \n",
       "GATAGCTCAGGCTTGC-1       0.000000                0.0         0.000000   \n",
       "GACCCAGCACCCTATC-1       0.585284                4.0         0.083612   \n",
       "ATGCATGCAAACGTGG-1       0.000000                1.0         0.021066   \n",
       "...                           ...                ...              ...   \n",
       "CGCCATTGTTTGCCGG-1       0.731707                0.0         0.000000   \n",
       "CACTGGGGTCTACGTA-1       0.000000                0.0         0.000000   \n",
       "CATACTTGTAGAGGAA-1       0.487805                0.0         0.000000   \n",
       "TTTGGTTTCCACGGAC-1       0.000000                2.0         0.493827   \n",
       "ATGCATGAGTCATGAA-1       0.000000                0.0         0.000000   \n",
       "\n",
       "                    n_genes leiden  \n",
       "ATACTTCCAAGGTCTT-1     2120      1  \n",
       "TCATGCCGTCTTTCAT-1     2229      1  \n",
       "GATAGCTCAGGCTTGC-1     2166      1  \n",
       "GACCCAGCACCCTATC-1     2149      1  \n",
       "ATGCATGCAAACGTGG-1     2189      1  \n",
       "...                     ...    ...  \n",
       "CGCCATTGTTTGCCGG-1      355      7  \n",
       "CACTGGGGTCTACGTA-1      346      2  \n",
       "CATACTTGTAGAGGAA-1      360      0  \n",
       "TTTGGTTTCCACGGAC-1      299     10  \n",
       "ATGCATGAGTCATGAA-1      350      2  \n",
       "\n",
       "[5435 rows x 9 columns]"
      ]
     },
     "execution_count": 206,
     "metadata": {},
     "output_type": "execute_result"
    }
   ],
   "source": [
    "adata.obs"
   ]
  },
  {
   "cell_type": "code",
   "execution_count": 207,
   "id": "a7ea9a29",
   "metadata": {},
   "outputs": [
    {
     "name": "stderr",
     "output_type": "stream",
     "text": [
      "/Users/rainsunny/miniconda3/lib/python3.11/site-packages/scanpy/plotting/_tools/scatterplots.py:1207: FutureWarning: is_categorical_dtype is deprecated and will be removed in a future version. Use isinstance(dtype, CategoricalDtype) instead\n",
      "  if not is_categorical_dtype(values):\n",
      "/Users/rainsunny/miniconda3/lib/python3.11/site-packages/scanpy/plotting/_tools/scatterplots.py:1216: FutureWarning: The default value of 'ignore' for the `na_action` parameter in pandas.Categorical.map is deprecated and will be changed to 'None' in a future version. Please set na_action to the desired value to avoid seeing this warning\n",
      "  color_vector = pd.Categorical(values.map(color_map))\n",
      "/Users/rainsunny/miniconda3/lib/python3.11/site-packages/scanpy/plotting/_tools/scatterplots.py:391: UserWarning: No data for colormapping provided via 'c'. Parameters 'cmap' will be ignored\n",
      "  cax = scatter(\n"
     ]
    },
    {
     "data": {
      "image/png": "[encoded data removed]",
      "text/plain": [
       "<Figure size 640x480 with 1 Axes>"
      ]
     },
     "metadata": {},
     "output_type": "display_data"
    }
   ],
   "source": [
    "sc.pl.umap(adata, color=['leiden'])"
   ]
  },
  {
   "cell_type": "markdown",
   "id": "e5832009",
   "metadata": {},
   "source": [
    "# Integration\n",
    "\n",
    "of 27 samples"
   ]
  },
  {
   "cell_type": "code",
   "execution_count": 208,
   "id": "c51d3eab",
   "metadata": {},
   "outputs": [],
   "source": [
    "def pp(csv_path):\n",
    "    adata = sc.read_csv(csv_path).T\n",
    "    sc.pp.filter_genes(adata, min_cells = 10)\n",
    "    sc.pp.highly_variable_genes(adata, n_top_genes = 2000, subset = True, flavor = 'seurat_v3')\n",
    "    scvi.model.SCVI.setup_anndata(adata)\n",
    "    vae = scvi.model.SCVI(adata)\n",
    "    vae.train()\n",
    "    solo = scvi.external.SOLO.from_scvi_model(vae)\n",
    "    solo.train()\n",
    "    df = solo.predict()\n",
    "    df['prediction'] = solo.predict(soft = False)\n",
    "    df.index = df.index.map(lambda x: x[:-2])\n",
    "    df['dif'] = df.doublet - df.singlet\n",
    "    doublets = df[(df.prediction == 'doublet') & (df.dif > 1)]\n",
    "    \n",
    "    adata = sc.read_csv(csv_path).T\n",
    "    adata.obs['Sample'] = csv_path.split('_')[2] \n",
    "    \n",
    "    adata.obs['doublet'] = adata.obs.index.isin(doublets.index)\n",
    "    adata = adata[~adata.obs.doublet]\n",
    "    \n",
    "    \n",
    "    sc.pp.filter_cells(adata, min_genes=200) #get rid of cells with fewer than 200 genes\n",
    "    #sc.pp.filter_genes(adata, min_cells=3) #get rid of genes that are found in fewer than 3 cells\n",
    "    adata.var['mt'] = adata.var_names.str.startswith('mt-')  # annotate the group of mitochondrial genes as 'mt'\n",
    "    adata.var['ribo'] = adata.var_names.isin(ribo_genes[0].values) #annotate ribo\n",
    "    sc.pp.calculate_qc_metrics(adata, qc_vars=['mt', 'ribo'], percent_top=None, log1p=False, inplace=True)\n",
    "    upper_lim = np.quantile(adata.obs.n_genes_by_counts.values, .98)\n",
    "    adata = adata[adata.obs.n_genes_by_counts < upper_lim]\n",
    "    adata = adata[adata.obs.pct_counts_mt < 20]\n",
    "    adata = adata[adata.obs.pct_counts_ribo < 2]\n",
    "\n",
    "    return adata"
   ]
  },
  {
   "cell_type": "code",
   "execution_count": 209,
   "id": "38b8601b",
   "metadata": {},
   "outputs": [],
   "source": [
    "import os"
   ]
  },
  {
   "cell_type": "code",
   "execution_count": 236,
   "id": "c6d34db5",
   "metadata": {
    "scrolled": true
   },
   "outputs": [
    {
     "data": {
      "text/plain": [
       "['GSM5226578_C55ctr_raw_counts.csv',\n",
       " 'GSM5226584_L04covaddon_raw_counts.csv',\n",
       " 'GSM5226580_C57ctr_raw_counts.csv',\n",
       " 'GSM5226576_C53ctr_raw_counts.csv',\n",
       " 'GSM5226593_L13cov_raw_counts.csv',\n",
       " 'GSM5226582_L03cov_raw_counts.csv',\n",
       " 'GSM5226589_L09cov_raw_counts.csv',\n",
       " 'GSM5226598_L19cov_raw_counts.csv',\n",
       " 'GSM5226599_L21cov_raw_counts.csv',\n",
       " 'GSM5226586_L06cov_raw_counts.csv',\n",
       " 'GSM5226595_L16cov_raw_counts.csv',\n",
       " 'GSM5226591_L11cov_raw_counts.csv',\n",
       " 'GSM5226585_L05cov_raw_counts.csv',\n",
       " 'GSM5226594_L15cov_raw_counts.csv',\n",
       " 'GSM5226575_C52ctr_raw_counts.csv',\n",
       " 'GSM5226588_L08cov_raw_counts.csv',\n",
       " 'GSM5226592_L12cov_raw_counts.csv',\n",
       " 'GSM5226590_L10cov_raw_counts.csv',\n",
       " 'GSM5226583_L04cov_raw_counts.csv',\n",
       " 'GSM5226577_C54ctr_raw_counts.csv',\n",
       " 'GSM5226581_L01cov_raw_counts.csv',\n",
       " 'GSM5226596_L17cov_raw_counts.csv',\n",
       " 'GSM5226587_L07cov_raw_counts.csv',\n",
       " 'GSM5226579_C56ctr_raw_counts.csv',\n",
       " 'GSM5226597_L18cov_raw_counts.csv',\n",
       " 'GSM5226600_L22cov_raw_counts.csv']"
      ]
     },
     "execution_count": 236,
     "metadata": {},
     "output_type": "execute_result"
    }
   ],
   "source": [
    "os.listdir('/Users/rainsunny/Desktop/Single-cell-analysis/GSE171524_RAW')"
   ]
  },
  {
   "cell_type": "code",
   "execution_count": null,
   "id": "e26b438b",
   "metadata": {
    "scrolled": true
   },
   "outputs": [
    {
     "name": "stderr",
     "output_type": "stream",
     "text": [
      "/Users/rainsunny/.local/lib/python3.11/site-packages/anndata/_core/anndata.py:1113: FutureWarning: is_categorical_dtype is deprecated and will be removed in a future version. Use isinstance(dtype, CategoricalDtype) instead\n",
      "  if not is_categorical_dtype(df_full[k]):\n",
      "/Users/rainsunny/.local/lib/python3.11/site-packages/anndata/_core/anndata.py:1113: FutureWarning: is_categorical_dtype is deprecated and will be removed in a future version. Use isinstance(dtype, CategoricalDtype) instead\n",
      "  if not is_categorical_dtype(df_full[k]):\n",
      "GPU available: False, used: False\n",
      "TPU available: False, using: 0 TPU cores\n",
      "IPU available: False, using: 0 IPUs\n",
      "HPU available: False, using: 0 HPUs\n"
     ]
    },
    {
     "name": "stdout",
     "output_type": "stream",
     "text": [
      "Epoch 400/400: 100%|█| 400/400 [10:01<00:00,  1.32s/it, v_num=1, train_loss_step"
     ]
    },
    {
     "name": "stderr",
     "output_type": "stream",
     "text": [
      "`Trainer.fit` stopped: `max_epochs=400` reached.\n"
     ]
    },
    {
     "name": "stdout",
     "output_type": "stream",
     "text": [
      "Epoch 400/400: 100%|█| 400/400 [10:01<00:00,  1.50s/it, v_num=1, train_loss_step\n",
      "\u001b[34mINFO    \u001b[0m Creating doublets, preparing SOLO model.                                                                  \n"
     ]
    },
    {
     "name": "stderr",
     "output_type": "stream",
     "text": [
      "/Users/rainsunny/.local/lib/python3.11/site-packages/anndata/_core/merge.py:217: FutureWarning: is_categorical_dtype is deprecated and will be removed in a future version. Use isinstance(dtype, CategoricalDtype) instead\n",
      "  if pd.api.types.is_categorical_dtype(dtype):\n",
      "GPU available: False, used: False\n",
      "TPU available: False, using: 0 TPU cores\n",
      "IPU available: False, using: 0 IPUs\n",
      "HPU available: False, using: 0 HPUs\n"
     ]
    },
    {
     "name": "stdout",
     "output_type": "stream",
     "text": [
      "Epoch 183/400:  46%|▍| 183/400 [00:58<01:09,  3.12it/s, v_num=1, train_loss_step\n",
      "Monitored metric validation_loss did not improve in the last 30 records. Best score: 0.234. Signaling Trainer to stop.\n"
     ]
    },
    {
     "name": "stderr",
     "output_type": "stream",
     "text": [
      "/Users/rainsunny/.local/lib/python3.11/site-packages/anndata/_core/anndata.py:1113: FutureWarning: is_categorical_dtype is deprecated and will be removed in a future version. Use isinstance(dtype, CategoricalDtype) instead\n",
      "  if not is_categorical_dtype(df_full[k]):\n",
      "/Users/rainsunny/miniconda3/lib/python3.11/site-packages/scanpy/preprocessing/_simple.py:139: ImplicitModificationWarning: Trying to modify attribute `.obs` of view, initializing view as actual.\n",
      "  adata.obs['n_genes'] = number\n",
      "/Users/rainsunny/.local/lib/python3.11/site-packages/anndata/_core/anndata.py:1113: FutureWarning: is_categorical_dtype is deprecated and will be removed in a future version. Use isinstance(dtype, CategoricalDtype) instead\n",
      "  if not is_categorical_dtype(df_full[k]):\n",
      "/Users/rainsunny/.local/lib/python3.11/site-packages/anndata/_core/anndata.py:1113: FutureWarning: is_categorical_dtype is deprecated and will be removed in a future version. Use isinstance(dtype, CategoricalDtype) instead\n",
      "  if not is_categorical_dtype(df_full[k]):\n",
      "/Users/rainsunny/.local/lib/python3.11/site-packages/anndata/_core/anndata.py:1113: FutureWarning: is_categorical_dtype is deprecated and will be removed in a future version. Use isinstance(dtype, CategoricalDtype) instead\n",
      "  if not is_categorical_dtype(df_full[k]):\n",
      "/Users/rainsunny/.local/lib/python3.11/site-packages/anndata/_core/anndata.py:1113: FutureWarning: is_categorical_dtype is deprecated and will be removed in a future version. Use isinstance(dtype, CategoricalDtype) instead\n",
      "  if not is_categorical_dtype(df_full[k]):\n",
      "GPU available: False, used: False\n",
      "TPU available: False, using: 0 TPU cores\n",
      "IPU available: False, using: 0 IPUs\n",
      "HPU available: False, using: 0 HPUs\n"
     ]
    },
    {
     "name": "stdout",
     "output_type": "stream",
     "text": [
      "Epoch 400/400: 100%|█| 400/400 [07:15<00:00,  1.27s/it, v_num=1, train_loss_step"
     ]
    },
    {
     "name": "stderr",
     "output_type": "stream",
     "text": [
      "`Trainer.fit` stopped: `max_epochs=400` reached.\n"
     ]
    },
    {
     "name": "stdout",
     "output_type": "stream",
     "text": [
      "Epoch 400/400: 100%|█| 400/400 [07:15<00:00,  1.09s/it, v_num=1, train_loss_step\n",
      "\u001b[34mINFO    \u001b[0m Creating doublets, preparing SOLO model.                                                                  \n"
     ]
    },
    {
     "name": "stderr",
     "output_type": "stream",
     "text": [
      "/Users/rainsunny/.local/lib/python3.11/site-packages/anndata/_core/merge.py:217: FutureWarning: is_categorical_dtype is deprecated and will be removed in a future version. Use isinstance(dtype, CategoricalDtype) instead\n",
      "  if pd.api.types.is_categorical_dtype(dtype):\n",
      "GPU available: False, used: False\n",
      "TPU available: False, using: 0 TPU cores\n",
      "IPU available: False, using: 0 IPUs\n",
      "HPU available: False, using: 0 HPUs\n"
     ]
    },
    {
     "name": "stdout",
     "output_type": "stream",
     "text": [
      "Epoch 264/400:  66%|▋| 264/400 [01:04<00:33,  4.07it/s, v_num=1, train_loss_step\n",
      "Monitored metric validation_loss did not improve in the last 30 records. Best score: 0.280. Signaling Trainer to stop.\n"
     ]
    },
    {
     "name": "stderr",
     "output_type": "stream",
     "text": [
      "/Users/rainsunny/.local/lib/python3.11/site-packages/anndata/_core/anndata.py:1113: FutureWarning: is_categorical_dtype is deprecated and will be removed in a future version. Use isinstance(dtype, CategoricalDtype) instead\n",
      "  if not is_categorical_dtype(df_full[k]):\n",
      "/Users/rainsunny/miniconda3/lib/python3.11/site-packages/scanpy/preprocessing/_simple.py:139: ImplicitModificationWarning: Trying to modify attribute `.obs` of view, initializing view as actual.\n",
      "  adata.obs['n_genes'] = number\n",
      "/Users/rainsunny/.local/lib/python3.11/site-packages/anndata/_core/anndata.py:1113: FutureWarning: is_categorical_dtype is deprecated and will be removed in a future version. Use isinstance(dtype, CategoricalDtype) instead\n",
      "  if not is_categorical_dtype(df_full[k]):\n",
      "/Users/rainsunny/.local/lib/python3.11/site-packages/anndata/_core/anndata.py:1113: FutureWarning: is_categorical_dtype is deprecated and will be removed in a future version. Use isinstance(dtype, CategoricalDtype) instead\n",
      "  if not is_categorical_dtype(df_full[k]):\n",
      "/Users/rainsunny/.local/lib/python3.11/site-packages/anndata/_core/anndata.py:1113: FutureWarning: is_categorical_dtype is deprecated and will be removed in a future version. Use isinstance(dtype, CategoricalDtype) instead\n",
      "  if not is_categorical_dtype(df_full[k]):\n",
      "/Users/rainsunny/.local/lib/python3.11/site-packages/anndata/_core/anndata.py:1113: FutureWarning: is_categorical_dtype is deprecated and will be removed in a future version. Use isinstance(dtype, CategoricalDtype) instead\n",
      "  if not is_categorical_dtype(df_full[k]):\n",
      "GPU available: False, used: False\n",
      "TPU available: False, using: 0 TPU cores\n",
      "IPU available: False, using: 0 IPUs\n",
      "HPU available: False, using: 0 HPUs\n"
     ]
    },
    {
     "name": "stdout",
     "output_type": "stream",
     "text": [
      "Epoch 400/400: 100%|█| 400/400 [07:37<00:00,  1.05s/it, v_num=1, train_loss_step"
     ]
    },
    {
     "name": "stderr",
     "output_type": "stream",
     "text": [
      "`Trainer.fit` stopped: `max_epochs=400` reached.\n"
     ]
    },
    {
     "name": "stdout",
     "output_type": "stream",
     "text": [
      "Epoch 400/400: 100%|█| 400/400 [07:37<00:00,  1.14s/it, v_num=1, train_loss_step\n",
      "\u001b[34mINFO    \u001b[0m Creating doublets, preparing SOLO model.                                                                  \n"
     ]
    },
    {
     "name": "stderr",
     "output_type": "stream",
     "text": [
      "/Users/rainsunny/.local/lib/python3.11/site-packages/anndata/_core/merge.py:217: FutureWarning: is_categorical_dtype is deprecated and will be removed in a future version. Use isinstance(dtype, CategoricalDtype) instead\n",
      "  if pd.api.types.is_categorical_dtype(dtype):\n",
      "GPU available: False, used: False\n",
      "TPU available: False, using: 0 TPU cores\n",
      "IPU available: False, using: 0 IPUs\n",
      "HPU available: False, using: 0 HPUs\n"
     ]
    },
    {
     "name": "stdout",
     "output_type": "stream",
     "text": [
      "Epoch 163/400:  41%|▍| 163/400 [00:43<01:02,  3.76it/s, v_num=1, train_loss_step\n",
      "Monitored metric validation_loss did not improve in the last 30 records. Best score: 0.253. Signaling Trainer to stop.\n"
     ]
    },
    {
     "name": "stderr",
     "output_type": "stream",
     "text": [
      "/Users/rainsunny/.local/lib/python3.11/site-packages/anndata/_core/anndata.py:1113: FutureWarning: is_categorical_dtype is deprecated and will be removed in a future version. Use isinstance(dtype, CategoricalDtype) instead\n",
      "  if not is_categorical_dtype(df_full[k]):\n",
      "/Users/rainsunny/miniconda3/lib/python3.11/site-packages/scanpy/preprocessing/_simple.py:139: ImplicitModificationWarning: Trying to modify attribute `.obs` of view, initializing view as actual.\n",
      "  adata.obs['n_genes'] = number\n",
      "/Users/rainsunny/.local/lib/python3.11/site-packages/anndata/_core/anndata.py:1113: FutureWarning: is_categorical_dtype is deprecated and will be removed in a future version. Use isinstance(dtype, CategoricalDtype) instead\n",
      "  if not is_categorical_dtype(df_full[k]):\n",
      "/Users/rainsunny/.local/lib/python3.11/site-packages/anndata/_core/anndata.py:1113: FutureWarning: is_categorical_dtype is deprecated and will be removed in a future version. Use isinstance(dtype, CategoricalDtype) instead\n",
      "  if not is_categorical_dtype(df_full[k]):\n",
      "/Users/rainsunny/.local/lib/python3.11/site-packages/anndata/_core/anndata.py:1113: FutureWarning: is_categorical_dtype is deprecated and will be removed in a future version. Use isinstance(dtype, CategoricalDtype) instead\n",
      "  if not is_categorical_dtype(df_full[k]):\n",
      "/Users/rainsunny/.local/lib/python3.11/site-packages/anndata/_core/anndata.py:1113: FutureWarning: is_categorical_dtype is deprecated and will be removed in a future version. Use isinstance(dtype, CategoricalDtype) instead\n",
      "  if not is_categorical_dtype(df_full[k]):\n",
      "GPU available: False, used: False\n",
      "TPU available: False, using: 0 TPU cores\n",
      "IPU available: False, using: 0 IPUs\n",
      "HPU available: False, using: 0 HPUs\n"
     ]
    },
    {
     "name": "stdout",
     "output_type": "stream",
     "text": [
      "Epoch 400/400: 100%|█| 400/400 [10:21<00:00,  1.55s/it, v_num=1, train_loss_step"
     ]
    },
    {
     "name": "stderr",
     "output_type": "stream",
     "text": [
      "`Trainer.fit` stopped: `max_epochs=400` reached.\n"
     ]
    },
    {
     "name": "stdout",
     "output_type": "stream",
     "text": [
      "Epoch 400/400: 100%|█| 400/400 [10:21<00:00,  1.55s/it, v_num=1, train_loss_step\n",
      "\u001b[34mINFO    \u001b[0m Creating doublets, preparing SOLO model.                                                                  \n"
     ]
    },
    {
     "name": "stderr",
     "output_type": "stream",
     "text": [
      "/Users/rainsunny/.local/lib/python3.11/site-packages/anndata/_core/merge.py:217: FutureWarning: is_categorical_dtype is deprecated and will be removed in a future version. Use isinstance(dtype, CategoricalDtype) instead\n",
      "  if pd.api.types.is_categorical_dtype(dtype):\n",
      "GPU available: False, used: False\n",
      "TPU available: False, using: 0 TPU cores\n",
      "IPU available: False, using: 0 IPUs\n",
      "HPU available: False, using: 0 HPUs\n"
     ]
    },
    {
     "name": "stdout",
     "output_type": "stream",
     "text": [
      "Epoch 183/400:  46%|▍| 183/400 [01:05<01:17,  2.81it/s, v_num=1, train_loss_step\n",
      "Monitored metric validation_loss did not improve in the last 30 records. Best score: 0.294. Signaling Trainer to stop.\n"
     ]
    },
    {
     "name": "stderr",
     "output_type": "stream",
     "text": [
      "/Users/rainsunny/.local/lib/python3.11/site-packages/anndata/_core/anndata.py:1113: FutureWarning: is_categorical_dtype is deprecated and will be removed in a future version. Use isinstance(dtype, CategoricalDtype) instead\n",
      "  if not is_categorical_dtype(df_full[k]):\n",
      "/Users/rainsunny/miniconda3/lib/python3.11/site-packages/scanpy/preprocessing/_simple.py:139: ImplicitModificationWarning: Trying to modify attribute `.obs` of view, initializing view as actual.\n",
      "  adata.obs['n_genes'] = number\n",
      "/Users/rainsunny/.local/lib/python3.11/site-packages/anndata/_core/anndata.py:1113: FutureWarning: is_categorical_dtype is deprecated and will be removed in a future version. Use isinstance(dtype, CategoricalDtype) instead\n",
      "  if not is_categorical_dtype(df_full[k]):\n",
      "/Users/rainsunny/.local/lib/python3.11/site-packages/anndata/_core/anndata.py:1113: FutureWarning: is_categorical_dtype is deprecated and will be removed in a future version. Use isinstance(dtype, CategoricalDtype) instead\n",
      "  if not is_categorical_dtype(df_full[k]):\n",
      "/Users/rainsunny/.local/lib/python3.11/site-packages/anndata/_core/anndata.py:1113: FutureWarning: is_categorical_dtype is deprecated and will be removed in a future version. Use isinstance(dtype, CategoricalDtype) instead\n",
      "  if not is_categorical_dtype(df_full[k]):\n",
      "/Users/rainsunny/.local/lib/python3.11/site-packages/anndata/_core/anndata.py:1113: FutureWarning: is_categorical_dtype is deprecated and will be removed in a future version. Use isinstance(dtype, CategoricalDtype) instead\n",
      "  if not is_categorical_dtype(df_full[k]):\n",
      "GPU available: False, used: False\n",
      "TPU available: False, using: 0 TPU cores\n",
      "IPU available: False, using: 0 IPUs\n",
      "HPU available: False, using: 0 HPUs\n"
     ]
    },
    {
     "name": "stdout",
     "output_type": "stream",
     "text": [
      "Epoch 400/400: 100%|█| 400/400 [07:03<00:00,  1.11s/it, v_num=1, train_loss_step"
     ]
    },
    {
     "name": "stderr",
     "output_type": "stream",
     "text": [
      "`Trainer.fit` stopped: `max_epochs=400` reached.\n"
     ]
    },
    {
     "name": "stdout",
     "output_type": "stream",
     "text": [
      "Epoch 400/400: 100%|█| 400/400 [07:03<00:00,  1.06s/it, v_num=1, train_loss_step\n",
      "\u001b[34mINFO    \u001b[0m Creating doublets, preparing SOLO model.                                                                  \n"
     ]
    },
    {
     "name": "stderr",
     "output_type": "stream",
     "text": [
      "/Users/rainsunny/.local/lib/python3.11/site-packages/anndata/_core/merge.py:217: FutureWarning: is_categorical_dtype is deprecated and will be removed in a future version. Use isinstance(dtype, CategoricalDtype) instead\n",
      "  if pd.api.types.is_categorical_dtype(dtype):\n",
      "GPU available: False, used: False\n",
      "TPU available: False, using: 0 TPU cores\n",
      "IPU available: False, using: 0 IPUs\n",
      "HPU available: False, using: 0 HPUs\n"
     ]
    },
    {
     "name": "stdout",
     "output_type": "stream",
     "text": [
      "Epoch 169/400:  42%|▍| 169/400 [00:42<00:58,  3.98it/s, v_num=1, train_loss_step\n",
      "Monitored metric validation_loss did not improve in the last 30 records. Best score: 0.282. Signaling Trainer to stop.\n"
     ]
    },
    {
     "name": "stderr",
     "output_type": "stream",
     "text": [
      "/Users/rainsunny/.local/lib/python3.11/site-packages/anndata/_core/anndata.py:1113: FutureWarning: is_categorical_dtype is deprecated and will be removed in a future version. Use isinstance(dtype, CategoricalDtype) instead\n",
      "  if not is_categorical_dtype(df_full[k]):\n",
      "/Users/rainsunny/miniconda3/lib/python3.11/site-packages/scanpy/preprocessing/_simple.py:139: ImplicitModificationWarning: Trying to modify attribute `.obs` of view, initializing view as actual.\n",
      "  adata.obs['n_genes'] = number\n",
      "/Users/rainsunny/.local/lib/python3.11/site-packages/anndata/_core/anndata.py:1113: FutureWarning: is_categorical_dtype is deprecated and will be removed in a future version. Use isinstance(dtype, CategoricalDtype) instead\n",
      "  if not is_categorical_dtype(df_full[k]):\n",
      "/Users/rainsunny/.local/lib/python3.11/site-packages/anndata/_core/anndata.py:1113: FutureWarning: is_categorical_dtype is deprecated and will be removed in a future version. Use isinstance(dtype, CategoricalDtype) instead\n",
      "  if not is_categorical_dtype(df_full[k]):\n",
      "/Users/rainsunny/.local/lib/python3.11/site-packages/anndata/_core/anndata.py:1113: FutureWarning: is_categorical_dtype is deprecated and will be removed in a future version. Use isinstance(dtype, CategoricalDtype) instead\n",
      "  if not is_categorical_dtype(df_full[k]):\n",
      "/Users/rainsunny/.local/lib/python3.11/site-packages/anndata/_core/anndata.py:1113: FutureWarning: is_categorical_dtype is deprecated and will be removed in a future version. Use isinstance(dtype, CategoricalDtype) instead\n",
      "  if not is_categorical_dtype(df_full[k]):\n",
      "GPU available: False, used: False\n",
      "TPU available: False, using: 0 TPU cores\n",
      "IPU available: False, using: 0 IPUs\n",
      "HPU available: False, using: 0 HPUs\n"
     ]
    },
    {
     "name": "stdout",
     "output_type": "stream",
     "text": [
      "Epoch 400/400: 100%|█| 400/400 [07:40<00:00,  1.09s/it, v_num=1, train_loss_step"
     ]
    },
    {
     "name": "stderr",
     "output_type": "stream",
     "text": [
      "`Trainer.fit` stopped: `max_epochs=400` reached.\n"
     ]
    },
    {
     "name": "stdout",
     "output_type": "stream",
     "text": [
      "Epoch 400/400: 100%|█| 400/400 [07:40<00:00,  1.15s/it, v_num=1, train_loss_step\n",
      "\u001b[34mINFO    \u001b[0m Creating doublets, preparing SOLO model.                                                                  \n"
     ]
    },
    {
     "name": "stderr",
     "output_type": "stream",
     "text": [
      "/Users/rainsunny/.local/lib/python3.11/site-packages/anndata/_core/merge.py:217: FutureWarning: is_categorical_dtype is deprecated and will be removed in a future version. Use isinstance(dtype, CategoricalDtype) instead\n",
      "  if pd.api.types.is_categorical_dtype(dtype):\n",
      "GPU available: False, used: False\n",
      "TPU available: False, using: 0 TPU cores\n",
      "IPU available: False, using: 0 IPUs\n",
      "HPU available: False, using: 0 HPUs\n"
     ]
    },
    {
     "name": "stdout",
     "output_type": "stream",
     "text": [
      "Epoch 312/400:  78%|▊| 312/400 [01:26<00:24,  3.59it/s, v_num=1, train_loss_step\n",
      "Monitored metric validation_loss did not improve in the last 30 records. Best score: 0.328. Signaling Trainer to stop.\n"
     ]
    },
    {
     "name": "stderr",
     "output_type": "stream",
     "text": [
      "/Users/rainsunny/.local/lib/python3.11/site-packages/anndata/_core/anndata.py:1113: FutureWarning: is_categorical_dtype is deprecated and will be removed in a future version. Use isinstance(dtype, CategoricalDtype) instead\n",
      "  if not is_categorical_dtype(df_full[k]):\n",
      "/Users/rainsunny/miniconda3/lib/python3.11/site-packages/scanpy/preprocessing/_simple.py:139: ImplicitModificationWarning: Trying to modify attribute `.obs` of view, initializing view as actual.\n",
      "  adata.obs['n_genes'] = number\n",
      "/Users/rainsunny/.local/lib/python3.11/site-packages/anndata/_core/anndata.py:1113: FutureWarning: is_categorical_dtype is deprecated and will be removed in a future version. Use isinstance(dtype, CategoricalDtype) instead\n",
      "  if not is_categorical_dtype(df_full[k]):\n",
      "/Users/rainsunny/.local/lib/python3.11/site-packages/anndata/_core/anndata.py:1113: FutureWarning: is_categorical_dtype is deprecated and will be removed in a future version. Use isinstance(dtype, CategoricalDtype) instead\n",
      "  if not is_categorical_dtype(df_full[k]):\n",
      "/Users/rainsunny/.local/lib/python3.11/site-packages/anndata/_core/anndata.py:1113: FutureWarning: is_categorical_dtype is deprecated and will be removed in a future version. Use isinstance(dtype, CategoricalDtype) instead\n",
      "  if not is_categorical_dtype(df_full[k]):\n",
      "/Users/rainsunny/.local/lib/python3.11/site-packages/anndata/_core/anndata.py:1113: FutureWarning: is_categorical_dtype is deprecated and will be removed in a future version. Use isinstance(dtype, CategoricalDtype) instead\n",
      "  if not is_categorical_dtype(df_full[k]):\n",
      "GPU available: False, used: False\n",
      "TPU available: False, using: 0 TPU cores\n",
      "IPU available: False, using: 0 IPUs\n",
      "HPU available: False, using: 0 HPUs\n"
     ]
    },
    {
     "name": "stdout",
     "output_type": "stream",
     "text": [
      "Epoch 400/400: 100%|█| 400/400 [05:29<00:00,  1.24it/s, v_num=1, train_loss_step"
     ]
    },
    {
     "name": "stderr",
     "output_type": "stream",
     "text": [
      "`Trainer.fit` stopped: `max_epochs=400` reached.\n"
     ]
    },
    {
     "name": "stdout",
     "output_type": "stream",
     "text": [
      "Epoch 400/400: 100%|█| 400/400 [05:29<00:00,  1.21it/s, v_num=1, train_loss_step\n",
      "\u001b[34mINFO    \u001b[0m Creating doublets, preparing SOLO model.                                                                  \n"
     ]
    },
    {
     "name": "stderr",
     "output_type": "stream",
     "text": [
      "/Users/rainsunny/.local/lib/python3.11/site-packages/anndata/_core/merge.py:217: FutureWarning: is_categorical_dtype is deprecated and will be removed in a future version. Use isinstance(dtype, CategoricalDtype) instead\n",
      "  if pd.api.types.is_categorical_dtype(dtype):\n",
      "GPU available: False, used: False\n",
      "TPU available: False, using: 0 TPU cores\n",
      "IPU available: False, using: 0 IPUs\n",
      "HPU available: False, using: 0 HPUs\n"
     ]
    },
    {
     "name": "stdout",
     "output_type": "stream",
     "text": [
      "Epoch 280/400:  70%|▋| 280/400 [00:54<00:23,  5.12it/s, v_num=1, train_loss_step\n",
      "Monitored metric validation_loss did not improve in the last 30 records. Best score: 0.249. Signaling Trainer to stop.\n"
     ]
    },
    {
     "name": "stderr",
     "output_type": "stream",
     "text": [
      "/Users/rainsunny/.local/lib/python3.11/site-packages/anndata/_core/anndata.py:1113: FutureWarning: is_categorical_dtype is deprecated and will be removed in a future version. Use isinstance(dtype, CategoricalDtype) instead\n",
      "  if not is_categorical_dtype(df_full[k]):\n",
      "/Users/rainsunny/miniconda3/lib/python3.11/site-packages/scanpy/preprocessing/_simple.py:139: ImplicitModificationWarning: Trying to modify attribute `.obs` of view, initializing view as actual.\n",
      "  adata.obs['n_genes'] = number\n",
      "/Users/rainsunny/.local/lib/python3.11/site-packages/anndata/_core/anndata.py:1113: FutureWarning: is_categorical_dtype is deprecated and will be removed in a future version. Use isinstance(dtype, CategoricalDtype) instead\n",
      "  if not is_categorical_dtype(df_full[k]):\n",
      "/Users/rainsunny/.local/lib/python3.11/site-packages/anndata/_core/anndata.py:1113: FutureWarning: is_categorical_dtype is deprecated and will be removed in a future version. Use isinstance(dtype, CategoricalDtype) instead\n",
      "  if not is_categorical_dtype(df_full[k]):\n",
      "/Users/rainsunny/.local/lib/python3.11/site-packages/anndata/_core/anndata.py:1113: FutureWarning: is_categorical_dtype is deprecated and will be removed in a future version. Use isinstance(dtype, CategoricalDtype) instead\n",
      "  if not is_categorical_dtype(df_full[k]):\n",
      "/Users/rainsunny/.local/lib/python3.11/site-packages/anndata/_core/anndata.py:1113: FutureWarning: is_categorical_dtype is deprecated and will be removed in a future version. Use isinstance(dtype, CategoricalDtype) instead\n",
      "  if not is_categorical_dtype(df_full[k]):\n",
      "GPU available: False, used: False\n",
      "TPU available: False, using: 0 TPU cores\n",
      "IPU available: False, using: 0 IPUs\n",
      "HPU available: False, using: 0 HPUs\n"
     ]
    },
    {
     "name": "stdout",
     "output_type": "stream",
     "text": [
      "Epoch 104/400:  26%|▎| 103/400 [00:53<02:36,  1.90it/s, v_num=1, train_loss_step"
     ]
    }
   ],
   "source": [
    "out = []\n",
    "for file in os.listdir('/Users/rainsunny/Desktop/Single-cell-analysis/GSE171524_RAW/'):\n",
    "    out.append(pp('/Users/rainsunny/Desktop/Single-cell-analysis/GSE171524_RAW/' + file))"
   ]
  },
  {
   "cell_type": "code",
   "execution_count": null,
   "id": "2406d2c7",
   "metadata": {},
   "outputs": [],
   "source": [
    "adata = sc.concat(out)  #concate all the samples"
   ]
  },
  {
   "cell_type": "code",
   "execution_count": null,
   "id": "6d339b1d",
   "metadata": {},
   "outputs": [],
   "source": [
    "adata"
   ]
  },
  {
   "cell_type": "code",
   "execution_count": null,
   "id": "8bcdc703",
   "metadata": {},
   "outputs": [],
   "source": [
    "sc.pp.filter_genes(adata, min_cells = 10)"
   ]
  },
  {
   "cell_type": "code",
   "execution_count": null,
   "id": "aa1f526b",
   "metadata": {},
   "outputs": [],
   "source": [
    "adata.X"
   ]
  },
  {
   "cell_type": "code",
   "execution_count": null,
   "id": "f9f527ea",
   "metadata": {},
   "outputs": [],
   "source": [
    "from scipy.sparse import csr_matrix #save the memory"
   ]
  },
  {
   "cell_type": "code",
   "execution_count": null,
   "id": "9f5ea93e",
   "metadata": {},
   "outputs": [],
   "source": [
    "adata.X = csr_matrix(adata.X)"
   ]
  },
  {
   "cell_type": "code",
   "execution_count": null,
   "id": "1c4e0943",
   "metadata": {},
   "outputs": [],
   "source": [
    "adata.X"
   ]
  },
  {
   "cell_type": "code",
   "execution_count": null,
   "id": "351e4f9a",
   "metadata": {},
   "outputs": [],
   "source": [
    "adata.write_h5ad('combined.h5ad')"
   ]
  },
  {
   "cell_type": "code",
   "execution_count": null,
   "id": "3227d546",
   "metadata": {},
   "outputs": [],
   "source": []
  },
  {
   "cell_type": "code",
   "execution_count": null,
   "id": "0a4ead6e",
   "metadata": {},
   "outputs": [],
   "source": [
    "import scanpy as sc\n",
    "import scvi\n",
    "import seaborn as sns\n",
    "import numpy as np\n",
    "import pandas as pd"
   ]
  },
  {
   "cell_type": "code",
   "execution_count": null,
   "id": "966dad1e",
   "metadata": {},
   "outputs": [],
   "source": [
    "adata = sc.read_h5ad('combined.h5ad')\n",
    "adata"
   ]
  },
  {
   "cell_type": "code",
   "execution_count": null,
   "id": "98337dfa",
   "metadata": {},
   "outputs": [],
   "source": [
    "adata.obs.groupby('Sample').count()"
   ]
  },
  {
   "cell_type": "code",
   "execution_count": null,
   "id": "f6c9f806",
   "metadata": {},
   "outputs": [],
   "source": [
    "sc.pp.filter_genes(adata, min_cells = 100)"
   ]
  },
  {
   "cell_type": "code",
   "execution_count": null,
   "id": "d1b75ca5",
   "metadata": {},
   "outputs": [],
   "source": [
    "adata"
   ]
  },
  {
   "cell_type": "code",
   "execution_count": null,
   "id": "6d4e1d2a",
   "metadata": {},
   "outputs": [],
   "source": [
    "adata.layers['counts'] = adata.X.copy() #save the raw data"
   ]
  },
  {
   "cell_type": "code",
   "execution_count": null,
   "id": "11324620",
   "metadata": {},
   "outputs": [],
   "source": [
    "sc.pp.normalize_total(adata, target_sum = 1e4) #normalize\n",
    "sc.pp.log1p(adata)\n",
    "adata.raw = adata"
   ]
  },
  {
   "cell_type": "code",
   "execution_count": null,
   "id": "c159238d",
   "metadata": {},
   "outputs": [],
   "source": [
    "adata.obs.head()"
   ]
  },
  {
   "cell_type": "code",
   "execution_count": null,
   "id": "b3ee09c9",
   "metadata": {},
   "outputs": [],
   "source": [
    "adata"
   ]
  },
  {
   "cell_type": "code",
   "execution_count": null,
   "id": "1a9c123b",
   "metadata": {},
   "outputs": [],
   "source": [
    "scvi.model.SCVI.setup_anndata(adata, layer = \"counts\",\n",
    "                             categorical_covariate_keys=[\"Sample\"],\n",
    "                             continuous_covariate_keys=['pct_counts_mt', 'total_counts', 'pct_counts_ribo'])"
   ]
  },
  {
   "cell_type": "code",
   "execution_count": null,
   "id": "672908b0",
   "metadata": {},
   "outputs": [],
   "source": [
    "model = scvi.model.SCVI(adata)"
   ]
  },
  {
   "cell_type": "code",
   "execution_count": null,
   "id": "8af53a6a",
   "metadata": {},
   "outputs": [],
   "source": [
    "model.train() #may take a while without GPU"
   ]
  },
  {
   "cell_type": "code",
   "execution_count": null,
   "id": "a53ac0d0",
   "metadata": {},
   "outputs": [],
   "source": [
    "adata.obsm['X_scVI'] = model.get_latent_representation()"
   ]
  },
  {
   "cell_type": "code",
   "execution_count": null,
   "id": "5bf11d9f",
   "metadata": {},
   "outputs": [],
   "source": [
    "adata.layers['scvi_normalized'] = model.get_normalized_expression(library_size = 1e4)"
   ]
  },
  {
   "cell_type": "code",
   "execution_count": null,
   "id": "386ccd93",
   "metadata": {},
   "outputs": [],
   "source": [
    "sc.pp.neighbors(adata, use_rep = 'X_scVI')"
   ]
  },
  {
   "cell_type": "code",
   "execution_count": null,
   "id": "6f98c662",
   "metadata": {},
   "outputs": [],
   "source": [
    "sc.tl.umap(adata)\n",
    "sc.tl.leiden(adata, resolution = 0.5)"
   ]
  },
  {
   "cell_type": "code",
   "execution_count": null,
   "id": "ae824474",
   "metadata": {},
   "outputs": [],
   "source": [
    "sc.pl.umap(adata, color = ['leiden', 'Sample'], frameon = False)"
   ]
  },
  {
   "cell_type": "code",
   "execution_count": null,
   "id": "1085a864",
   "metadata": {},
   "outputs": [],
   "source": [
    "adata.write_h5ad('integrated.h5ad')"
   ]
  },
  {
   "cell_type": "markdown",
   "id": "fa6f6459",
   "metadata": {},
   "source": [
    "# Find markers"
   ]
  },
  {
   "cell_type": "code",
   "execution_count": null,
   "id": "c670392d",
   "metadata": {},
   "outputs": [],
   "source": [
    "sc.tl.leiden(adata, resolution = 1)"
   ]
  },
  {
   "cell_type": "code",
   "execution_count": null,
   "id": "17d4e7f5",
   "metadata": {},
   "outputs": [],
   "source": [
    "sc.tl.rank_genes_groups(adata, 'leiden')"
   ]
  },
  {
   "cell_type": "code",
   "execution_count": null,
   "id": "6fa6f2ca",
   "metadata": {},
   "outputs": [],
   "source": [
    "markers = sc.get.rank_genes_groups_df(adata, None)\n",
    "markers = markers[(markers.pvals_adj < 0.05) & (markers.logfoldchanges > .5)]\n",
    "markers"
   ]
  },
  {
   "cell_type": "code",
   "execution_count": null,
   "id": "9079d5d7",
   "metadata": {},
   "outputs": [],
   "source": [
    "markers_scvi = model.differential_expression(groupby = 'leiden')\n",
    "markers_scvi"
   ]
  },
  {
   "cell_type": "code",
   "execution_count": null,
   "id": "27f7b0f3",
   "metadata": {},
   "outputs": [],
   "source": [
    "markers_scvi = markers_scvi[(markers_scvi['is_de_fdr_0.05']) & (markers_scvi.lfc_mean > .5)]\n",
    "markers_scvi"
   ]
  },
  {
   "cell_type": "code",
   "execution_count": null,
   "id": "86e0731d",
   "metadata": {},
   "outputs": [],
   "source": [
    "sc.pl.umap(adata, color = ['leiden'], frameon = False, legend_loc = \"on data\")"
   ]
  },
  {
   "cell_type": "code",
   "execution_count": null,
   "id": "d1ede423",
   "metadata": {},
   "outputs": [],
   "source": [
    "sc.pl.umap(adata, color = ['EPCAM', 'MUC1'], frameon = False, layer = 'scvi_normalized', vmax = 5)\n",
    "#, layer = 'scvi_normalized'"
   ]
  },
  {
   "cell_type": "code",
   "execution_count": null,
   "id": "65c701cf",
   "metadata": {},
   "outputs": [],
   "source": [
    "cell_type = {\"0\":\"Macrophage\",\n",
    "\"1\":\"Fibroblast\",\n",
    "\"2\":\"CD4+ T-cell\",\n",
    "\"3\":\"AT2\",\n",
    "\"4\":\"AT1\",\n",
    "\"5\":\"CD8+ T-cell\",\n",
    "\"6\":\"Endothelial cell\",\n",
    "\"7\":\"Plasma cell\",\n",
    "\"8\":\"Macrophage\",\n",
    "\"9\":\"AT2\",\n",
    "\"10\":\"Fibroblast\",\n",
    "\"11\":\"Fibroblast\",\n",
    "\"12\":\"Macrophage\",\n",
    "\"13\":\"Macrophage\",\n",
    "\"14\":\"Airway epithelial\",\n",
    "\"15\":\"Airway epithelial\",\n",
    "\"16\":\"Monocyte\",\n",
    "\"17\":\"Airway epithelial\",\n",
    "\"18\":\"B-cell\",\n",
    "\"19\":\"Aerocyte\",\n",
    "\"20\":\"Airway epithelial\",\n",
    "\"21\":\"Smooth muscle cell\",\n",
    "\"22\":\"Cycling T/NK\",\n",
    "\"23\":\"Neuronal cell\",\n",
    "\"24\":\"Denditic cell\",\n",
    "\"25\":\"Pericyte\",\n",
    "\"26\":\"Fibroblast\",\n",
    "\"27\":\"Erythroid-like\",\n",
    "\"28\":\"Macrophage\"\n",
    "}\n"
   ]
  },
  {
   "cell_type": "code",
   "execution_count": null,
   "id": "80ca2d0d",
   "metadata": {},
   "outputs": [],
   "source": [
    "adata.obs['cell type'] = adata.obs.leiden.map(cell_type)"
   ]
  },
  {
   "cell_type": "code",
   "execution_count": null,
   "id": "bd369e4a",
   "metadata": {},
   "outputs": [],
   "source": [
    "sc.pl.umap(adata, color = ['cell type'], frameon = False)"
   ]
  },
  {
   "cell_type": "code",
   "execution_count": null,
   "id": "60b717b4",
   "metadata": {},
   "outputs": [],
   "source": [
    "adata"
   ]
  },
  {
   "cell_type": "code",
   "execution_count": null,
   "id": "d93a2c26",
   "metadata": {},
   "outputs": [],
   "source": [
    "adata.uns['scvi_markers'] = markers_scvi\n",
    "adata.uns['markers'] = markers"
   ]
  },
  {
   "cell_type": "code",
   "execution_count": null,
   "id": "1c1aea27",
   "metadata": {},
   "outputs": [],
   "source": [
    "adata.write_h5ad('integrated.h5ad')"
   ]
  },
  {
   "cell_type": "code",
   "execution_count": null,
   "id": "26f8cbaa",
   "metadata": {},
   "outputs": [],
   "source": [
    "model.save('model.model')"
   ]
  },
  {
   "cell_type": "markdown",
   "id": "6d8603e8",
   "metadata": {},
   "source": [
    "# Data Analysis"
   ]
  },
  {
   "cell_type": "code",
   "execution_count": null,
   "id": "43bf6fb1",
   "metadata": {},
   "outputs": [],
   "source": [
    "import scanpy as sc\n",
    "import scvi\n",
    "import seaborn as sns\n",
    "import numpy as np\n",
    "import pandas as pd"
   ]
  },
  {
   "cell_type": "code",
   "execution_count": null,
   "id": "8b1c6553",
   "metadata": {},
   "outputs": [],
   "source": [
    "adata = sc.read_h5ad('integrated.h5ad')"
   ]
  },
  {
   "cell_type": "code",
   "execution_count": null,
   "id": "6e7cb649",
   "metadata": {},
   "outputs": [],
   "source": [
    "adata.obs.Sample.unique().tolist()"
   ]
  },
  {
   "cell_type": "code",
   "execution_count": null,
   "id": "93c5c064",
   "metadata": {},
   "outputs": [],
   "source": [
    "def map_condition(x):\n",
    "    if 'cov' in x:\n",
    "        return 'COVID19'\n",
    "    else:\n",
    "        return 'control'"
   ]
  },
  {
   "cell_type": "code",
   "execution_count": null,
   "id": "b032678e",
   "metadata": {},
   "outputs": [],
   "source": [
    "adata.obs['condition'] = adata.obs.Sample.map(map_condition)\n",
    "adata.obs"
   ]
  },
  {
   "cell_type": "code",
   "execution_count": null,
   "id": "5b9241a9",
   "metadata": {},
   "outputs": [],
   "source": [
    "num_tot_cells = adata.obs.groupby(['Sample']).count()\n",
    "num_tot_cells = dict(zip(num_tot_cells.index, num_tot_cells.doublet))\n",
    "num_tot_cells"
   ]
  },
  {
   "cell_type": "code",
   "execution_count": null,
   "id": "f6d0ef36",
   "metadata": {},
   "outputs": [],
   "source": [
    "cell_type_counts = adata.obs.groupby(['Sample', 'condition', 'cell type']).count()\n",
    "cell_type_counts = cell_type_counts[cell_type_counts.sum(axis = 1) > 0].reset_index()\n",
    "cell_type_counts = cell_type_counts[cell_type_counts.columns[0:4]]\n",
    "cell_type_counts"
   ]
  },
  {
   "cell_type": "code",
   "execution_count": null,
   "id": "c2bb41dd",
   "metadata": {},
   "outputs": [],
   "source": [
    "cell_type_counts['total_cells'] = cell_type_counts.Sample.map(num_tot_cells).astype(int)\n",
    "\n",
    "cell_type_counts['frequency'] = cell_type_counts.doublet / cell_type_counts.total_cells\n",
    "\n",
    "cell_type_counts"
   ]
  },
  {
   "cell_type": "code",
   "execution_count": null,
   "id": "285981d0",
   "metadata": {},
   "outputs": [],
   "source": [
    "import matplotlib.pyplot as plt\n",
    "\n",
    "plt.figure(figsize = (10,4))\n",
    "\n",
    "ax = sns.boxplot(data = cell_type_counts, x = 'cell type', y = 'frequency', hue = 'condition')\n",
    "\n",
    "plt.xticks(rotation = 35, rotation_mode = 'anchor', ha = 'right')\n",
    "\n",
    "plt.show()\n"
   ]
  },
  {
   "cell_type": "markdown",
   "id": "3f064b3c",
   "metadata": {},
   "source": [
    "# DE"
   ]
  },
  {
   "cell_type": "code",
   "execution_count": null,
   "id": "979748a0",
   "metadata": {},
   "outputs": [],
   "source": [
    "subset = adata[adata.obs['cell type'].isin(['AT1', 'AT2'])].copy()"
   ]
  },
  {
   "cell_type": "code",
   "execution_count": null,
   "id": "b07dfaa3",
   "metadata": {},
   "outputs": [],
   "source": [
    "import diffxpy.api as de"
   ]
  },
  {
   "cell_type": "code",
   "execution_count": null,
   "id": "632e9b5f",
   "metadata": {},
   "outputs": [],
   "source": [
    "subset.X = subset.X.toarray()"
   ]
  },
  {
   "cell_type": "code",
   "execution_count": null,
   "id": "854245de",
   "metadata": {},
   "outputs": [],
   "source": [
    "len(subset.var)"
   ]
  },
  {
   "cell_type": "code",
   "execution_count": null,
   "id": "70c27885",
   "metadata": {},
   "outputs": [],
   "source": [
    "subset"
   ]
  },
  {
   "cell_type": "code",
   "execution_count": null,
   "id": "81182e74",
   "metadata": {},
   "outputs": [],
   "source": [
    "sc.pp.filter_genes(subset, min_cells=100)"
   ]
  },
  {
   "cell_type": "code",
   "execution_count": null,
   "id": "ddc71167",
   "metadata": {},
   "outputs": [],
   "source": [
    "len(subset.var)"
   ]
  },
  {
   "cell_type": "code",
   "execution_count": null,
   "id": "37633304",
   "metadata": {},
   "outputs": [],
   "source": [
    "subset.obs = subset.obs.rename(columns = {'cell type':'cell_type'})"
   ]
  },
  {
   "cell_type": "code",
   "execution_count": null,
   "id": "558b7b30",
   "metadata": {},
   "outputs": [],
   "source": [
    "subset.obs"
   ]
  },
  {
   "cell_type": "code",
   "execution_count": null,
   "id": "9629c27a",
   "metadata": {},
   "outputs": [],
   "source": [
    "#if want to test between covid/non covid\n",
    "# res = de.test.wald(data=subset,\n",
    "#              formula_loc= '~ 1 + condition',\n",
    "#              factor_loc_totest='condition'\n",
    "#                   )\n",
    "\n",
    "\n",
    "res = de.test.wald(data=subset,\n",
    "             formula_loc= '~ 1 + cell_type',\n",
    "             factor_loc_totest='cell_type'\n",
    "                  )"
   ]
  },
  {
   "cell_type": "code",
   "execution_count": null,
   "id": "9639ee62",
   "metadata": {},
   "outputs": [],
   "source": [
    "dedf = res.summary().sort_values('log2fc', ascending = False).reset_index(drop = True)\n",
    "dedf"
   ]
  },
  {
   "cell_type": "code",
   "execution_count": null,
   "id": "d8e1f431",
   "metadata": {},
   "outputs": [],
   "source": [
    "subset.obs.cell_type.unique()"
   ]
  },
  {
   "cell_type": "code",
   "execution_count": null,
   "id": "9485e6a2",
   "metadata": {},
   "outputs": [],
   "source": [
    "most_up = dedf.iloc[0].gene\n",
    "i = np.where(subset.var_names == most_up)[0][0]\n",
    "\n",
    "a = subset[subset.obs.cell_type == 'AT1'].X[:, i]\n",
    "b = subset[subset.obs.cell_type == 'AT2'].X[:, i]\n",
    "print(f\"{most_up} expression:\")\n",
    "print(f\"AT1: {a.mean()}\")\n",
    "print(f\"AT2: {b.mean()}\")\n"
   ]
  },
  {
   "cell_type": "code",
   "execution_count": null,
   "id": "a500d60f",
   "metadata": {},
   "outputs": [],
   "source": [
    "dedf['log2fc'] = dedf['log2fc']*-1\n",
    "dedf = dedf.sort_values('log2fc', ascending = False).reset_index(drop = True)\n",
    "dedf"
   ]
  },
  {
   "cell_type": "code",
   "execution_count": null,
   "id": "5c2a01ca",
   "metadata": {},
   "outputs": [],
   "source": [
    "dedf = dedf[(dedf.qval < 0.05) & (abs(dedf.log2fc) > .5)]\n",
    "dedf"
   ]
  },
  {
   "cell_type": "code",
   "execution_count": null,
   "id": "89b1490a",
   "metadata": {},
   "outputs": [],
   "source": [
    "dedf = dedf[dedf['mean'] > 0.15]\n",
    "dedf"
   ]
  },
  {
   "cell_type": "code",
   "execution_count": null,
   "id": "208a0fab",
   "metadata": {},
   "outputs": [],
   "source": [
    "genes_to_show = dedf[-25:].gene.tolist() + dedf[:25].gene.tolist() #top 25 and bottom 25 from sorted df"
   ]
  },
  {
   "cell_type": "code",
   "execution_count": null,
   "id": "2869c12e",
   "metadata": {},
   "outputs": [],
   "source": [
    "sc.pl.heatmap(subset, genes_to_show, groupby='cell_type', swap_axes=True)"
   ]
  },
  {
   "cell_type": "code",
   "execution_count": null,
   "id": "227c8906",
   "metadata": {},
   "outputs": [],
   "source": [
    "model  = scvi.model.SCVI.load('model.model', adata)"
   ]
  },
  {
   "cell_type": "code",
   "execution_count": null,
   "id": "50965097",
   "metadata": {},
   "outputs": [],
   "source": [
    "model"
   ]
  },
  {
   "cell_type": "code",
   "execution_count": null,
   "id": "b508fd9f",
   "metadata": {},
   "outputs": [],
   "source": [
    "scvi_de = model.differential_expression(\n",
    "    idx1 = [adata.obs['cell type'] == 'AT1'],\n",
    "    idx2 = [adata.obs['cell type'] == 'AT2']\n",
    "    )\n",
    "\n",
    "#any set of cells vs any set of cells\n",
    "# scvi_de = model.differential_expression(\n",
    "#     idx1 = [(adata.obs['cell type'].isin(['AT1', 'AT2'])) & (adata.obs.condition == 'COVID19')],\n",
    "#     idx2 = [(adata.obs['cell type'].isin(['AT1', 'AT2'])) & (adata.obs.condition == 'control')]\n",
    "#     )"
   ]
  },
  {
   "cell_type": "code",
   "execution_count": null,
   "id": "1e3efff1",
   "metadata": {},
   "outputs": [],
   "source": [
    "scvi_de"
   ]
  },
  {
   "cell_type": "code",
   "execution_count": null,
   "id": "2a22c060",
   "metadata": {},
   "outputs": [],
   "source": [
    "scvi_de = scvi_de[(scvi_de['is_de_fdr_0.05']) & (abs(scvi_de.lfc_mean) > .5)]\n",
    "scvi_de = scvi_de.sort_values('lfc_mean')\n",
    "scvi_de"
   ]
  },
  {
   "cell_type": "code",
   "execution_count": null,
   "id": "1fef53d5",
   "metadata": {},
   "outputs": [],
   "source": [
    "scvi_de = scvi_de[(scvi_de.raw_normalized_mean1 > .5) | (scvi_de.raw_normalized_mean2 > .5)]\n",
    "scvi_de"
   ]
  },
  {
   "cell_type": "code",
   "execution_count": null,
   "id": "60683aa7",
   "metadata": {},
   "outputs": [],
   "source": [
    "genes_to_show = scvi_de[-25:].index.tolist() + scvi_de[:25].index.tolist() #top 25 and bottom 25 from sorted df\n"
   ]
  },
  {
   "cell_type": "code",
   "execution_count": null,
   "id": "f3e5bc20",
   "metadata": {},
   "outputs": [],
   "source": [
    "\n",
    "sc.pl.heatmap(subset, genes_to_show, groupby='cell_type', swap_axes=True, layer = 'scvi_normalized',\n",
    "              log = True)"
   ]
  },
  {
   "cell_type": "markdown",
   "id": "22806d68",
   "metadata": {},
   "source": [
    "# Go enrichment"
   ]
  },
  {
   "cell_type": "code",
   "execution_count": null,
   "id": "0ea929bb",
   "metadata": {},
   "outputs": [],
   "source": [
    "import gseapy as gp #this method requires internet connection"
   ]
  },
  {
   "cell_type": "code",
   "execution_count": null,
   "id": "23699c69",
   "metadata": {},
   "outputs": [],
   "source": [
    "gp.get_library_name()\n",
    "# 'GO_Biological_Process_2021',\n",
    "#'KEGG_2021_Human',"
   ]
  },
  {
   "cell_type": "code",
   "execution_count": null,
   "id": "84110682",
   "metadata": {},
   "outputs": [],
   "source": [
    "subset"
   ]
  },
  {
   "cell_type": "code",
   "execution_count": null,
   "id": "7002ffd5",
   "metadata": {},
   "outputs": [],
   "source": [
    "enr = gp.enrichr(gene_list= dedf[dedf.log2fc > 0].gene.tolist(),\n",
    "                 gene_sets=['KEGG_2021_Human','GO_Biological_Process_2021'],\n",
    "                 organism='human', # don't forget to set organism to the one you desired!\n",
    "                 outdir=None, # don't write to disk,\n",
    "                 background = subset.var_names.tolist()\n",
    "                )"
   ]
  },
  {
   "cell_type": "code",
   "execution_count": null,
   "id": "11137e83",
   "metadata": {},
   "outputs": [],
   "source": [
    "enr.results"
   ]
  },
  {
   "cell_type": "markdown",
   "id": "f5ca2508",
   "metadata": {},
   "source": [
    "### Comparisons"
   ]
  },
  {
   "cell_type": "code",
   "execution_count": null,
   "id": "0965fdd9",
   "metadata": {},
   "outputs": [],
   "source": [
    "sc.pl.violin(subset[subset.obs.cell_type == 'AT2'], 'ETV5', groupby='condition')"
   ]
  },
  {
   "cell_type": "code",
   "execution_count": null,
   "id": "07d48165",
   "metadata": {},
   "outputs": [],
   "source": [
    "from scipy import stats"
   ]
  },
  {
   "cell_type": "code",
   "execution_count": null,
   "id": "34b40f43",
   "metadata": {},
   "outputs": [],
   "source": [
    "temp = subset[subset.obs.cell_type == 'AT2']\n",
    "\n",
    "i = np.where(temp.var_names == 'ETV5')[0][0]"
   ]
  },
  {
   "cell_type": "code",
   "execution_count": null,
   "id": "47cb0171",
   "metadata": {},
   "outputs": [],
   "source": [
    "a = temp[temp.obs.condition == 'COVID19'].X[:,i]\n",
    "b = temp[temp.obs.condition == 'control'].X[:,i]"
   ]
  },
  {
   "cell_type": "code",
   "execution_count": null,
   "id": "75b6447f",
   "metadata": {},
   "outputs": [],
   "source": [
    "stats.mannwhitneyu(a, b)"
   ]
  },
  {
   "cell_type": "markdown",
   "id": "2f025bfc",
   "metadata": {},
   "source": [
    "## Score gene signature"
   ]
  },
  {
   "cell_type": "code",
   "execution_count": null,
   "id": "e82723fe",
   "metadata": {},
   "outputs": [],
   "source": [
    "#gene signature, ie, input list of genes from user\n",
    "with open('datp_sig.txt') as f:\n",
    "    datp_sig = [x.strip() for x in list(f)]\n"
   ]
  },
  {
   "cell_type": "code",
   "execution_count": null,
   "id": "c312b9de",
   "metadata": {},
   "outputs": [],
   "source": [
    "sc.tl.score_genes(subset, datp_sig, score_name = 'datp')"
   ]
  },
  {
   "cell_type": "code",
   "execution_count": null,
   "id": "6e5682c4",
   "metadata": {},
   "outputs": [],
   "source": [
    "subset.obs"
   ]
  },
  {
   "cell_type": "code",
   "execution_count": null,
   "id": "341b9fdb",
   "metadata": {},
   "outputs": [],
   "source": [
    "sc.pl.violin(subset, 'datp', groupby='condition')"
   ]
  },
  {
   "cell_type": "code",
   "execution_count": null,
   "id": "bba86fee",
   "metadata": {},
   "outputs": [],
   "source": [
    "a = subset[subset.obs.condition == 'COVID19'].obs.datp.values\n",
    "b = subset[subset.obs.condition == 'control'].obs.datp.values\n",
    "stats.mannwhitneyu(a, b)"
   ]
  },
  {
   "cell_type": "code",
   "execution_count": null,
   "id": "3dac52e4",
   "metadata": {},
   "outputs": [],
   "source": [
    "sc.pl.umap(subset, color = 'datp', vmax = 1)"
   ]
  },
  {
   "cell_type": "code",
   "execution_count": null,
   "id": "55b146f7",
   "metadata": {},
   "outputs": [],
   "source": [
    "from matplotlib.pyplot import rc_context\n"
   ]
  },
  {
   "cell_type": "code",
   "execution_count": null,
   "id": "672a7cfd",
   "metadata": {},
   "outputs": [],
   "source": [
    "with rc_context({'figure.figsize': (8,8)}):\n",
    "    sc.pl.umap(adata, color = ['cell type'], frameon = False, s = 5, legend_loc = 'on data',\n",
    "              legend_fontsize=12, legend_fontoutline=2)"
   ]
  },
  {
   "cell_type": "code",
   "execution_count": null,
   "id": "63201c7b",
   "metadata": {},
   "outputs": [],
   "source": [
    "with rc_context({'figure.figsize': (8,8)}):\n",
    "    sc.pl.umap(adata, color = ['MUC1'], frameon = False, layer = 'scvi_normalized', vmax = 5, s = 5)"
   ]
  },
  {
   "cell_type": "code",
   "execution_count": null,
   "id": "610a9137",
   "metadata": {},
   "outputs": [],
   "source": []
  }
 ],
 "metadata": {
  "kernelspec": {
   "display_name": "Python 3 (ipykernel)",
   "language": "python",
   "name": "python3"
  },
  "language_info": {
   "codemirror_mode": {
    "name": "ipython",
    "version": 3
   },
   "file_extension": ".py",
   "mimetype": "text/x-python",
   "name": "python",
   "nbconvert_exporter": "python",
   "pygments_lexer": "ipython3",
   "version": "3.11.4"
  }
 },
 "nbformat": 4,
 "nbformat_minor": 5
}
